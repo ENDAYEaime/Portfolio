{
 "cells": [
  {
   "cell_type": "markdown",
   "metadata": {
    "id": "7dh5T3T_EzgA"
   },
   "source": [
    "---\n",
    "<img src=\"https://asset.brandfetch.io/idvDrMBg3m/idgDR62lX4.png\" alt=\"Logo Data Rockstars\" width=\"274\" height=\"80\">\n",
    "\n",
    "### 🔒 Le contenu de ce document est confidentiel. 📝\n",
    "_Le contenu de ce document est confidentiel et la copie ou la distribution est interdite._ 😶‍🌫️\n",
    "\n",
    "📧 Pour toute question, veuillez nous contacter à [contact@datarockstars.ai](mailto:contact@datarockstars.ai)\n",
    "\n",
    "---\n",
    "# Le programme du notebook\n",
    "\n",
    "**📖 Au programme**\n",
    "- Cours guidé pour apprendre en s'exerçant\n",
    "- Exercices avec différents niveaux\n",
    "- Exercices avancés : pour aller plus loin\n",
    "\n",
    "**🎁 Les takeaways**\n",
    "- Accès à la plateforme\n",
    "- Notebooks\n",
    "- Snippets penses bêtes de code que vous pouvez garder à vie\n",
    "\n",
    "---\n",
    "\n",
    "🔰 Démarrez en exécutant chaque segment de code un à un et en analysant les résultats affichés. \n",
    "\n",
    "--- \n",
    "A vous de jouer 😎✌️"
   ]
  },
  {
   "cell_type": "markdown",
   "metadata": {
    "id": "dU_B8iK9LTwH"
   },
   "source": [
    "## 1. Les librairies à importer"
   ]
  },
  {
   "cell_type": "code",
   "execution_count": 1,
   "metadata": {
    "colab": {
     "base_uri": "https://localhost:8080/"
    },
    "executionInfo": {
     "elapsed": 7,
     "status": "ok",
     "timestamp": 1686226315996,
     "user": {
      "displayName": "Marouan de DATAROCKSTARS.AI",
      "userId": "05668599582831202057"
     },
     "user_tz": -120
    },
    "id": "R5S0WpGCE5io",
    "outputId": "dc5ab97d-881d-423d-e007-1ef59ff22a00"
   },
   "outputs": [
    {
     "name": "stdout",
     "output_type": "stream",
     "text": [
      "1.26.4\n"
     ]
    }
   ],
   "source": [
    "# importer numpy\n",
    "import numpy as np\n",
    "\n",
    "# afficher la version de numpy\n",
    "print(np.__version__)\n",
    "\n",
    "# afficher la configuration de numpy (non nécessaire)\n",
    "# np.show_config()\n",
    "\n",
    "import pandas as pd"
   ]
  },
  {
   "cell_type": "markdown",
   "metadata": {
    "id": "Ei_k23_7Lei0"
   },
   "source": [
    "## 2. Cours"
   ]
  },
  {
   "cell_type": "code",
   "execution_count": 3,
   "metadata": {
    "id": "6OJeXRifUgb9"
   },
   "outputs": [],
   "source": [
    "# Manipulation de tableau : Les indexes\n",
    "arr = np.array([1,2,3,4,5,6])"
   ]
  },
  {
   "cell_type": "code",
   "execution_count": 8,
   "metadata": {
    "colab": {
     "base_uri": "https://localhost:8080/"
    },
    "executionInfo": {
     "elapsed": 15,
     "status": "ok",
     "timestamp": 1686226369093,
     "user": {
      "displayName": "Marouan de DATAROCKSTARS.AI",
      "userId": "05668599582831202057"
     },
     "user_tz": -120
    },
    "id": "EGI56uchU05y",
    "outputId": "ce9f7b99-7fae-4156-e42c-53cd05483d84"
   },
   "outputs": [
    {
     "name": "stdout",
     "output_type": "stream",
     "text": [
      "6\n"
     ]
    }
   ],
   "source": [
    "# Accès à la première valeur du tableau\n",
    "print(arr[5])"
   ]
  },
  {
   "cell_type": "code",
   "execution_count": 5,
   "metadata": {
    "colab": {
     "base_uri": "https://localhost:8080/"
    },
    "executionInfo": {
     "elapsed": 258,
     "status": "ok",
     "timestamp": 1686226385388,
     "user": {
      "displayName": "Marouan de DATAROCKSTARS.AI",
      "userId": "05668599582831202057"
     },
     "user_tz": -120
    },
    "id": "RyxAqnuNVaor",
    "outputId": "f7c06246-18d4-4ecd-e215-9d2c7a2ff6fc"
   },
   "outputs": [
    {
     "name": "stdout",
     "output_type": "stream",
     "text": [
      "6\n"
     ]
    }
   ],
   "source": [
    "# Accès à la dernière valeur du tableau\n",
    "print(arr[-1])"
   ]
  },
  {
   "cell_type": "code",
   "execution_count": 9,
   "metadata": {
    "colab": {
     "base_uri": "https://localhost:8080/"
    },
    "executionInfo": {
     "elapsed": 248,
     "status": "ok",
     "timestamp": 1686226393780,
     "user": {
      "displayName": "Marouan de DATAROCKSTARS.AI",
      "userId": "05668599582831202057"
     },
     "user_tz": -120
    },
    "id": "zKzZsa4IWJ8q",
    "outputId": "089a5462-8977-405d-8512-066980afcd9d"
   },
   "outputs": [
    {
     "name": "stdout",
     "output_type": "stream",
     "text": [
      "[  2 999   4   5]\n"
     ]
    }
   ],
   "source": [
    "# Accès à une sous-séquence du tableau (éléments aux positions 1, 2 et 3)\n",
    "print(arr[1:5])"
   ]
  },
  {
   "cell_type": "code",
   "execution_count": 7,
   "metadata": {
    "colab": {
     "base_uri": "https://localhost:8080/"
    },
    "executionInfo": {
     "elapsed": 261,
     "status": "ok",
     "timestamp": 1686226407166,
     "user": {
      "displayName": "Marouan de DATAROCKSTARS.AI",
      "userId": "05668599582831202057"
     },
     "user_tz": -120
    },
    "id": "y-C6Zrm3WN3B",
    "outputId": "1a94a858-b0d3-44ad-87aa-4f81bbb10622"
   },
   "outputs": [
    {
     "name": "stdout",
     "output_type": "stream",
     "text": [
      "[  1   2 999   4   5   6]\n"
     ]
    }
   ],
   "source": [
    "# Modification de la valeur à la position 2\n",
    "arr[2] = 999\n",
    "print(arr)"
   ]
  },
  {
   "cell_type": "markdown",
   "metadata": {
    "id": "qNsAgOQDYS1z",
    "jp-MarkdownHeadingCollapsed": true
   },
   "source": [
    "#### **Qu'est ce que le slicing ?**\n",
    "Explication supplémentaire sur le découpage (slicing). <br>\n",
    "La syntaxe générale pour le découpage est `arr[start:stop:step]`.\n",
    "\n",
    "\n",
    "*   `start` est l'indice à partir duquel commencer le découpage.\n",
    "*   `stop` est l'indice jusqu'auquel aller (non inclus).\n",
    "*   `step` est l'intervalle entre chaque élément à prendre dans le découpage. (ne peux pas être égal à 0)\n",
    "\n",
    "\n",
    "\n"
   ]
  },
  {
   "cell_type": "code",
   "execution_count": null,
   "metadata": {
    "colab": {
     "base_uri": "https://localhost:8080/"
    },
    "executionInfo": {
     "elapsed": 283,
     "status": "ok",
     "timestamp": 1686226478496,
     "user": {
      "displayName": "Marouan de DATAROCKSTARS.AI",
      "userId": "05668599582831202057"
     },
     "user_tz": -120
    },
    "id": "U7z8wDpOWVdh",
    "outputId": "1a8fe629-a114-4e6f-dc7c-97e16f6260b6"
   },
   "outputs": [],
   "source": [
    "# Accès à chaque deuxième élément du tableau - soit prendre un élèment sur 2 en partant du début du tableau\n",
    "print(arr[::3])\n",
    "\n",
    "# Explication : start et stop sont omis, ce qui signifie que le découpage couvre tout le tableau/\n",
    "# Le step est 2, ce qui signifie qu'on prend un élément sur deux."
   ]
  },
  {
   "cell_type": "code",
   "execution_count": null,
   "metadata": {
    "colab": {
     "base_uri": "https://localhost:8080/"
    },
    "executionInfo": {
     "elapsed": 4,
     "status": "ok",
     "timestamp": 1685617180297,
     "user": {
      "displayName": "Marouan de DATAROCKSTARS.AI",
      "userId": "05668599582831202057"
     },
     "user_tz": -120
    },
    "id": "BcVzZwSULh0v",
    "outputId": "9edfd4aa-0703-460b-823b-0483f1cef75c"
   },
   "outputs": [],
   "source": [
    "# Création d'un tableau NumPy à partir d'une liste Python\n",
    "list = [1, 2, 3, 4, 5]\n",
    "numpy_array = np.array(list)\n",
    "print(numpy_array)"
   ]
  },
  {
   "cell_type": "code",
   "execution_count": null,
   "metadata": {
    "colab": {
     "base_uri": "https://localhost:8080/"
    },
    "executionInfo": {
     "elapsed": 252,
     "status": "ok",
     "timestamp": 1686226563151,
     "user": {
      "displayName": "Marouan de DATAROCKSTARS.AI",
      "userId": "05668599582831202057"
     },
     "user_tz": -120
    },
    "id": "O_IMbnfPLu0o",
    "outputId": "26f35d20-db3b-467b-b1eb-ca2838fe7882"
   },
   "outputs": [],
   "source": [
    "# Création d'un tableau 2D (aussi appelé matrice) en utilisant des listes imbriquées\n",
    "multi_dim_array = np.array([[1, 2, 3], [4, 5, 6], [7, 8, 9]])\n",
    "print(multi_dim_array)"
   ]
  },
  {
   "cell_type": "code",
   "execution_count": null,
   "metadata": {
    "colab": {
     "base_uri": "https://localhost:8080/"
    },
    "executionInfo": {
     "elapsed": 648,
     "status": "ok",
     "timestamp": 1685617184242,
     "user": {
      "displayName": "Marouan de DATAROCKSTARS.AI",
      "userId": "05668599582831202057"
     },
     "user_tz": -120
    },
    "id": "sZWKuI_-MKgT",
    "outputId": "695f01e1-c396-4cc8-cf45-e996c5a5a484"
   },
   "outputs": [],
   "source": [
    "# Utilisation de la propriété shape pour obtenir la forme (dimensions) du tableau\n",
    "print(multi_dim_array.shape)"
   ]
  },
  {
   "cell_type": "code",
   "execution_count": null,
   "metadata": {
    "colab": {
     "base_uri": "https://localhost:8080/"
    },
    "executionInfo": {
     "elapsed": 265,
     "status": "ok",
     "timestamp": 1686226671429,
     "user": {
      "displayName": "Marouan de DATAROCKSTARS.AI",
      "userId": "05668599582831202057"
     },
     "user_tz": -120
    },
    "id": "Xpm1MAF-MOQw",
    "outputId": "c6487eb3-4462-4b6e-97e4-23d89eb12b0e"
   },
   "outputs": [],
   "source": [
    "# Accès à un élément spécifique du tableau en utilisant l'indexation\n",
    "print(multi_dim_array[1, 2])  # Accès à l'élément à la première ligne, deuxième colonne"
   ]
  },
  {
   "cell_type": "code",
   "execution_count": null,
   "metadata": {
    "colab": {
     "base_uri": "https://localhost:8080/"
    },
    "executionInfo": {
     "elapsed": 226,
     "status": "ok",
     "timestamp": 1686226685300,
     "user": {
      "displayName": "Marouan de DATAROCKSTARS.AI",
      "userId": "05668599582831202057"
     },
     "user_tz": -120
    },
    "id": "zHTDbtUKMQKt",
    "outputId": "0aecf9bd-e534-40d7-f641-b1aac9182c6e"
   },
   "outputs": [],
   "source": [
    "# Création d'un tableau rempli de zéros\n",
    "zeros = np.zeros((3, 3))\n",
    "print(zeros)"
   ]
  },
  {
   "cell_type": "code",
   "execution_count": null,
   "metadata": {
    "colab": {
     "base_uri": "https://localhost:8080/"
    },
    "executionInfo": {
     "elapsed": 206,
     "status": "ok",
     "timestamp": 1685610205645,
     "user": {
      "displayName": "Marouan de DATAROCKSTARS.AI",
      "userId": "05668599582831202057"
     },
     "user_tz": -120
    },
    "id": "M9BucIElMVFC",
    "outputId": "7b3eaceb-fefa-4128-ede6-8e78625a6c3c"
   },
   "outputs": [],
   "source": [
    "# Création d'un tableau rempli de uns\n",
    "ones = np.ones((3, 3))\n",
    "print(ones)"
   ]
  },
  {
   "cell_type": "code",
   "execution_count": null,
   "metadata": {
    "colab": {
     "base_uri": "https://localhost:8080/"
    },
    "executionInfo": {
     "elapsed": 4,
     "status": "ok",
     "timestamp": 1685610207156,
     "user": {
      "displayName": "Marouan de DATAROCKSTARS.AI",
      "userId": "05668599582831202057"
     },
     "user_tz": -120
    },
    "id": "HfGEYLt_Mo7-",
    "outputId": "547e1b0a-d139-4359-ef0c-170492e272f3"
   },
   "outputs": [],
   "source": [
    "# Création d'une matrice identité (diagonale de uns, le reste est zéro)\n",
    "identity = np.eye(3)\n",
    "print(identity)"
   ]
  },
  {
   "cell_type": "code",
   "execution_count": null,
   "metadata": {
    "colab": {
     "base_uri": "https://localhost:8080/"
    },
    "executionInfo": {
     "elapsed": 223,
     "status": "ok",
     "timestamp": 1686226791546,
     "user": {
      "displayName": "Marouan de DATAROCKSTARS.AI",
      "userId": "05668599582831202057"
     },
     "user_tz": -120
    },
    "id": "I0CR_zlJMpXD",
    "outputId": "e7eedce8-9298-498b-8d2e-aab1a9de04a1"
   },
   "outputs": [],
   "source": [
    "# Démonstration de certaines opérations mathématiques de base sur les tableaux\n",
    "array1 = np.array([1, 2, 3])\n",
    "array2 = np.array([4, 5, 6])\n",
    "print(array1 + array2)\n",
    "print(array1 - array2)\n",
    "print(array1 * array2)"
   ]
  },
  {
   "cell_type": "code",
   "execution_count": null,
   "metadata": {
    "colab": {
     "base_uri": "https://localhost:8080/"
    },
    "executionInfo": {
     "elapsed": 3,
     "status": "ok",
     "timestamp": 1686226767474,
     "user": {
      "displayName": "Marouan de DATAROCKSTARS.AI",
      "userId": "05668599582831202057"
     },
     "user_tz": -120
    },
    "id": "Gn1Ib6w3Mube",
    "outputId": "03f46de4-9686-4cba-cb4d-bc79062a34a3"
   },
   "outputs": [],
   "source": [
    "# Utilisation de fonctions universelles (ufunc) pour effectuer des opérations sur les tableaux\n",
    "print(np.sqrt(array1))\n",
    "print(np.log(array1))\n",
    "print(np.exp(array1))"
   ]
  },
  {
   "cell_type": "code",
   "execution_count": null,
   "metadata": {
    "colab": {
     "base_uri": "https://localhost:8080/"
    },
    "executionInfo": {
     "elapsed": 5,
     "status": "ok",
     "timestamp": 1686226806403,
     "user": {
      "displayName": "Marouan de DATAROCKSTARS.AI",
      "userId": "05668599582831202057"
     },
     "user_tz": -120
    },
    "id": "2GtPiiJvNjYM",
    "outputId": "ab908918-84b3-4e0d-c926-f28140328c40"
   },
   "outputs": [],
   "source": [
    "# Modification de la forme d'un tableau sans changer ses données avec la méthode reshape\n",
    "reshaped_array = array1.reshape((3, 1))\n",
    "print(reshaped_array)"
   ]
  },
  {
   "cell_type": "code",
   "execution_count": null,
   "metadata": {
    "colab": {
     "base_uri": "https://localhost:8080/"
    },
    "executionInfo": {
     "elapsed": 226,
     "status": "ok",
     "timestamp": 1686226844403,
     "user": {
      "displayName": "Marouan de DATAROCKSTARS.AI",
      "userId": "05668599582831202057"
     },
     "user_tz": -120
    },
    "id": "sYu9iO_zGNrC",
    "outputId": "a825dfa6-2829-4836-e99c-bb97e091b614"
   },
   "outputs": [],
   "source": [
    "# Create a sample 2D array\n",
    "arr = np.array([[1, 2, 3],\n",
    "                [4, 5, 6],\n",
    "                [7, 8, 9]])\n",
    "\n",
    "# Add a border filled with 0's around the array\n",
    "border_width = 1  # Width of the border\n",
    "padded_arr = np.pad(arr, pad_width=border_width, mode='constant', constant_values=0)\n",
    "\n",
    "# Print the padded array\n",
    "print(padded_arr)"
   ]
  },
  {
   "cell_type": "code",
   "execution_count": null,
   "metadata": {
    "colab": {
     "base_uri": "https://localhost:8080/"
    },
    "executionInfo": {
     "elapsed": 243,
     "status": "ok",
     "timestamp": 1686226853214,
     "user": {
      "displayName": "Marouan de DATAROCKSTARS.AI",
      "userId": "05668599582831202057"
     },
     "user_tz": -120
    },
    "id": "_Q2el3nfSm0n",
    "outputId": "a6cda06c-160f-4047-ec7d-120852e9b413"
   },
   "outputs": [],
   "source": [
    "# Tri d'un tableau\n",
    "unsorted_array = np.array([2, 1, 5, 3, 7, 4])\n",
    "sorted_array = np.sort(unsorted_array)\n",
    "print(sorted_array)"
   ]
  },
  {
   "cell_type": "markdown",
   "metadata": {
    "id": "ef81B_rXT0qA"
   },
   "source": [
    "## 3. Exercices - Niveau : ★☆☆"
   ]
  },
  {
   "cell_type": "code",
   "execution_count": 12,
   "metadata": {
    "colab": {
     "base_uri": "https://localhost:8080/"
    },
    "executionInfo": {
     "elapsed": 4,
     "status": "ok",
     "timestamp": 1685616510361,
     "user": {
      "displayName": "Marouan de DATAROCKSTARS.AI",
      "userId": "05668599582831202057"
     },
     "user_tz": -120
    },
    "id": "u5dhO1sikjyM",
    "outputId": "d68af95c-3583-4511-9cf6-8d8ad6b6bfae"
   },
   "outputs": [
    {
     "name": "stdout",
     "output_type": "stream",
     "text": [
      "[10 11 12 13 14 15 16 17 18 19 20 21 22 23 24 25 26 27 28 29 30 31 32 33\n",
      " 34 35 36 37 38 39 40 41 42 43 44 45 46 47 48 49]\n"
     ]
    }
   ],
   "source": [
    "# Exercice 1 : Créer un vecteur avec des valeurs allant de 10 à 49.\n",
    "\n",
    "nom_vec = np.arange(10,50)\n",
    "print(nom_vec)"
   ]
  },
  {
   "cell_type": "markdown",
   "metadata": {
    "id": "gPy5MBjzTSjo"
   },
   "source": [
    "<details>\n",
    "    <summary> Avoir un indice 🕵️ </summary>\n",
    "\n",
    "<p>\n",
    "<pre>\n",
    "Utilisez la fonction np.arange(a,b)\n",
    "</pre>\n",
    "</details>\n",
    "\n",
    "<details>\n",
    "    <summary> Voir la réponse 🔮 </summary>\n",
    "\n",
    "<p>\n",
    "<pre>\n",
    "mon_vecteur = np.arange(10,51) # création du vecteur\n",
    "mon_vecteur # display\n",
    "</pre>\n",
    "</details>"
   ]
  },
  {
   "cell_type": "code",
   "execution_count": 13,
   "metadata": {
    "colab": {
     "base_uri": "https://localhost:8080/"
    },
    "executionInfo": {
     "elapsed": 5,
     "status": "ok",
     "timestamp": 1685616712532,
     "user": {
      "displayName": "Marouan de DATAROCKSTARS.AI",
      "userId": "05668599582831202057"
     },
     "user_tz": -120
    },
    "id": "TVqpcmmtkjtQ",
    "outputId": "9425d0bb-142e-4394-e0c6-ae4621a4c01c"
   },
   "outputs": [
    {
     "name": "stdout",
     "output_type": "stream",
     "text": [
      "[[0 1 2]\n",
      " [3 4 5]\n",
      " [6 7 8]]\n"
     ]
    }
   ],
   "source": [
    "#  Exercice 2 : Créer une matrice 3x3 avec des valeurs allant de 0 à 8.\n",
    "vecteur = np.arange(0, 9)\n",
    "matrice = vecteur.reshape(3, 3)\n",
    "print(matrice)"
   ]
  },
  {
   "cell_type": "markdown",
   "metadata": {
    "id": "xe2GjdEnn1L5"
   },
   "source": [
    "<details>\n",
    "    <summary> Avoir un indice 🕵️ </summary>\n",
    "\n",
    "<p>\n",
    "<pre>\n",
    "Utilisez la fonction reshape\n",
    "</pre>\n",
    "</details>\n",
    "\n",
    "<details>\n",
    "    <summary> Voir la réponse 🔮 </summary>\n",
    "\n",
    "<p>\n",
    "<pre>\n",
    "ma_matrice = np.arange(9).reshape(3, 3)\n",
    "ma_matrice\n",
    "</details>"
   ]
  },
  {
   "cell_type": "code",
   "execution_count": 14,
   "metadata": {
    "colab": {
     "base_uri": "https://localhost:8080/"
    },
    "executionInfo": {
     "elapsed": 10,
     "status": "ok",
     "timestamp": 1685616759038,
     "user": {
      "displayName": "Marouan de DATAROCKSTARS.AI",
      "userId": "05668599582831202057"
     },
     "user_tz": -120
    },
    "id": "HHCbA2Gykjjj",
    "outputId": "c2cc96c7-357b-4322-ac5a-b0e176d36090"
   },
   "outputs": [
    {
     "data": {
      "text/plain": [
       "array([[[0.86334372, 0.11216878, 0.48722497],\n",
       "        [0.71769483, 0.36281831, 0.5223579 ],\n",
       "        [0.89540119, 0.92389215, 0.49159015]],\n",
       "\n",
       "       [[0.91318035, 0.70646627, 0.30153547],\n",
       "        [0.45698307, 0.8947351 , 0.37067353],\n",
       "        [0.94277357, 0.55981497, 0.46418991]],\n",
       "\n",
       "       [[0.24182675, 0.25608201, 0.41376492],\n",
       "        [0.21084356, 0.64358108, 0.47169671],\n",
       "        [0.38880909, 0.81300433, 0.44042491]]])"
      ]
     },
     "execution_count": 14,
     "metadata": {},
     "output_type": "execute_result"
    }
   ],
   "source": [
    "# Exercice 3 : Créer une matrice 3D 3x3x3 avec des valeurs aléatoires.\n",
    "ma_matrice_random = np.random.random((3,3,3))\n",
    "ma_matrice_random"
   ]
  },
  {
   "cell_type": "markdown",
   "metadata": {
    "id": "8AODhhOroVcJ"
   },
   "source": [
    "<details>\n",
    "    <summary> Avoir un indice 🕵️ </summary>\n",
    "\n",
    "<p>\n",
    "\n",
    "Utilisez a fonction `np.random.random((a,b,c))`\n",
    "\n",
    "</details>\n",
    "\n",
    "<details>\n",
    "    <summary> Voir la réponse 🔮 </summary>\n",
    "\n",
    "<p>\n",
    "<pre>\n",
    "ma_matrice_random = np.random.random((3,3,3))\n",
    "ma_matrice_random\n",
    "</details>"
   ]
  },
  {
   "cell_type": "markdown",
   "metadata": {
    "id": "zMuzPuzohzOx"
   },
   "source": [
    "## 3. Exercices - Niveau : ★★☆\n"
   ]
  },
  {
   "cell_type": "code",
   "execution_count": 19,
   "metadata": {
    "colab": {
     "base_uri": "https://localhost:8080/",
     "height": 435
    },
    "executionInfo": {
     "elapsed": 1054,
     "status": "ok",
     "timestamp": 1685616958400,
     "user": {
      "displayName": "Marouan de DATAROCKSTARS.AI",
      "userId": "05668599582831202057"
     },
     "user_tz": -120
    },
    "id": "ISd0f-GRmCmy",
    "outputId": "71444829-3729-4b11-8d87-f93de0b075be"
   },
   "outputs": [
    {
     "name": "stdout",
     "output_type": "stream",
     "text": [
      "[[0.         0.00392157 0.00784314 ... 0.99215686 0.99607843 1.        ]\n",
      " [0.         0.00392157 0.00784314 ... 0.99215686 0.99607843 1.        ]\n",
      " [0.         0.00392157 0.00784314 ... 0.99215686 0.99607843 1.        ]\n",
      " ...\n",
      " [0.         0.00392157 0.00784314 ... 0.99215686 0.99607843 1.        ]\n",
      " [0.         0.00392157 0.00784314 ... 0.99215686 0.99607843 1.        ]\n",
      " [0.         0.00392157 0.00784314 ... 0.99215686 0.99607843 1.        ]]\n"
     ]
    }
   ],
   "source": [
    "# Exercice : Créez un tableau numpy 256x256 dont les valeurs varient linéairement sur l'axe des x pour créer un effet de gradient.\n",
    "\n",
    "gradient = np.linspace(0, 1, 256)\n",
    "gradient_rep = np.tile(gradient, (256, 1))\n",
    "print(gradient_rep)"
   ]
  },
  {
   "cell_type": "markdown",
   "metadata": {
    "id": "otRvjI6JItl5"
   },
   "source": [
    "<details>\n",
    "    <summary> Indice 🕵️ </summary>\n",
    "<p>\n",
    "\n",
    "Pour créer un tableau numpy 256x256 avec un effet de gradient, vous pouvez utiliser la fonction np.linspace pour générer une ligne de valeurs de 0 à 1, puis utiliser np.tile pour répéter cette ligne 256 fois.\n",
    "</details>\n",
    "<details>\n",
    "    <summary> Voir la réponse 🔮 </summary>\n",
    "<p>\n",
    "<pre>\n",
    "# Solution\n",
    "gradient = np.linspace(0, 1, 256)\n",
    "image_gradient = np.tile(gradient, (256, 1))\n",
    "Afficher le tableau\n",
    "plt.imshow(image_gradient)\n",
    "plt.show()\n",
    "</pre>\n",
    "\n",
    "</details>"
   ]
  },
  {
   "cell_type": "markdown",
   "metadata": {
    "id": "i6IlCENOpFlo"
   },
   "source": [
    "## 3. Exercices - Niveau : ★★★"
   ]
  },
  {
   "cell_type": "markdown",
   "metadata": {
    "id": "eV_iQSSmvdW2"
   },
   "source": [
    "**Etape 1  :** Récupérer les données d'entraînement du dataset Titanic (dans le dossier data) et chargez les informations dans un dataframe. Affichez les 5 premières et les 5 dernières lignes."
   ]
  },
  {
   "cell_type": "code",
   "execution_count": 20,
   "metadata": {
    "id": "cYXOZWpbJFyJ"
   },
   "outputs": [
    {
     "data": {
      "text/html": [
       "<div>\n",
       "<style scoped>\n",
       "    .dataframe tbody tr th:only-of-type {\n",
       "        vertical-align: middle;\n",
       "    }\n",
       "\n",
       "    .dataframe tbody tr th {\n",
       "        vertical-align: top;\n",
       "    }\n",
       "\n",
       "    .dataframe thead th {\n",
       "        text-align: right;\n",
       "    }\n",
       "</style>\n",
       "<table border=\"1\" class=\"dataframe\">\n",
       "  <thead>\n",
       "    <tr style=\"text-align: right;\">\n",
       "      <th></th>\n",
       "      <th>PassengerId</th>\n",
       "      <th>Survived</th>\n",
       "      <th>Pclass</th>\n",
       "      <th>Name</th>\n",
       "      <th>Sex</th>\n",
       "      <th>Age</th>\n",
       "      <th>SibSp</th>\n",
       "      <th>Parch</th>\n",
       "      <th>Ticket</th>\n",
       "      <th>Fare</th>\n",
       "      <th>Cabin</th>\n",
       "      <th>Embarked</th>\n",
       "    </tr>\n",
       "  </thead>\n",
       "  <tbody>\n",
       "    <tr>\n",
       "      <th>886</th>\n",
       "      <td>887</td>\n",
       "      <td>0</td>\n",
       "      <td>2</td>\n",
       "      <td>Montvila, Rev. Juozas</td>\n",
       "      <td>male</td>\n",
       "      <td>27.0</td>\n",
       "      <td>0</td>\n",
       "      <td>0</td>\n",
       "      <td>211536</td>\n",
       "      <td>13.00</td>\n",
       "      <td>NaN</td>\n",
       "      <td>S</td>\n",
       "    </tr>\n",
       "    <tr>\n",
       "      <th>887</th>\n",
       "      <td>888</td>\n",
       "      <td>1</td>\n",
       "      <td>1</td>\n",
       "      <td>Graham, Miss. Margaret Edith</td>\n",
       "      <td>female</td>\n",
       "      <td>19.0</td>\n",
       "      <td>0</td>\n",
       "      <td>0</td>\n",
       "      <td>112053</td>\n",
       "      <td>30.00</td>\n",
       "      <td>B42</td>\n",
       "      <td>S</td>\n",
       "    </tr>\n",
       "    <tr>\n",
       "      <th>888</th>\n",
       "      <td>889</td>\n",
       "      <td>0</td>\n",
       "      <td>3</td>\n",
       "      <td>Johnston, Miss. Catherine Helen \"Carrie\"</td>\n",
       "      <td>female</td>\n",
       "      <td>NaN</td>\n",
       "      <td>1</td>\n",
       "      <td>2</td>\n",
       "      <td>W./C. 6607</td>\n",
       "      <td>23.45</td>\n",
       "      <td>NaN</td>\n",
       "      <td>S</td>\n",
       "    </tr>\n",
       "    <tr>\n",
       "      <th>889</th>\n",
       "      <td>890</td>\n",
       "      <td>1</td>\n",
       "      <td>1</td>\n",
       "      <td>Behr, Mr. Karl Howell</td>\n",
       "      <td>male</td>\n",
       "      <td>26.0</td>\n",
       "      <td>0</td>\n",
       "      <td>0</td>\n",
       "      <td>111369</td>\n",
       "      <td>30.00</td>\n",
       "      <td>C148</td>\n",
       "      <td>C</td>\n",
       "    </tr>\n",
       "    <tr>\n",
       "      <th>890</th>\n",
       "      <td>891</td>\n",
       "      <td>0</td>\n",
       "      <td>3</td>\n",
       "      <td>Dooley, Mr. Patrick</td>\n",
       "      <td>male</td>\n",
       "      <td>32.0</td>\n",
       "      <td>0</td>\n",
       "      <td>0</td>\n",
       "      <td>370376</td>\n",
       "      <td>7.75</td>\n",
       "      <td>NaN</td>\n",
       "      <td>Q</td>\n",
       "    </tr>\n",
       "  </tbody>\n",
       "</table>\n",
       "</div>"
      ],
      "text/plain": [
       "     PassengerId  Survived  Pclass                                      Name  \\\n",
       "886          887         0       2                     Montvila, Rev. Juozas   \n",
       "887          888         1       1              Graham, Miss. Margaret Edith   \n",
       "888          889         0       3  Johnston, Miss. Catherine Helen \"Carrie\"   \n",
       "889          890         1       1                     Behr, Mr. Karl Howell   \n",
       "890          891         0       3                       Dooley, Mr. Patrick   \n",
       "\n",
       "        Sex   Age  SibSp  Parch      Ticket   Fare Cabin Embarked  \n",
       "886    male  27.0      0      0      211536  13.00   NaN        S  \n",
       "887  female  19.0      0      0      112053  30.00   B42        S  \n",
       "888  female   NaN      1      2  W./C. 6607  23.45   NaN        S  \n",
       "889    male  26.0      0      0      111369  30.00  C148        C  \n",
       "890    male  32.0      0      0      370376   7.75   NaN        Q  "
      ]
     },
     "execution_count": 20,
     "metadata": {},
     "output_type": "execute_result"
    }
   ],
   "source": [
    "# Votre code\n",
    "df = pd.read_csv(\"data/train.csv\")\n",
    "df.head()\n",
    "df.tail()\n"
   ]
  },
  {
   "cell_type": "markdown",
   "metadata": {
    "id": "aQA363BnJHRx"
   },
   "source": [
    "<details>\n",
    "    <summary> Indice 🕵️ </summary>\n",
    "<p>\n",
    "\n",
    "Pensez à utiliser la fonction `df.head()` pour afficher les cinq premières lignes et `df.tail()` pour afficher les cinq dernières lignes.\n",
    "\n",
    "</details>\n",
    "<details>\n",
    "    <summary> Voir la réponse 🔮 </summary>\n",
    "<p>\n",
    "<pre>\n",
    "#Ouverture du CSV\n",
    "df = pd.read_csv(\"data/train.csv\", sep=\",\")\n",
    "\n",
    "#Affichage des cinq premières lignes\n",
    "df.head()\n",
    "\n",
    "#Affichage des cinq dernières lignes\n",
    "df.tail()\n",
    "</pre>\n",
    "</details>"
   ]
  }
 ],
 "metadata": {
  "colab": {
   "authorship_tag": "ABX9TyP/1uxKa18lAUqpxZ34eoB0",
   "collapsed_sections": [
    "dU_B8iK9LTwH",
    "zMuzPuzohzOx"
   ],
   "provenance": []
  },
  "kernelspec": {
   "display_name": "Python 3 (ipykernel)",
   "language": "python",
   "name": "python3"
  },
  "language_info": {
   "codemirror_mode": {
    "name": "ipython",
    "version": 3
   },
   "file_extension": ".py",
   "mimetype": "text/x-python",
   "name": "python",
   "nbconvert_exporter": "python",
   "pygments_lexer": "ipython3",
   "version": "3.11.6"
  }
 },
 "nbformat": 4,
 "nbformat_minor": 4
}
