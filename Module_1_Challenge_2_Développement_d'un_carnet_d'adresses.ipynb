{
  "cells": [
    {
      "cell_type": "markdown",
      "id": "46c3b0f7",
      "metadata": {
        "id": "46c3b0f7"
      },
      "source": [
        "Création d'un carnet d'adresse\n"
      ]
    },
    {
      "cell_type": "markdown",
      "id": "8dbd563b",
      "metadata": {
        "id": "8dbd563b"
      },
      "source": [
        "## Imports"
      ]
    },
    {
      "cell_type": "code",
      "execution_count": null,
      "id": "ed6cc061",
      "metadata": {
        "id": "ed6cc061"
      },
      "outputs": [],
      "source": [
        "import re\n",
        "import datetime"
      ]
    },
    {
      "cell_type": "markdown",
      "id": "32acaa9b",
      "metadata": {
        "id": "32acaa9b"
      },
      "source": [
        "## Création d'un contact"
      ]
    },
    {
      "cell_type": "code",
      "execution_count": null,
      "id": "4673aae9",
      "metadata": {
        "id": "4673aae9"
      },
      "outputs": [],
      "source": [
        "class Contact:\n",
        "    def __init__(self, nom: str, prenom: str, d_anniv: str, adresse: str, telephone: str, email: str):\n",
        "        self.nom = nom\n",
        "        self.prenom = prenom\n",
        "        self.d_anniv = datetime.datetime.strptime(d_anniv, '%d/%m/%Y')\n",
        "        self.adresse = adresse\n",
        "        self.telephone = telephone\n",
        "        self.email = email\n",
        "\n",
        "    def age(self) -> int:\n",
        "        \"\"\"Cette fonction determine l'âge du contact\"\"\"\n",
        "        today = datetime.now()\n",
        "        return today.year - self.d_anniv.year - ((today.month, today.day) < (self.d_anniv.month, self.d_anniv.day))\n",
        "\n",
        "    def is_mineur(self) -> bool:\n",
        "        \"\"\"Cette fonction determine la majorité en fonction de l'age\"\"\"\n",
        "        return self.age() < 18\n",
        "\n",
        "    def is_homme(self) -> bool:\n",
        "        \"\"\"Cette fonction determine le sexe\"\"\"\n",
        "        return self.prenom[-1].lower() != 'a'\n",
        "\n",
        "    def __str__(self) -> str:\n",
        "        \"\"\"Cette fonction affiche les données du contact\"\"\"\n",
        "        statut = \"mineur\" if self.is_mineur() else \"majeur\"\n",
        "        sexe = \"C'est peut-être un homme !\" if self.is_homme() else \"C'est peut-être une femme !\"\n",
        "        return f\"\"\"Nom : {self.nom}\n",
        "                Prenom : {self.prenom}\n",
        "                Date de naissance : {self.d_anniv.strftime('%d/%m/%Y')}\n",
        "                Adresse : {self.adresse}\n",
        "                Tel : {self.telephone}\n",
        "                Email : {self.email}\n",
        "                Statut : {statut}\n",
        "                Sexe : {sexe}\"\"\""
      ]
    },
    {
      "cell_type": "markdown",
      "id": "419c9b66",
      "metadata": {
        "id": "419c9b66"
      },
      "source": [
        "## Création d'un carnet d'adresses"
      ]
    },
    {
      "cell_type": "code",
      "execution_count": null,
      "id": "99c7e94f",
      "metadata": {
        "colab": {
          "base_uri": "https://localhost:8080/",
          "height": 1000
        },
        "id": "99c7e94f",
        "outputId": "f14bf63e-aea9-4c7d-b3af-3fe2018abe2b"
      },
      "outputs": [],
      "source": [
        "class Carnet:\n",
        "    def __init__(self):\n",
        "        self.carnet = []\n",
        "\n",
        "    def ajouter_contact(self, contact):\n",
        "        self.carnet.append(contact)\n",
        "\n",
        "    def creer_contact(self):\n",
        "        print(\"\\nEntrez les données : \")\n",
        "        nom_c = input(\"Nom : \")\n",
        "        prenom_c = input(\"Prenom : \")\n",
        "        anniv_c = self.valider_input(\"Date de naissance (JJ/MM/AAAA) : \", est_date_valide)\n",
        "        adresse_c = input(\"Adresse : \")\n",
        "        tel_c = self.valider_input(\"Telephone : \", est_numero_valide)\n",
        "        email_c = self.valider_input(\"Mail : \", est_email_valide)\n",
        "\n",
        "        choix = input(\"\\nValider ? (o/n) : \")\n",
        "        if choix.lower() == \"o\":\n",
        "            nouv_contact = Contact(nom_c, prenom_c, anniv_c, adresse_c, tel_c, email_c)\n",
        "            self.ajouter_contact(nouv_contact)\n",
        "\n",
        "    def valider_input(self, message, fonction_validation):\n",
        "        valeur = input(message)\n",
        "        while not fonction_validation(valeur):\n",
        "            print(\"Entrée non valide, veuillez réessayer.\")\n",
        "            valeur = input(message)\n",
        "        return valeur\n",
        "\n",
        "    def supprimer_contact(self, nom):\n",
        "        contact_a_supprimer = [c for c in self.carnet if c.nom == nom]\n",
        "        if contact_a_supprimer:\n",
        "            self.carnet.remove(contact_a_supprimer[0])\n",
        "            print(\"Contact supprimé.\")\n",
        "        else:\n",
        "            print(\"Contact inconnu.\")\n",
        "\n",
        "    def rechercher_contact(self, nom):\n",
        "        contacts_trouves = [c for c in self.carnet if c.nom == nom]\n",
        "        if contacts_trouves:\n",
        "            for c in contacts_trouves:\n",
        "                c.infos_contact()\n",
        "        else:\n",
        "            print(\"Contact inconnu.\")\n",
        "\n",
        "    def afficher_carnet(self):\n",
        "        if self.carnet:\n",
        "            for c in self.carnet:\n",
        "                c.infos_contact()\n",
        "        else:\n",
        "            print(\"Le carnet d'adresses est vide.\")\n",
        "\n",
        "def est_numero_valide(numero):\n",
        "    return re.match(r'^\\+?[\\d\\s()-]*$', numero) is not None\n",
        "\n",
        "def est_email_valide(email):\n",
        "    return re.match(r'^\\w+([\\.-]?\\w+)*@\\w+([\\.-]?\\w+)*(\\.\\w{2,3})+$', email) is not None\n",
        "\n",
        "def est_date_valide(date):\n",
        "    try:\n",
        "        datetime.datetime.strptime(date, \"%d/%m/%Y\")\n",
        "        return True\n",
        "    except ValueError:\n",
        "        return False\n",
        "\n",
        "def menu_utilisateur():\n",
        "    print(\"\\nChoisissez une option :\")\n",
        "    print(\"1. Afficher carnet\")\n",
        "    print(\"2. Ajouter un contact\")\n",
        "    print(\"3. Rechercher un contact\")\n",
        "    print(\"4. Supprimer un contact\")\n",
        "    print(\"5. Quitter\")\n",
        "\n",
        "def verif_saisie(reponse):\n",
        "    continu = True\n",
        "    if reponse == 1:\n",
        "        carnet.afficher_carnet()\n",
        "    elif reponse == 2:\n",
        "        carnet.creer_contact()\n",
        "    elif reponse == 3:\n",
        "        nom = input(\"\\nSaisissez le nom de votre contact : \")\n",
        "        carnet.rechercher_contact(nom)\n",
        "    elif reponse == 4:\n",
        "        nom = input(\"\\nSaisissez le nom du contact à supprimer : \")\n",
        "        carnet.supprimer_contact(nom)\n",
        "    elif reponse == 5:\n",
        "        continu = False\n",
        "    else:\n",
        "        print(\"Choix invalide, veuillez réessayer.\")\n",
        "    return continu\n",
        "\n",
        "# Création d'une instance de Carnet\n",
        "carnet = Carnet()\n",
        "\n",
        "# Boucle principale du menu\n",
        "valid = True\n",
        "while valid:\n",
        "    menu_utilisateur()\n",
        "    try:\n",
        "        reponse = int(input(\"Entrez votre choix : \"))\n",
        "        valid = verif_saisie(reponse)\n",
        "    except ValueError:\n",
        "        print(\"Veuillez entrer un nombre correspondant à une option.\")\n"
      ]
    }
  ],
  "metadata": {
    "colab": {
      "provenance": []
    },
    "kernelspec": {
      "display_name": "Python 3",
      "language": "python",
      "name": "python3"
    },
    "language_info": {
      "codemirror_mode": {
        "name": "ipython",
        "version": 3
      },
      "file_extension": ".py",
      "mimetype": "text/x-python",
      "name": "python",
      "nbconvert_exporter": "python",
      "pygments_lexer": "ipython3",
      "version": "3.11.8"
    }
  },
  "nbformat": 4,
  "nbformat_minor": 5
}
