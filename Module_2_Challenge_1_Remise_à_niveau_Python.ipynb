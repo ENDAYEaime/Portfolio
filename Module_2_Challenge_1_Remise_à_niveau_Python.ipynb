{
  "cells": [
    {
      "cell_type": "markdown",
      "metadata": {
        "id": "fhMRvT7MMYxW"
      },
      "source": [
        "# Exercices de remise à niveau Python\n",
        "\n"
      ]
    },
    {
      "cell_type": "markdown",
      "metadata": {
        "id": "_RBFNXk4CQGR"
      },
      "source": [
        "## Prise en main de Python\n",
        "\n",
        "Python est un langage de programmation de haut niveau, interprété et polyvalent. Il est célèbre pour sa simplicité et sa lisibilité. Les opérations de base en Python comprennent des calculs arithmétiques, la manipulation de chaînes de caractères, et la gestion des entrées utilisateur."
      ]
    },
    {
      "cell_type": "markdown",
      "metadata": {
        "id": "hFQfQw-uCdFw"
      },
      "source": [
        "★☆☆ Calculez la somme, la différence, le produit et le quotient de deux nombres entrés par l'utilisateur.\n",
        "\n",
        "🎯 Pratiquer les opérations de base."
      ]
    },
    {
      "cell_type": "code",
      "execution_count": null,
      "metadata": {
        "id": "i_m3aBkMCMut",
        "outputId": "106a2870-24a6-4761-beb6-f64b3ed98b1f"
      },
      "outputs": [
        {
          "name": "stdout",
          "output_type": "stream",
          "text": [
            "Somme : 2.0\n",
            "Différence : 0.0\n",
            "Produit : 1.0\n",
            "Quotient : 1.0\n"
          ]
        }
      ],
      "source": [
        "# Demander à l'utilisateur de saisir deux nombres\n",
        "nombre1 = float(input(\"Entrez le premier nombre : \"))\n",
        "nombre2 = float(input(\"Entrez le deuxième nombre : \"))\n",
        "\n",
        "# Calculer la somme, la différence, le produit et le quotient\n",
        "somme = nombre1 + nombre2\n",
        "difference = nombre1 - nombre2\n",
        "produit = nombre1 * nombre2\n",
        "\n",
        "# Pour éviter la division par zéro, vérifier que le deuxième nombre n'est pas zéro\n",
        "if nombre2 != 0:\n",
        "    quotient = nombre1 / nombre2\n",
        "else:\n",
        "    quotient = \"Indéfini (division par zéro !)\"\n",
        "\n",
        "# Afficher les résultats\n",
        "print(f\"Somme : {somme}\")\n",
        "print(f\"Différence : {difference}\")\n",
        "print(f\"Produit : {produit}\")\n",
        "print(f\"Quotient : {quotient}\")"
      ]
    },
    {
      "cell_type": "markdown",
      "metadata": {
        "id": "TpL8FTRvDHEx"
      },
      "source": [
        "★★☆ Créez un convertisseur de devises simple. L'utilisateur entre un montant en euros, convertissez-le en dollars.\n",
        "\n",
        "🎯 Manipuler les entrées utilisateur et les variables."
      ]
    },
    {
      "cell_type": "code",
      "execution_count": null,
      "metadata": {
        "id": "-CzVWeOUCOzH",
        "outputId": "310b4856-c8ab-4c37-b2d7-0a6bb898c38e"
      },
      "outputs": [
        {
          "name": "stdout",
          "output_type": "stream",
          "text": [
            "3.0 euros équivalent à 3.30 dollars.\n"
          ]
        }
      ],
      "source": [
        "# Définir le taux de change euro vers dollar\n",
        "taux_de_change = 1.10\n",
        "\n",
        "# Demander à l'utilisateur de saisir le montant en euros\n",
        "montant_euros = float(input(\"Entrez le montant en euros : \"))\n",
        "\n",
        "# Convertir le montant en dollars\n",
        "montant_dollars = montant_euros * taux_de_change\n",
        "\n",
        "# Afficher le montant converti\n",
        "print(f\"{montant_euros} euros équivalent à {montant_dollars:.2f} dollars.\")\n"
      ]
    },
    {
      "cell_type": "markdown",
      "metadata": {
        "id": "P9Ik6AGdDH7Y"
      },
      "source": [
        "★★★ Élaborez un script qui calcule l'indice de masse corporelle (IMC) à partir des données utilisateur (poids et taille).\n",
        "\n",
        "🎯 Combiner les entrées utilisateur avec des calculs complexes."
      ]
    },
    {
      "cell_type": "code",
      "execution_count": null,
      "metadata": {
        "id": "ErN6XSj5CO2X",
        "outputId": "dde97108-809f-4d12-a591-c80c699e06b9"
      },
      "outputs": [
        {
          "name": "stdout",
          "output_type": "stream",
          "text": [
            "Votre indice de masse corporelle (IMC) est : 23.59\n"
          ]
        }
      ],
      "source": [
        "# Demander à l'utilisateur de saisir son poids en kilogrammes\n",
        "poids = float(input(\"Entrez votre poids en kilogrammes : \"))\n",
        "\n",
        "# Demander à l'utilisateur de saisir sa taille en centimètres\n",
        "taille_cm = float(input(\"Entrez votre taille en centimètres : \"))\n",
        "\n",
        "# Convertir la taille en mètres\n",
        "taille_m = taille_cm / 100\n",
        "\n",
        "# Calculer l'IMC\n",
        "imc = poids / (taille_m ** 2)\n",
        "\n",
        "# Afficher l'IMC\n",
        "print(f\"Votre indice de masse corporelle (IMC) est : {imc:.2f}\")"
      ]
    },
    {
      "cell_type": "markdown",
      "metadata": {
        "id": "y9jNGuvCEJe-"
      },
      "source": [
        "## Premiers pas en Python\n",
        "Apprenez à déclarer des variables, effectuer des opérations arithmétiques de base, et comprendre les types de données comme les entiers, les flottants, et les chaînes."
      ]
    },
    {
      "cell_type": "markdown",
      "metadata": {
        "id": "3NsExHOCDJpv"
      },
      "source": [
        "★☆☆ Assignez différentes valeurs à des variables et imprimez leurs types et valeurs.\n",
        "\n",
        "🎯 Comprendre les types de données de base en Python."
      ]
    },
    {
      "cell_type": "code",
      "execution_count": null,
      "metadata": {
        "id": "nLdK8HkNCO7t",
        "outputId": "1fbda4e9-7210-4a33-af15-c09656593972"
      },
      "outputs": [
        {
          "name": "stdout",
          "output_type": "stream",
          "text": [
            "Type de 'entier': <class 'int'>, Valeur: 5\n",
            "Type de 'decimal': <class 'float'>, Valeur: 3.14\n",
            "Type de 'chaine_de_caracteres': <class 'str'>, Valeur: Bonjour le monde\n",
            "Type de 'booleen': <class 'bool'>, Valeur: True\n",
            "Type de 'liste': <class 'list'>, Valeur: [1, 2, 3, 4, 5]\n"
          ]
        }
      ],
      "source": [
        "# Assigner des valeurs de différents types à des variables\n",
        "entier = 5\n",
        "decimal = 3.14\n",
        "chaine_de_caracteres = \"Bonjour le monde\"\n",
        "booleen = True\n",
        "liste = [1, 2, 3, 4, 5]\n",
        "\n",
        "# Imprimer le type et la valeur de chaque variable\n",
        "print(f\"Type de 'entier': {type(entier)}, Valeur: {entier}\")\n",
        "print(f\"Type de 'decimal': {type(decimal)}, Valeur: {decimal}\")\n",
        "print(f\"Type de 'chaine_de_caracteres': {type(chaine_de_caracteres)}, Valeur: {chaine_de_caracteres}\")\n",
        "print(f\"Type de 'booleen': {type(booleen)}, Valeur: {booleen}\")\n",
        "print(f\"Type de 'liste': {type(liste)}, Valeur: {liste}\")"
      ]
    },
    {
      "cell_type": "markdown",
      "metadata": {
        "id": "2FuOvCKTDMSy"
      },
      "source": [
        "★★☆ Réalisez un programme qui demande l'âge de l'utilisateur, le convertit en jours et l'affiche.\n",
        "\n",
        "🎯 Effectuer des conversions de types et des calculs."
      ]
    },
    {
      "cell_type": "code",
      "execution_count": null,
      "metadata": {
        "id": "dlIutTrACO-t",
        "outputId": "0000716c-3a94-4a8b-e34e-f6e0439faae2"
      },
      "outputs": [
        {
          "name": "stdout",
          "output_type": "stream",
          "text": [
            "Vous avez vécu environ 9131 jours.\n"
          ]
        }
      ],
      "source": [
        "# Demander à l'utilisateur de saisir son âge en années\n",
        "age_en_annees = int(input(\"Entrez votre âge en années : \"))\n",
        "\n",
        "# Convertir l'âge en jours (en tenant compte des années bissextiles)\n",
        "age_en_jours = age_en_annees * 365.25\n",
        "\n",
        "# Afficher l'âge en jours\n",
        "print(f\"Vous avez vécu environ {int(age_en_jours)} jours.\")"
      ]
    },
    {
      "cell_type": "markdown",
      "metadata": {
        "id": "EH8Ea56zDMyo"
      },
      "source": [
        "★★★ Créez un programme qui prend une chaîne de caractères et la convertit en un mélange de types de données (nombre, booléen, etc.).\n",
        "\n",
        "🎯 Maîtriser la conversion de types."
      ]
    },
    {
      "cell_type": "code",
      "execution_count": null,
      "metadata": {
        "id": "xsWHCDIjCPCL",
        "outputId": "dc34aa6c-bb61-4ff3-f68d-98f8861f1147"
      },
      "outputs": [
        {
          "name": "stdout",
          "output_type": "stream",
          "text": [
            "Vers quel type voulez-vous convertir la chaîne ?\n",
            "Options : entier (int), flottant (float), booléen (bool), chaîne (str)\n",
            "Valeur convertie : 93484350 (type : <class 'int'>)\n"
          ]
        }
      ],
      "source": [
        "# Demander à l'utilisateur de saisir une chaîne de caractères\n",
        "chaine_entree = input(\"Entrez une chaîne de caractères : \")\n",
        "\n",
        "# Demander à l'utilisateur vers quel type de données convertir la chaîne\n",
        "print(\"Vers quel type voulez-vous convertir la chaîne ?\")\n",
        "print(\"Options : entier (int), flottant (float), booléen (bool), chaîne (str)\")\n",
        "type_cible = input(\"Votre choix (int, float, bool, str) : \").lower()\n",
        "\n",
        "# Initialiser une variable pour le résultat converti\n",
        "converti = None\n",
        "\n",
        "# Effectuer la conversion selon le choix de l'utilisateur\n",
        "if type_cible == \"int\":\n",
        "    try:\n",
        "        converti = int(chaine_entree)\n",
        "    except ValueError:\n",
        "        print(\"Conversion en entier impossible.\")\n",
        "elif type_cible == \"float\":\n",
        "    try:\n",
        "        converti = float(chaine_entree)\n",
        "    except ValueError:\n",
        "        print(\"Conversion en flottant impossible.\")\n",
        "elif type_cible == \"bool\":\n",
        "    if chaine_entree.lower() in ['true', 'false']:\n",
        "        converti = chaine_entree.lower() == 'true'\n",
        "    else:\n",
        "        print(\"Conversion en booléen impossible. Utilisez 'true' ou 'false'.\")\n",
        "elif type_cible == \"str\":\n",
        "    converti = chaine_entree  # Pas besoin de conversion\n",
        "else:\n",
        "    print(\"Type non reconnu.\")\n",
        "\n",
        "# Afficher le résultat si la conversion a réussi\n",
        "if converti is not None:\n",
        "    print(f\"Valeur convertie : {converti} (type : {type(converti)})\")"
      ]
    },
    {
      "cell_type": "markdown",
      "metadata": {
        "id": "M13VW3AyEcqX"
      },
      "source": [
        "## Manipulation des chaînes de caractères\n",
        "Les chaînes de caractères sont des séquences de caractères. Familiarisez-vous avec les opérations de base comme l'indexation, la découpe, et les méthodes intégrées pour les manipuler."
      ]
    },
    {
      "cell_type": "markdown",
      "metadata": {
        "id": "IhZZwISkDNRk"
      },
      "source": [
        "★☆☆ Prenez une phrase et modifiez-la pour remplacer certains mots par d'autres.\n",
        "\n",
        "🎯 Pratiquer la manipulation de chaînes."
      ]
    },
    {
      "cell_type": "code",
      "execution_count": null,
      "metadata": {
        "id": "7pQSZCvDCPEm",
        "outputId": "e3a19b00-b6b0-4c45-ab53-b2aefde0ebad"
      },
      "outputs": [
        {
          "name": "stdout",
          "output_type": "stream",
          "text": [
            "Phrase modifiée :  j'aime beaucoup les chiens\n"
          ]
        }
      ],
      "source": [
        "# Demander à l'utilisateur de saisir une phrase\n",
        "phrase = input(\"Entrez une phrase : \")\n",
        "\n",
        "# Définir les mots à remplacer et leurs remplacements\n",
        "# Par exemple, remplacer \"chat\" par \"chien\" et \"rapide\" par \"lent\"\n",
        "remplacements = {\n",
        "    \"chat\": \"chien\",\n",
        "    \"rapide\": \"lent\"\n",
        "}\n",
        "\n",
        "# Effectuer les remplacements\n",
        "for ancien, nouveau in remplacements.items():\n",
        "    phrase = phrase.replace(ancien, nouveau)\n",
        "\n",
        "# Afficher la phrase modifiée\n",
        "print(\"Phrase modifiée : \", phrase)"
      ]
    },
    {
      "cell_type": "markdown",
      "metadata": {
        "id": "uygVVhaUDN68"
      },
      "source": [
        "★★☆ Générez un pseudo aléatoire à partir du nom complet de l'utilisateur.\n",
        "\n",
        "🎯 Appliquer des opérations de chaîne avancées."
      ]
    },
    {
      "cell_type": "code",
      "execution_count": null,
      "metadata": {
        "id": "6cXwU2O3CPG_",
        "outputId": "97e9b656-1aee-47fb-f3ce-88321f43bc91"
      },
      "outputs": [
        {
          "name": "stdout",
          "output_type": "stream",
          "text": [
            "Votre pseudo : bo526\n"
          ]
        }
      ],
      "source": [
        "import random\n",
        "\n",
        "# Demander à l'utilisateur de saisir son nom complet\n",
        "nom_complet = input(\"Entrez votre nom complet : \")\n",
        "\n",
        "# Séparer le nom complet en prénom et nom (en supposant le format \"Prénom Nom\")\n",
        "parts = nom_complet.split()\n",
        "\n",
        "# Prendre la première lettre du prénom et la première lettre du nom\n",
        "# On suppose ici que l'utilisateur entre au moins un prénom et un nom\n",
        "initials = parts[0][0] + parts[-1][0]\n",
        "\n",
        "# Générer un nombre aléatoire à ajouter au pseudo\n",
        "random_number = random.randint(100, 999)\n",
        "\n",
        "# Créer le pseudo\n",
        "pseudo = initials.lower() + str(random_number)\n",
        "\n",
        "# Afficher le pseudo\n",
        "print(f\"Votre pseudo : {pseudo}\")"
      ]
    },
    {
      "cell_type": "markdown",
      "metadata": {
        "id": "bOiwG5fmDOgN"
      },
      "source": [
        "★★★ Écrivez un script qui compte le nombre d'occurrences de chaque mot dans un paragraphe fourni.\n",
        "\n",
        "🎯 Combiner boucles, conditions et manipulations de chaînes."
      ]
    },
    {
      "cell_type": "code",
      "execution_count": null,
      "metadata": {
        "id": "bR_wAHThCPJ5",
        "outputId": "7abbbc67-d0f2-493c-cc04-8ee8369b2897"
      },
      "outputs": [
        {
          "name": "stdout",
          "output_type": "stream",
          "text": [
            "'ceci': 1 fois\n",
            "'est': 1 fois\n",
            "'un': 1 fois\n",
            "'exemple': 1 fois\n",
            "'de': 3 fois\n",
            "'paragraphe': 2 fois\n",
            "'pour': 1 fois\n",
            "'tester': 1 fois\n",
            "'le': 5 fois\n",
            "'script': 2 fois\n",
            "'compte': 2 fois\n",
            "'nombre': 1 fois\n",
            "'d': 1 fois\n",
            "'occurrences': 1 fois\n",
            "'chaque': 1 fois\n",
            "'mot': 2 fois\n",
            "'dans': 1 fois\n",
            "'ce': 1 fois\n",
            "'notez': 1 fois\n",
            "'que': 1 fois\n",
            "'comptage': 1 fois\n",
            "'ne': 1 fois\n",
            "'tient': 1 fois\n",
            "'pas': 1 fois\n",
            "'la': 1 fois\n",
            "'casse': 1 fois\n",
            "'donc': 1 fois\n",
            "'\"ceci\"': 2 fois\n",
            "'et': 1 fois\n",
            "'sont': 1 fois\n",
            "'considérés': 1 fois\n",
            "'comme': 1 fois\n",
            "'même': 1 fois\n"
          ]
        }
      ],
      "source": [
        "# Exemple de paragraphe\n",
        "paragraphe = \"\"\"Ceci est un exemple de paragraphe pour tester le script.\n",
        "Le script compte le nombre d'occurrences de chaque mot dans ce paragraphe.\n",
        "Notez que le comptage ne tient pas compte de la casse, donc \"Ceci\" et \"ceci\" sont considérés comme le même mot.\"\"\"\n",
        "\n",
        "# Convertir le paragraphe en minuscules pour ignorer la casse\n",
        "paragraphe = paragraphe.lower()\n",
        "\n",
        "# Remplacer les signes de ponctuation par des espaces\n",
        "signes_de_ponctuation = [\",\", \".\", \"'\", \"’\", \";\", \":\", \"-\", \"?\", \"!\"]\n",
        "for signe in signes_de_ponctuation:\n",
        "    paragraphe = paragraphe.replace(signe, \" \")\n",
        "\n",
        "# Diviser le paragraphe en mots\n",
        "mots = paragraphe.split()\n",
        "\n",
        "# Compter les occurrences de chaque mot\n",
        "comptage_mots = {}\n",
        "for mot in mots:\n",
        "    if mot in comptage_mots:\n",
        "        comptage_mots[mot] += 1\n",
        "    else:\n",
        "        comptage_mots[mot] = 1\n",
        "\n",
        "# Afficher le nombre d'occurrences de chaque mot\n",
        "for mot, comptage in comptage_mots.items():\n",
        "    print(f\"'{mot}': {comptage} fois\")"
      ]
    },
    {
      "cell_type": "markdown",
      "metadata": {
        "id": "upazv5BcEssI"
      },
      "source": [
        "## Boucles et conditions\n",
        "\n",
        "Maîtrisez les structures de contrôle : if, else, elif pour les décisions, et for, while pour les répétitions. Comprenez l'importance de l'indentation dans la syntaxe Python."
      ]
    },
    {
      "cell_type": "markdown",
      "metadata": {
        "id": "GYDMIccEDO5E"
      },
      "source": [
        "★☆☆ Utilisez une boucle pour imprimer une série de nombres (par exemple, les premiers 10 nombres pairs).\n",
        "\n",
        "🎯 Maîtriser les boucles simples."
      ]
    },
    {
      "cell_type": "code",
      "execution_count": null,
      "metadata": {
        "id": "fFauUBcbCPMk",
        "outputId": "a6ea467d-cc03-41ab-b109-ca9378d5ff77"
      },
      "outputs": [
        {
          "name": "stdout",
          "output_type": "stream",
          "text": [
            "2\n",
            "4\n",
            "6\n",
            "8\n",
            "10\n",
            "12\n",
            "14\n",
            "16\n",
            "18\n",
            "20\n"
          ]
        }
      ],
      "source": [
        "# Imprimer les 10 premiers nombres pairs\n",
        "for i in range(1, 11):\n",
        "    print(i * 2)"
      ]
    },
    {
      "cell_type": "code",
      "execution_count": null,
      "metadata": {
        "id": "8TdhekcWIZEz",
        "outputId": "486bb00e-1bda-48e0-8e67-c83485e8bc5c"
      },
      "outputs": [
        {
          "name": "stdout",
          "output_type": "stream",
          "text": [
            "2\n",
            "4\n",
            "6\n",
            "8\n",
            "10\n",
            "12\n",
            "14\n",
            "16\n",
            "18\n",
            "20\n"
          ]
        }
      ],
      "source": [
        "# Autre méthode :\n",
        "# Initialiser le compteur et le nombre de nombres pairs à imprimer\n",
        "compteur, limite = 0, 10\n",
        "nombre = 2  # Le premier nombre pair\n",
        "\n",
        "# Boucle pour imprimer les premiers 10 nombres pairs\n",
        "while compteur < limite:\n",
        "    print(nombre)\n",
        "    nombre += 2  # Passer au prochain nombre pair\n",
        "    compteur += 1"
      ]
    },
    {
      "cell_type": "markdown",
      "metadata": {
        "id": "DiDnpapyDPZW"
      },
      "source": [
        "★★☆ Écrivez un programme qui identifie et imprime les nombres premiers dans une liste donnée.\n",
        "\n",
        "🎯 Utiliser des boucles et des conditions complexes."
      ]
    },
    {
      "cell_type": "code",
      "execution_count": null,
      "metadata": {
        "id": "CFU7rEmVCPPf",
        "outputId": "d8ee0039-6040-4463-cf68-5d61e5585442"
      },
      "outputs": [
        {
          "name": "stdout",
          "output_type": "stream",
          "text": [
            "2 est un nombre premier.\n",
            "3 est un nombre premier.\n",
            "5 est un nombre premier.\n",
            "11 est un nombre premier.\n",
            "13 est un nombre premier.\n",
            "17 est un nombre premier.\n",
            "19 est un nombre premier.\n",
            "23 est un nombre premier.\n",
            "29 est un nombre premier.\n",
            "31 est un nombre premier.\n",
            "37 est un nombre premier.\n",
            "41 est un nombre premier.\n"
          ]
        }
      ],
      "source": [
        "def est_premier(n):\n",
        "    \"\"\"Retourne True si n est un nombre premier, sinon False.\"\"\"\n",
        "    if n <= 1:\n",
        "        return False\n",
        "    for i in range(2, int(n**0.5) + 1):\n",
        "        if n % i == 0:\n",
        "            return False\n",
        "    return True\n",
        "\n",
        "# Liste de nombres à vérifier\n",
        "nombres = [2, 3, 4, 5, 11, 13, 17, 19, 23, 29, 31, 37, 39, 41]\n",
        "\n",
        "# Parcourir la liste et imprimer les nombres premiers\n",
        "for nombre in nombres:\n",
        "    if est_premier(nombre):\n",
        "        print(f\"{nombre} est un nombre premier.\")"
      ]
    },
    {
      "cell_type": "markdown",
      "metadata": {
        "id": "Q8lpYsqSDRff"
      },
      "source": [
        "★★★ Créez un petit jeu de devinettes où l'utilisateur doit deviner un nombre aléatoire.\n",
        "\n",
        "🎯 Intégrer les boucles, conditions et entrées utilisateur."
      ]
    },
    {
      "cell_type": "code",
      "execution_count": null,
      "metadata": {
        "id": "g_lCYZKdCPR8",
        "outputId": "c3e3fca2-7388-4185-8b88-507acb8418a2"
      },
      "outputs": [
        {
          "name": "stdout",
          "output_type": "stream",
          "text": [
            "Bienvenue dans le jeu de devinettes !\n",
            "Je pense à un nombre entre 1 et 100. Vous avez 10 tentatives pour le deviner.\n",
            "C'est plus grand.\n",
            "C'est plus grand.\n",
            "C'est plus grand.\n",
            "C'est plus grand.\n",
            "C'est plus petit.\n",
            "C'est plus petit.\n",
            "C'est plus petit.\n",
            "C'est plus grand.\n",
            "C'est plus grand.\n",
            "Félicitations ! Vous avez trouvé le nombre secret 72 en 10 tentatives.\n",
            "Merci d'avoir joué !\n"
          ]
        }
      ],
      "source": [
        "import random\n",
        "\n",
        "# Générer un nombre aléatoire entre 1 et 100\n",
        "nombre_secret = random.randint(1, 100)\n",
        "\n",
        "# Définir le nombre maximum de tentatives\n",
        "nombre_tentatives_max = 10\n",
        "\n",
        "print(\"Bienvenue dans le jeu de devinettes !\")\n",
        "print(f\"Je pense à un nombre entre 1 et 100. Vous avez {nombre_tentatives_max} tentatives pour le deviner.\")\n",
        "\n",
        "# Initialiser le compteur de tentatives\n",
        "tentatives = 0\n",
        "\n",
        "# Boucle de jeu\n",
        "while tentatives < nombre_tentatives_max:\n",
        "    tentatives += 1\n",
        "    essai = input(f\"Tentative {tentatives}/{nombre_tentatives_max}. Entrez votre devinette : \")\n",
        "\n",
        "    try:\n",
        "        essai_numerique = int(essai)\n",
        "    except ValueError:\n",
        "        print(\"Veuillez entrer un nombre valide.\")\n",
        "        continue\n",
        "\n",
        "    # Vérifier si l'essai est correct\n",
        "    if essai_numerique == nombre_secret:\n",
        "        print(f\"Félicitations ! Vous avez trouvé le nombre secret {nombre_secret} en {tentatives} tentatives.\")\n",
        "        break\n",
        "    elif essai_numerique < nombre_secret:\n",
        "        print(\"C'est plus grand.\")\n",
        "    else:\n",
        "        print(\"C'est plus petit.\")\n",
        "\n",
        "    if tentatives == nombre_tentatives_max:\n",
        "        print(f\"Désolé, vous avez utilisé toutes vos tentatives. Le nombre secret était {nombre_secret}.\")\n",
        "\n",
        "# Fin du jeu\n",
        "print(\"Merci d'avoir joué !\")"
      ]
    },
    {
      "cell_type": "markdown",
      "metadata": {
        "id": "i6Y_iU22E60r"
      },
      "source": [
        "## Structure de données\n",
        "Découvrez les listes (collections ordonnées) et les dictionnaires (paires clé-valeur). Apprenez à les créer, les modifier, et accéder à leurs éléments."
      ]
    },
    {
      "cell_type": "markdown",
      "metadata": {
        "id": "m3OtbsOBDQpb"
      },
      "source": [
        "★☆☆ Créez une liste de vos films préférés, ajoutez-y et retirez des éléments.\n",
        "\n",
        "🎯 Manipuler les listes."
      ]
    },
    {
      "cell_type": "code",
      "execution_count": null,
      "metadata": {
        "id": "xTj-wyZDCPUm",
        "outputId": "2b5668aa-de2f-470f-b112-78fc9413a716"
      },
      "outputs": [
        {
          "name": "stdout",
          "output_type": "stream",
          "text": [
            "Liste initiale de films préférés : ['Inception', 'Interstellar', 'Le Prestige']\n",
            "Après ajout de Matrix : ['Inception', 'Interstellar', 'Le Prestige', 'Matrix']\n",
            "Après insertion du Seigneur des Anneaux en seconde position : ['Inception', 'Le Seigneur des Anneaux', 'Interstellar', 'Le Prestige', 'Matrix']\n",
            "Après avoir retiré Le Prestige : ['Inception', 'Le Seigneur des Anneaux', 'Interstellar', 'Matrix']\n",
            "Après avoir retiré le dernier film ajouté (Matrix) : ['Inception', 'Le Seigneur des Anneaux', 'Interstellar']\n",
            "Après avoir retiré le film à l'index 1 (Le Seigneur des Anneaux) : ['Inception', 'Interstellar']\n"
          ]
        }
      ],
      "source": [
        "# Création de la liste initiale\n",
        "films_pref = [\"Inception\", \"Interstellar\", \"Le Prestige\"]\n",
        "print(\"Liste initiale de films préférés :\", films_pref)\n",
        "\n",
        "# Ajouter un film à la fin\n",
        "films_pref.append(\"Matrix\")\n",
        "print(\"Après ajout de Matrix :\", films_pref)\n",
        "\n",
        "# Insérer un film en seconde position\n",
        "films_pref.insert(1, \"Le Seigneur des Anneaux\")\n",
        "print(\"Après insertion du Seigneur des Anneaux en seconde position :\", films_pref)\n",
        "\n",
        "# Retirer un film spécifique\n",
        "films_pref.remove(\"Le Prestige\")\n",
        "print(\"Après avoir retiré Le Prestige :\", films_pref)\n",
        "\n",
        "# Retirer le dernier film ajouté\n",
        "dernier_film = films_pref.pop()\n",
        "print(f\"Après avoir retiré le dernier film ajouté ({dernier_film}) :\", films_pref)\n",
        "\n",
        "# Retirer un film par index, par exemple l'index 1\n",
        "film_specifique = films_pref.pop(1)\n",
        "print(f\"Après avoir retiré le film à l'index 1 ({film_specifique}) :\", films_pref)"
      ]
    },
    {
      "cell_type": "markdown",
      "metadata": {
        "id": "O_AhWig2DQP9"
      },
      "source": [
        "★★☆ Triez une liste de nombres dans l'ordre croissant, puis décroissant.\n",
        "\n",
        "🎯 Appliquer des méthodes de tri sur les listes."
      ]
    },
    {
      "cell_type": "code",
      "execution_count": null,
      "metadata": {
        "id": "-55wStVYCPXb",
        "outputId": "c441e6c2-a100-49a4-c03e-08228b53bbbd"
      },
      "outputs": [
        {
          "name": "stdout",
          "output_type": "stream",
          "text": [
            "Liste triée dans l'ordre croissant : [1, 1, 2, 3, 4, 5, 6, 9]\n",
            "Liste triée dans l'ordre décroissant : [9, 6, 5, 4, 3, 2, 1, 1]\n"
          ]
        }
      ],
      "source": [
        "# Liste originale\n",
        "nombres = [3, 1, 4, 1, 5, 9, 2, 6]\n",
        "\n",
        "# Obtenir une nouvelle liste triée dans l'ordre croissant\n",
        "nombres_croissants = sorted(nombres)\n",
        "print(\"Liste triée dans l'ordre croissant :\", nombres_croissants)\n",
        "\n",
        "# Obtenir une nouvelle liste triée dans l'ordre décroissant\n",
        "nombres_decroissants = sorted(nombres, reverse=True)\n",
        "print(\"Liste triée dans l'ordre décroissant :\", nombres_decroissants)"
      ]
    },
    {
      "cell_type": "markdown",
      "metadata": {
        "id": "WnJ1Vof_DP66"
      },
      "source": [
        "★★★ Utilisez un dictionnaire pour stocker les informations sur différents pays (nom, population, continent).\n",
        "\n",
        "🎯 Maîtriser les opérations sur les dictionnaires."
      ]
    },
    {
      "cell_type": "code",
      "execution_count": null,
      "metadata": {
        "id": "Hn8ZxZ18CPbA",
        "outputId": "ee64833d-d1ae-4aa9-863b-f04f3a37db85"
      },
      "outputs": [
        {
          "name": "stdout",
          "output_type": "stream",
          "text": [
            "France: Population - 67.39 millions, Continent - Europe\n",
            "Japon: Population - 125.8 millions, Continent - Asie\n",
            "Canada: Population - 38.01 millions, Continent - Amérique du Nord\n",
            "Brésil: Population - 212.6 millions, Continent - Amérique du Sud\n",
            "Australie: Population - 25.69 millions, Continent - Océanie\n",
            "Nigéria: Population - 206.1 millions, Continent - Afrique\n"
          ]
        }
      ],
      "source": [
        "# Dictionnaire contenant les informations sur différents pays\n",
        "infos_pays = {\n",
        "    \"France\": {\"population\": 67.39, \"continent\": \"Europe\"},\n",
        "    \"Japon\": {\"population\": 125.8, \"continent\": \"Asie\"},\n",
        "    \"Canada\": {\"population\": 38.01, \"continent\": \"Amérique du Nord\"},\n",
        "    \"Brésil\": {\"population\": 212.6, \"continent\": \"Amérique du Sud\"},\n",
        "    \"Australie\": {\"population\": 25.69, \"continent\": \"Océanie\"},\n",
        "    \"Nigéria\": {\"population\": 206.1, \"continent\": \"Afrique\"},\n",
        "}\n",
        "\n",
        "# Afficher les informations sur chaque pays\n",
        "for pays, infos in infos_pays.items():\n",
        "    print(f\"{pays}: Population - {infos['population']} millions, Continent - {infos['continent']}\")"
      ]
    },
    {
      "cell_type": "markdown",
      "metadata": {
        "id": "eHmgmZHBFNs5"
      },
      "source": [
        "## Référence et adresses\n",
        "\n",
        "En Python, les variables sont des références à des objets en mémoire. Comprenez comment Python gère ces références et les implications sur la manipulation des données."
      ]
    },
    {
      "cell_type": "markdown",
      "metadata": {
        "id": "lAC9WpgaDeQE"
      },
      "source": [
        "★☆☆ Copiez une liste dans une autre et modifiez la seconde. Observez les changements dans les deux listes.\n",
        "\n",
        "🎯 Comprendre la référence d'objet."
      ]
    },
    {
      "cell_type": "code",
      "execution_count": null,
      "metadata": {
        "id": "GtJC3b1MFUNS",
        "outputId": "5f38669f-6e57-463d-a194-d3655d23bc01"
      },
      "outputs": [
        {
          "name": "stdout",
          "output_type": "stream",
          "text": [
            "Liste originale: [1, 2, 3, 4, 5]\n",
            "Liste copiée et modifiée: [0, 2, 3, 4, 5, 6]\n"
          ]
        }
      ],
      "source": [
        "# Liste originale\n",
        "liste_originale = [1, 2, 3, 4, 5]\n",
        "\n",
        "# Copie superficielle\n",
        "liste_copie = liste_originale.copy()\n",
        "\n",
        "# Modifier la liste copiée\n",
        "liste_copie.append(6)\n",
        "liste_copie[0] = 0\n",
        "\n",
        "# Afficher les deux listes\n",
        "print(\"Liste originale:\", liste_originale)\n",
        "print(\"Liste copiée et modifiée:\", liste_copie)"
      ]
    },
    {
      "cell_type": "markdown",
      "metadata": {
        "id": "lBVTzRXiDewp"
      },
      "source": [
        "★★☆ Manipulez une liste de listes et observez les effets de modifications.\n",
        "\n",
        "🎯 Explorer les références imbriquées."
      ]
    },
    {
      "cell_type": "code",
      "execution_count": null,
      "metadata": {
        "id": "6CF3eZArFU1L",
        "outputId": "08f94a4d-2adb-4a39-df5f-994ed7101374"
      },
      "outputs": [
        {
          "name": "stdout",
          "output_type": "stream",
          "text": [
            "Après modification : [[1, 200, 3], [4, 5, 6], [7, 8, 9]]\n"
          ]
        }
      ],
      "source": [
        "# Créer une liste de listes\n",
        "liste_de_listes = [[1, 2, 3], [4, 5, 6], [7, 8, 9]]\n",
        "\n",
        "# Modifier une sous-liste\n",
        "liste_de_listes[0][1] = 200\n",
        "\n",
        "print(\"Après modification :\", liste_de_listes)"
      ]
    },
    {
      "cell_type": "code",
      "execution_count": null,
      "metadata": {
        "id": "tlLHoig-IZFA",
        "outputId": "300e535f-89e8-46bf-edd4-2bffa8f3af07"
      },
      "outputs": [
        {
          "name": "stdout",
          "output_type": "stream",
          "text": [
            "Après modification de la sous-liste originale : [[1, 200, 3], [1, 200, 3], [1, 200, 3]]\n"
          ]
        }
      ],
      "source": [
        "# Créer une sous-liste\n",
        "sous_liste = [1, 2, 3]\n",
        "\n",
        "# Utiliser la même sous-liste plusieurs fois dans une liste de listes\n",
        "liste_de_listes = [sous_liste, sous_liste, sous_liste]\n",
        "\n",
        "# Modifier la sous-liste originale\n",
        "sous_liste[1] = 200\n",
        "\n",
        "print(\"Après modification de la sous-liste originale :\", liste_de_listes)"
      ]
    },
    {
      "cell_type": "markdown",
      "metadata": {
        "id": "xxQestZGDfHm"
      },
      "source": [
        "★★★ Montrez comment les modifications d'un objet affectent les autres variables qui y sont référencées.\n",
        "\n",
        "🎯 Approfondir la compréhension des références en Python."
      ]
    },
    {
      "cell_type": "code",
      "execution_count": null,
      "metadata": {
        "id": "hJDr2d7vFVOS",
        "outputId": "214ce464-dfe3-4376-e352-506f1fffdc18"
      },
      "outputs": [
        {
          "name": "stdout",
          "output_type": "stream",
          "text": [
            "Liste originale: [1, 2, 3, 4]\n",
            "Seconde référence: [1, 2, 3, 4]\n"
          ]
        }
      ],
      "source": [
        "# Création d'une liste\n",
        "liste_originale = [1, 2, 3]\n",
        "\n",
        "# Création d'une seconde référence à la même liste\n",
        "seconde_reference = liste_originale\n",
        "\n",
        "# Modification de la liste via la seconde référence\n",
        "seconde_reference.append(4)\n",
        "\n",
        "print(\"Liste originale:\", liste_originale)\n",
        "print(\"Seconde référence:\", seconde_reference)"
      ]
    },
    {
      "cell_type": "code",
      "execution_count": null,
      "metadata": {
        "id": "DTHsUd88IZFB",
        "outputId": "488e8baa-c37c-415a-f7ac-1cbbd31713ec"
      },
      "outputs": [
        {
          "name": "stdout",
          "output_type": "stream",
          "text": [
            "Texte original: Hello\n",
            "Seconde référence: Hello World\n"
          ]
        }
      ],
      "source": [
        "# Création d'une chaîne de caractères\n",
        "texte_original = \"Hello\"\n",
        "\n",
        "# Création d'une seconde référence à la même chaîne\n",
        "seconde_reference = texte_original\n",
        "\n",
        "# Tentative de modification de la chaîne via la seconde référence\n",
        "seconde_reference = seconde_reference + \" World\"\n",
        "\n",
        "print(\"Texte original:\", texte_original)\n",
        "print(\"Seconde référence:\", seconde_reference)"
      ]
    },
    {
      "cell_type": "markdown",
      "metadata": {
        "id": "i5LH64eWFfRV"
      },
      "source": [
        "## Fonctions\n",
        "\n",
        "Les fonctions sont des blocs de code réutilisables. Apprenez à définir des fonctions avec ou sans paramètres et à utiliser les fonctions lambda pour des opérations simples."
      ]
    },
    {
      "cell_type": "markdown",
      "metadata": {
        "id": "1I0AXMHLDfnh"
      },
      "source": [
        "★☆☆ Écrivez une fonction qui calcule le carré d'un nombre.\n",
        "\n",
        "🎯 Créer des fonctions simples."
      ]
    },
    {
      "cell_type": "code",
      "execution_count": null,
      "metadata": {
        "id": "Hb0-SiwLFV0b",
        "outputId": "cb172b44-b9a4-452c-975d-daa72d331e35"
      },
      "outputs": [
        {
          "name": "stdout",
          "output_type": "stream",
          "text": [
            "Le carré de 9.0 est 81.0.\n"
          ]
        }
      ],
      "source": [
        "def carre(nombre):\n",
        "    return nombre ** 2\n",
        "\n",
        "# Demander à l'utilisateur d'entrer un nombre\n",
        "nombre_user = float(input(\"Entrez un nombre pour calculer son carré : \"))\n",
        "\n",
        "# Calculer le carré du nombre entré\n",
        "resultat = carre(nombre_user)\n",
        "\n",
        "# Afficher le résultat\n",
        "print(f\"Le carré de {nombre_user} est {resultat}.\")"
      ]
    },
    {
      "cell_type": "markdown",
      "metadata": {
        "id": "H7bUphu7DgAq"
      },
      "source": [
        "★★☆ Développez une fonction qui accepte des arguments multiples et retourne leur moyenne.\n",
        "\n",
        "🎯 Utiliser des paramètres dans les fonctions."
      ]
    },
    {
      "cell_type": "code",
      "execution_count": null,
      "metadata": {
        "id": "nah6X6gMFWYT",
        "outputId": "0360847b-e68b-4d84-9540-d673993210e1"
      },
      "outputs": [
        {
          "name": "stdout",
          "output_type": "stream",
          "text": [
            "La moyenne des nombres fournis est 30.0.\n"
          ]
        }
      ],
      "source": [
        "def moyenne(*nombres):\n",
        "    # Vérifier si au moins un nombre a été fourni\n",
        "    if len(nombres) == 0:\n",
        "        return None  # Ou retourner une valeur spécifique indiquant qu'aucun nombre n'a été fourni\n",
        "    return sum(nombres) / len(nombres)\n",
        "\n",
        "# Exemple d'utilisation\n",
        "resultat = moyenne(10, 20, 30, 40, 50)\n",
        "print(f\"La moyenne des nombres fournis est {resultat}.\")"
      ]
    },
    {
      "cell_type": "markdown",
      "metadata": {
        "id": "pIj9ny7wDgcG"
      },
      "source": [
        "★★★ Créez une fonction récursive pour calculer les termes de la suite de Fibonacci.\n",
        "\n",
        "🎯 Pratiquer la récursivité."
      ]
    },
    {
      "cell_type": "code",
      "execution_count": null,
      "metadata": {
        "id": "j2dwYx-KFXBD",
        "outputId": "829ed08b-6f08-458d-fc8f-c96aa180084c"
      },
      "outputs": [
        {
          "name": "stdout",
          "output_type": "stream",
          "text": [
            "Le terme numéro 3 de la suite de Fibonacci est : 1\n"
          ]
        }
      ],
      "source": [
        "def fibonacci(n):\n",
        "    \"\"\"Calculer le n-ième terme de la suite de Fibonacci de manière récursive.\"\"\"\n",
        "    if n <= 0:\n",
        "        return \"L'indice doit être un entier positif.\"\n",
        "    elif n == 1:\n",
        "        return 0\n",
        "    elif n == 2:\n",
        "        return 1\n",
        "    else:\n",
        "        return fibonacci(n-1) + fibonacci(n-2)\n",
        "\n",
        "# Demander à l'utilisateur d'entrer le terme à calculer\n",
        "n = int(input(\"Entrez le numéro du terme de la suite de Fibonacci à calculer : \"))\n",
        "\n",
        "# Calculer et afficher le terme de la suite de Fibonacci\n",
        "print(f\"Le terme numéro {n} de la suite de Fibonacci est : {fibonacci(n)}\")"
      ]
    },
    {
      "cell_type": "markdown",
      "metadata": {
        "id": "SfjHylMGFjdT"
      },
      "source": [
        "## Manipulation des fichiers\n",
        "\n",
        "Apprenez à travailler avec des fichiers : ouvrir un fichier, lire son contenu, écrire des données, et le fermer en utilisant les instructions open, read, write, et close."
      ]
    },
    {
      "cell_type": "markdown",
      "metadata": {
        "id": "apJKG9xkDgwN"
      },
      "source": [
        "★☆☆ Lisez un fichier texte et affichez son contenu.\n",
        "\n",
        "🎯 Maîtriser les bases de la lecture de fichiers."
      ]
    },
    {
      "cell_type": "code",
      "execution_count": null,
      "metadata": {
        "id": "i4FWh4tDFXgP"
      },
      "outputs": [],
      "source": [
        "# Remplacer 'chemin_du_fichier.txt' par le chemin réel vers votre fichier\n",
        "chemin_du_fichier = 'chemin_du_fichier.txt'\n",
        "\n",
        "# Ouvrir le fichier en mode lecture ('r')\n",
        "with open(chemin_du_fichier, 'r') as fichier:\n",
        "    # Lire le contenu du fichier\n",
        "    contenu = fichier.read()\n",
        "\n",
        "    # Afficher le contenu du fichier\n",
        "    print(contenu)"
      ]
    },
    {
      "cell_type": "markdown",
      "metadata": {
        "id": "h_ogohaGDhJU"
      },
      "source": [
        "★★☆ Écrivez un programme qui lit un fichier et compte le nombre de mots.\n",
        "\n",
        "🎯 Combiner la lecture de fichiers avec des manipulations de chaînes."
      ]
    },
    {
      "cell_type": "code",
      "execution_count": null,
      "metadata": {
        "id": "6xW1stsiFYAe"
      },
      "outputs": [],
      "source": [
        "# Remplacer 'chemin_du_fichier.txt' par le chemin réel vers votre fichier\n",
        "chemin_du_fichier = 'chemin_du_fichier.txt'\n",
        "\n",
        "# Ouvrir le fichier en mode lecture ('r')\n",
        "with open(chemin_du_fichier, 'r') as fichier:\n",
        "    # Lire le contenu du fichier\n",
        "    contenu = fichier.read()\n",
        "\n",
        "    # Séparer le contenu en mots et compter le nombre de mots\n",
        "    mots = contenu.split()\n",
        "    nombre_mots = len(mots)\n",
        "\n",
        "    # Afficher le nombre de mots\n",
        "    print(f\"Le fichier contient {nombre_mots} mots.\")"
      ]
    },
    {
      "cell_type": "markdown",
      "metadata": {
        "id": "b3oqjQw4Dhei"
      },
      "source": [
        "★★★ Créez un script qui lit un fichier et enregistre chaque ligne dans un nouveau fichier après y avoir apporté des modifications spécifiques (par exemple, ajouter un certain préfixe à chaque ligne).\n",
        "\n",
        "🎯 Pratiquer la lecture et l'écriture de fichiers avancées."
      ]
    },
    {
      "cell_type": "code",
      "execution_count": null,
      "metadata": {
        "id": "BOm90qeNFYa8"
      },
      "outputs": [],
      "source": [
        "# Remplacer par les chemins réels de vos fichiers\n",
        "chemin_du_fichier_source = 'source.txt'\n",
        "chemin_du_fichier_destination = 'destination.txt'\n",
        "prefixe = 'Préfixe: '\n",
        "\n",
        "# Ouvrir le fichier source en mode lecture ('r') et le fichier de destination en mode écriture ('w')\n",
        "with open(chemin_du_fichier_source, 'r') as fichier_source, open(chemin_du_fichier_destination, 'w') as fichier_destination:\n",
        "    # Lire chaque ligne du fichier source\n",
        "    for ligne in fichier_source:\n",
        "        # Ajouter le préfixe à la ligne\n",
        "        ligne_modifiee = prefixe + ligne\n",
        "\n",
        "        # Écrire la ligne modifiée dans le fichier de destination\n",
        "        fichier_destination.write(ligne_modifiee)\n",
        "\n",
        "print(\"Les lignes ont été modifiées et sauvegardées dans le fichier de destination.\")"
      ]
    },
    {
      "cell_type": "markdown",
      "metadata": {
        "id": "YYMJ6LVzFnFM"
      },
      "source": [
        "## Gestion des exceptions\n",
        "\n",
        "Les exceptions sont des erreurs détectées pendant l'exécution. Familiarisez-vous avec la syntaxe try/except pour gérer ces erreurs et maintenir la robustesse de vos programmes."
      ]
    },
    {
      "cell_type": "markdown",
      "metadata": {
        "id": "FfRPHPdQDh5b"
      },
      "source": [
        "★☆☆ Gérez une exception simple, comme une division par zéro.\n",
        "\n",
        "🎯 Introduire la gestion des exceptions."
      ]
    },
    {
      "cell_type": "code",
      "execution_count": null,
      "metadata": {
        "id": "yQuvc4WbFY7F"
      },
      "outputs": [],
      "source": [
        "def diviser(a, b):\n",
        "    try:\n",
        "        return a / b\n",
        "    except ZeroDivisionError:\n",
        "        return \"Erreur : Division par zéro !\"\n",
        "\n",
        "# Exemple d'utilisation\n",
        "print(diviser(10, 2))  # Affichera le résultat de la division\n",
        "print(diviser(10, 0))  # Affichera \"Erreur : Division par zéro !\""
      ]
    },
    {
      "cell_type": "markdown",
      "metadata": {
        "id": "HiYthR-kDiN7"
      },
      "source": [
        "★★☆ Écrivez un programme qui gère plusieurs types d'exceptions (par exemple, erreur de type et erreur d'index).\n",
        "\n",
        "🎯 Gérer des exceptions multiples."
      ]
    },
    {
      "cell_type": "code",
      "execution_count": null,
      "metadata": {
        "id": "HszeuP2GFZR4",
        "outputId": "08c600f2-5b7c-4388-b997-2151c8f6f522"
      },
      "outputs": [
        {
          "name": "stdout",
          "output_type": "stream",
          "text": [
            "10.0\n",
            "Erreur d'index : L'index est hors des limites de la liste.\n",
            "Erreur : Division par zéro !\n",
            "Erreur de type : Assurez-vous que tous les éléments sont des nombres et que le diviseur est un nombre.\n"
          ]
        }
      ],
      "source": [
        "def acceder_element_et_diviser(liste, index, diviseur):\n",
        "    try:\n",
        "        # Tentative d'accéder à un élément de la liste et de le diviser par le diviseur\n",
        "        resultat = liste[index] / diviseur\n",
        "        return resultat\n",
        "    except TypeError:\n",
        "        return \"Erreur de type : Assurez-vous que tous les éléments sont des nombres et que le diviseur est un nombre.\"\n",
        "    except IndexError:\n",
        "        return \"Erreur d'index : L'index est hors des limites de la liste.\"\n",
        "    except ZeroDivisionError:\n",
        "        return \"Erreur : Division par zéro !\"\n",
        "\n",
        "# Exemples d'utilisation\n",
        "print(acceder_element_et_diviser([10, 20, 30], 1, 2))  # Fonctionnera correctement\n",
        "print(acceder_element_et_diviser([10, 20, 30], 3, 2))  # Lèvera IndexError\n",
        "print(acceder_element_et_diviser([10, 20, 30], 1, 0))  # Lèvera ZeroDivisionError\n",
        "print(acceder_element_et_diviser([10, \"vingt\", 30], 1, 2))  # Lèvera TypeError"
      ]
    },
    {
      "cell_type": "markdown",
      "metadata": {
        "id": "l7WcSH4gDig8"
      },
      "source": [
        "★★★ Développez un script qui lit des données d'un fichier et utilise la gestion des exceptions pour traiter diverses erreurs potentielles (comme des erreurs de format de fichier ou des erreurs d'entrée/sortie).\n",
        "\n",
        "🎯 Intégrer la gestion des exceptions dans des opérations de fichier."
      ]
    },
    {
      "cell_type": "code",
      "execution_count": null,
      "metadata": {
        "id": "P_goI4DIFZzp",
        "outputId": "90fdbeca-2fa8-4ada-9a0e-e9818eca871c"
      },
      "outputs": [
        {
          "name": "stdout",
          "output_type": "stream",
          "text": [
            "Erreur : Le fichier 'chemin_vers_votre_fichier.txt' n'a pas été trouvé.\n"
          ]
        }
      ],
      "source": [
        "def lire_fichier_et_traiter(chemin_du_fichier):\n",
        "    try:\n",
        "        with open(chemin_du_fichier, 'r') as fichier:\n",
        "            contenu = fichier.read()\n",
        "            # Ici, imaginez qu'on s'attend à un format spécifique, comme des nombres séparés par des virgules\n",
        "            nombres = [int(item) for item in contenu.split(',')]\n",
        "            print(\"Nombres lus du fichier :\", nombres)\n",
        "    except FileNotFoundError:\n",
        "        print(f\"Erreur : Le fichier '{chemin_du_fichier}' n'a pas été trouvé.\")\n",
        "    except ValueError:\n",
        "        print(\"Erreur de valeur : Le fichier contient des données qui ne sont pas des nombres valides.\")\n",
        "    except Exception as e:\n",
        "        print(f\"Une erreur inattendue est survenue : {e}\")\n",
        "\n",
        "# Exemple d'utilisation\n",
        "chemin_du_fichier = 'chemin_vers_votre_fichier.txt'\n",
        "lire_fichier_et_traiter(chemin_du_fichier)"
      ]
    },
    {
      "cell_type": "markdown",
      "metadata": {
        "id": "rsu15ah0FrcZ"
      },
      "source": [
        "## Programmation Orientée Objet\n",
        "\n",
        "Python supporte la programmation orientée objet. Comprenez les concepts de classes, objets, héritage, et encapsulation pour structurer efficacement votre code."
      ]
    },
    {
      "cell_type": "markdown",
      "metadata": {
        "id": "f6ksGVwQDi4R"
      },
      "source": [
        "★☆☆ Créez une classe simple, comme une classe Voiture, avec des attributs de base comme la marque et le modèle.\n",
        "\n",
        "🎯 Comprendre la création et l'utilisation de classes."
      ]
    },
    {
      "cell_type": "code",
      "execution_count": null,
      "metadata": {
        "id": "qrmmx81LFaT7",
        "outputId": "318acb11-53c8-436c-c915-71f1b3d60b8f"
      },
      "outputs": [
        {
          "name": "stdout",
          "output_type": "stream",
          "text": [
            "Marque de la voiture : Peugeot\n",
            "Modèle de la voiture : 208\n"
          ]
        }
      ],
      "source": [
        "class Voiture:\n",
        "    def __init__(self, marque, modele):\n",
        "        \"\"\"Constructeur de la classe Voiture pour initialiser les attributs.\"\"\"\n",
        "        self.marque = marque\n",
        "        self.modele = modele\n",
        "\n",
        "    def afficher_details(self):\n",
        "        \"\"\"Méthode pour afficher les détails de la voiture.\"\"\"\n",
        "        print(f\"Marque de la voiture : {self.marque}\")\n",
        "        print(f\"Modèle de la voiture : {self.modele}\")\n",
        "\n",
        "# Créer une instance de la classe Voiture\n",
        "ma_voiture = Voiture(\"Peugeot\", \"208\")\n",
        "\n",
        "# Utiliser la méthode afficher_details pour afficher les informations de la voiture\n",
        "ma_voiture.afficher_details()"
      ]
    },
    {
      "cell_type": "markdown",
      "metadata": {
        "id": "XEJcClifDjU8"
      },
      "source": [
        "★★☆ Ajoutez des méthodes à la classe Voiture pour permettre de changer ses attributs, comme la couleur ou le kilométrage.\n",
        "\n",
        "🎯 Pratiquer l'ajout de méthodes et la modification d'attributs."
      ]
    },
    {
      "cell_type": "code",
      "execution_count": null,
      "metadata": {
        "id": "iKvU8H1JFbAZ",
        "outputId": "29b69036-035b-4374-92c4-1edc2c04f0da"
      },
      "outputs": [
        {
          "name": "stdout",
          "output_type": "stream",
          "text": [
            "Voiture initiale: Toyota Corolla, Couleur: rouge, Kilométrage: 25000 km\n",
            "La couleur de la voiture a été changée en bleu.\n",
            "Kilométrage mis à jour : 26500 km.\n"
          ]
        }
      ],
      "source": [
        "class Voiture:\n",
        "    def __init__(self, marque, modele, couleur, kilometrage):\n",
        "        self.marque = marque\n",
        "        self.modele = modele\n",
        "        self.couleur = couleur\n",
        "        self.kilometrage = kilometrage\n",
        "\n",
        "    def changer_couleur(self, nouvelle_couleur):\n",
        "        self.couleur = nouvelle_couleur\n",
        "        print(f\"La couleur de la voiture a été changée en {self.couleur}.\")\n",
        "\n",
        "    def ajouter_kilometrage(self, km):\n",
        "        if km < 0:\n",
        "            print(\"Impossible d'ajouter un kilométrage négatif.\")\n",
        "        else:\n",
        "            self.kilometrage += km\n",
        "            print(f\"Kilométrage mis à jour : {self.kilometrage} km.\")\n",
        "\n",
        "# Exemple d'utilisation\n",
        "ma_voiture = Voiture(\"Toyota\", \"Corolla\", \"rouge\", 25000)\n",
        "print(f\"Voiture initiale: {ma_voiture.marque} {ma_voiture.modele}, Couleur: {ma_voiture.couleur}, Kilométrage: {ma_voiture.kilometrage} km\")\n",
        "\n",
        "# Changer la couleur de la voiture\n",
        "ma_voiture.changer_couleur(\"bleu\")\n",
        "\n",
        "# Ajouter du kilométrage\n",
        "ma_voiture.ajouter_kilometrage(1500)"
      ]
    },
    {
      "cell_type": "markdown",
      "metadata": {
        "id": "2O3zgp-zDjn4"
      },
      "source": [
        "★★★ Développez une hiérarchie de classes où une classe Véhicule sert de classe de base pour plusieurs types de véhicules (comme Voiture, Moto).\n",
        "\n",
        "🎯 Maîtriser l'héritage et la polymorphisme en programmation orientée objet."
      ]
    },
    {
      "cell_type": "code",
      "execution_count": null,
      "metadata": {
        "id": "glkeMIaEFbZb"
      },
      "outputs": [],
      "source": [
        "class Vehicule:\n",
        "    def __init__(self, marque, modele, couleur):\n",
        "        self.marque = marque\n",
        "        self.modele = modele\n",
        "        self.couleur = couleur\n",
        "        self.kilometrage = 0\n",
        "\n",
        "    def afficher_description(self):\n",
        "        return f\"{self.couleur} {self.marque} {self.modele}, {self.kilometrage} km\"\n",
        "\n",
        "    def peindre(self, nouvelle_couleur):\n",
        "        self.couleur = nouvelle_couleur\n",
        "        print(f\"Le véhicule a été repeint en {nouvelle_couleur}.\")\n",
        "\n",
        "    def ajouter_kilometrage(self, km):\n",
        "        if km >= 0:\n",
        "            self.kilometrage += km\n",
        "            print(f\"{km} km ajoutés au compteur. Nouveau kilométrage : {self.kilometrage} km.\")\n",
        "        else:\n",
        "            print(\"Vous ne pouvez pas ajouter un kilométrage négatif.\")\n",
        "\n",
        "class Voiture(Vehicule):\n",
        "    def __init__(self, marque, modele, couleur, portes):\n",
        "        super().__init__(marque, modele, couleur)\n",
        "        self.portes = portes\n",
        "\n",
        "    def afficher_description(self):\n",
        "        description_base = super().afficher_description()\n",
        "        return f\"{description_base}, {self.portes} portes\"\n",
        "\n",
        "class Moto(Vehicule):\n",
        "    def __init__(self, marque, modele, couleur, cylindree):\n",
        "        super().__init__(marque, modele, couleur)\n",
        "        self.cylindree = cylindree\n",
        "\n",
        "    def afficher_description(self):\n",
        "        description_base = super().afficher_description()\n",
        "        return f\"{description_base}, {self.cylindree} cc\""
      ]
    },
    {
      "cell_type": "code",
      "execution_count": null,
      "metadata": {
        "id": "HW0cQi4lIZFL",
        "outputId": "55d8c0a4-8c3c-454e-ec57-089af9d33a5b"
      },
      "outputs": [
        {
          "name": "stdout",
          "output_type": "stream",
          "text": [
            "150 km ajoutés au compteur. Nouveau kilométrage : 150 km.\n",
            "Le véhicule a été repeint en noir.\n",
            "noir Peugeot 208, 150 km, 5 portes\n",
            "500 km ajoutés au compteur. Nouveau kilométrage : 500 km.\n",
            "bleu Yamaha MT-07, 500 km, 689 cc\n"
          ]
        }
      ],
      "source": [
        "ma_voiture = Voiture(\"Peugeot\", \"208\", \"rouge\", 5)\n",
        "ma_moto = Moto(\"Yamaha\", \"MT-07\", \"bleu\", 689)\n",
        "\n",
        "ma_voiture.ajouter_kilometrage(150)\n",
        "ma_voiture.peindre(\"noir\")\n",
        "print(ma_voiture.afficher_description())\n",
        "\n",
        "ma_moto.ajouter_kilometrage(500)\n",
        "print(ma_moto.afficher_description())"
      ]
    },
    {
      "cell_type": "markdown",
      "metadata": {
        "id": "WAYluDrSFwBZ"
      },
      "source": [
        "## Synthèse des acquis"
      ]
    },
    {
      "cell_type": "markdown",
      "metadata": {
        "id": "Ar2lnrHaK6lw"
      },
      "source": [
        "**Étape 1 :** Créez une classe Livre avec des attributs pour le titre, l'auteur, l'année de publication, et le chemin de l'image de couverture.\n",
        "\n",
        "**Étape 2 :** Développez une interface console pour ajouter, afficher, et rechercher des livres, avec la possibilité d'inclure et de visualiser les images de couvertures.\n",
        "\n",
        "**Étape 3 :** Stockez les livres dans une liste, avec des fonctionnalités pour ajouter et supprimer des livres.\n",
        "\n",
        "**Étape 4 :** Implémentez la lecture et l'écriture des données des livres dans un fichier, y compris les chemins des images.\n",
        "\n",
        "**Étape 5 :** Intégrez PIL pour charger et afficher les images des couvertures des livres.\n",
        "\n",
        "**Étape 6 :** Assurez-vous que l'application gère correctement les erreurs, notamment en lien avec la manipulation des fichiers et des images.\n",
        "\n",
        "**Étape 7 :** Testez toutes les fonctionnalités pour assurer le bon fonctionnement de l'application."
      ]
    },
    {
      "cell_type": "code",
      "execution_count": null,
      "metadata": {
        "id": "DhYWTO5LLji0"
      },
      "outputs": [],
      "source": [
        "# Etape 1\n",
        "\n",
        "class Livre:\n",
        "    def __init__(self, titre, auteur, annee, chemin_image):\n",
        "        self.titre = titre\n",
        "        self.auteur = auteur\n",
        "        self.annee = annee\n",
        "        self.chemin_image = chemin_image\n",
        "\n",
        "    def __str__(self):\n",
        "        return f\"{self.titre}, par {self.auteur} ({self.annee})\""
      ]
    },
    {
      "cell_type": "code",
      "execution_count": null,
      "metadata": {
        "id": "lNh2blx3IZFN"
      },
      "outputs": [],
      "source": [
        "# Etape 2\n",
        "bibliotheque = []\n",
        "\n",
        "def ajouter_livre():\n",
        "    titre = input(\"Titre du livre: \")\n",
        "    auteur = input(\"Auteur du livre: \")\n",
        "    annee = input(\"Année de publication: \")\n",
        "    chemin_image = input(\"Chemin de l'image de couverture: \")\n",
        "    nouveau_livre = Livre(titre, auteur, annee, chemin_image)\n",
        "    bibliotheque.append(nouveau_livre)\n",
        "    print(\"Livre ajouté avec succès.\")\n",
        "\n",
        "def afficher_livres():\n",
        "    for livre in bibliotheque:\n",
        "        print(livre)\n",
        "\n",
        "def rechercher_livre(titre):\n",
        "    for livre in bibliotheque:\n",
        "        if livre.titre == titre:\n",
        "            print(\"Livre trouvé :\", livre)\n",
        "            return livre\n",
        "    print(\"Livre non trouvé.\")\n",
        "    return None"
      ]
    },
    {
      "cell_type": "code",
      "execution_count": null,
      "metadata": {
        "id": "eOTo_ronIZFN"
      },
      "outputs": [],
      "source": [
        "# Etape 4\n",
        "\n",
        "import json\n",
        "\n",
        "def sauvegarder_bibliotheque():\n",
        "    with open('bibliotheque.json', 'w') as fichier:\n",
        "        json.dump([vars(livre) for livre in bibliotheque], fichier)\n",
        "\n",
        "def charger_bibliotheque():\n",
        "    global bibliotheque\n",
        "    try:\n",
        "        with open('bibliotheque.json', 'r') as fichier:\n",
        "            bibliotheque_json = json.load(fichier)\n",
        "            bibliotheque = [Livre(**livre) for livre in bibliotheque_json]\n",
        "    except FileNotFoundError:\n",
        "        bibliotheque = []"
      ]
    }
  ],
  "metadata": {
    "colab": {
      "provenance": []
    },
    "kernelspec": {
      "display_name": "Python 3 (ipykernel)",
      "language": "python",
      "name": "python3"
    },
    "language_info": {
      "codemirror_mode": {
        "name": "ipython",
        "version": 3
      },
      "file_extension": ".py",
      "mimetype": "text/x-python",
      "name": "python",
      "nbconvert_exporter": "python",
      "pygments_lexer": "ipython3",
      "version": "3.10.13"
    }
  },
  "nbformat": 4,
  "nbformat_minor": 0
}
