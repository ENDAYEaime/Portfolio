{
 "cells": [
  {
   "cell_type": "markdown",
   "metadata": {
    "id": "fhMRvT7MMYxW"
   },
   "source": [
    "# Notebook : Création d'une application Streamlit pour le suivi de l'épidémie de COVID-19"
   ]
  },
  {
   "cell_type": "markdown",
   "metadata": {
    "id": "5lts-IQk6oFx"
   },
   "source": [
    "---\n",
    "<img src=\"https://asset.brandfetch.io/idvDrMBg3m/idgDR62lX4.png\" alt=\"Logo Data Rockstars\" width=\"274\" height=\"80\">\n",
    "\n",
    "### 🔒 Le contenu de ce document est confidentiel. 📝\n",
    "_Le contenu de ce document est confidentiel et la copie ou la distribution est interdite._ 😶‍🌫️\n",
    "\n",
    "📧 Pour toute question, veuillez nous contacter à [contact@datarockstars.ai](mailto:contact@datarockstars.ai)\n",
    "\n",
    "---\n",
    "# Le programme du notebook\n",
    "\n",
    "**📖 Au programme**\n",
    "- Data Visualisation\n",
    "- Application Streamlit\n",
    "\n",
    "**🎁 Les takeaways**\n",
    "- Slides de cours\n",
    "- Accès à la plateforme\n",
    "- Notebooks\n",
    "- Snippets penses bêtes de code que vous pouvez garder à vie\n",
    "\n",
    "---\n",
    "\n",
    "# Motivation\n",
    "Dans un monde dominé par la technologie et les données, savoir créer des visualisations de données interactives est une compétence essentielle. Ce notebook est conçu pour initier les étudiants aux techniques de visualisation de données en utilisant Streamlit, une bibliothèque Python, et ngrok, un outil qui expose localement un port à Internet. L'objectif est de permettre aux étudiants de construire des applications web pour la présentation et l'analyse de données, et de partager facilement leurs travaux à travers le web. Ce sont des compétences clés pour quiconque souhaite travailler dans des domaines liés à la data science, à l'analyse de données, ou à toute autre discipline où la compréhension et la communication des informations de données sont cruciales.\n",
    "\n",
    "**Conseil : N'hésitez pas à explorer au maximum les données et d'aller au-delà des questions formulées. La pratique est essentielle pour renforcer vos compétences en analyse de données.**\n",
    "\n",
    "---\n",
    "\n",
    "<div style=\"border:2px solid red; padding: 10px;\">\n",
    "    <p style=\"color: red;\"><strong>⚠️ Soumettre votre challenge à la fin de chaque module ⚠️</strong></p>\n",
    "    <ul>\n",
    "        <li>💾 Avant de soumettre le lab, pensez à bien <strong> télécharger votre Jupyter notebook</strong> en cliquant sur <em>Fichier > Download.</em>.</li>\n",
    "        <li>✏️ Seul le notebook <code>main.ipynb</code> sera sauvegardé et envoyé pour évaluation à vos professeurs. Si vous avez d'autres notebooks, ils ne seront <strong>pas comptabilisés. </strong></li>\n",
    "        <li>🚫 Une fois que vous avez soumis votre travail, vous ne pourrez plus le modifier. Vous aurez cependant, la possibilité de faire une nouvelle tentative autant de fois que souhaité.</li>\n",
    "    </ul>\n",
    "    <p>Assurez-vous de vérifier vos fichiers avant de procéder !</p>\n",
    "</div>"
   ]
  },
  {
   "cell_type": "markdown",
   "metadata": {
    "id": "H-R01IRfOyn4"
   },
   "source": [
    "### Instruction\n",
    "\n",
    "**Instruction 0 :** Prenez connaissance de ce qu'est Streamlit en consultant leur page officielle. Voici un [Cheat Sheet](https://cheat-sheet.streamlit.app/?ref=blog.streamlit.io) qui vous sera utile lors de ce TP."
   ]
  },
  {
   "cell_type": "markdown",
   "metadata": {},
   "source": [
    "De plus, avant de commencer, cliquez sur ce lien ci-dessous et téléchargez le dataset prévu pour le TP7 : https://drive.google.com/drive/folders/1p88KluT944ZPhFzsYctqK1dW6tUNn0Gr?usp=sharing.\n",
    "\n",
    "Chargez-le à l'environnement de travail lié à ce Notebook pour continuer."
   ]
  },
  {
   "cell_type": "markdown",
   "metadata": {
    "id": "VOoAOjCLz5zt"
   },
   "source": [
    "### Question 1"
   ]
  },
  {
   "cell_type": "code",
   "execution_count": 1,
   "metadata": {},
   "outputs": [
    {
     "name": "stdout",
     "output_type": "stream",
     "text": [
      "Collecting lxml\n",
      "  Using cached lxml-5.4.0-cp311-cp311-manylinux_2_28_x86_64.whl.metadata (3.5 kB)\n",
      "Collecting streamlit\n",
      "  Downloading streamlit-1.45.0-py3-none-any.whl.metadata (8.9 kB)\n",
      "Collecting pyngrok\n",
      "  Using cached pyngrok-7.2.5-py3-none-any.whl.metadata (8.9 kB)\n",
      "Requirement already satisfied: altair<6,>=4.0 in /opt/conda/lib/python3.11/site-packages (from streamlit) (5.2.0)\n",
      "Requirement already satisfied: blinker<2,>=1.5.0 in /opt/conda/lib/python3.11/site-packages (from streamlit) (1.6.3)\n",
      "Requirement already satisfied: cachetools<6,>=4.0 in /opt/conda/lib/python3.11/site-packages (from streamlit) (5.3.3)\n",
      "Requirement already satisfied: click<9,>=7.0 in /opt/conda/lib/python3.11/site-packages (from streamlit) (8.1.7)\n",
      "Requirement already satisfied: numpy<3,>=1.23 in /opt/conda/lib/python3.11/site-packages (from streamlit) (1.26.4)\n",
      "Requirement already satisfied: packaging<25,>=20 in /opt/conda/lib/python3.11/site-packages (from streamlit) (23.2)\n",
      "Requirement already satisfied: pandas<3,>=1.4.0 in /opt/conda/lib/python3.11/site-packages (from streamlit) (2.2.1)\n",
      "Requirement already satisfied: pillow<12,>=7.1.0 in /opt/conda/lib/python3.11/site-packages (from streamlit) (10.2.0)\n",
      "Requirement already satisfied: protobuf<7,>=3.20 in /opt/conda/lib/python3.11/site-packages (from streamlit) (4.25.3)\n",
      "Requirement already satisfied: pyarrow>=7.0 in /opt/conda/lib/python3.11/site-packages (from streamlit) (15.0.0)\n",
      "Requirement already satisfied: requests<3,>=2.27 in /opt/conda/lib/python3.11/site-packages (from streamlit) (2.31.0)\n",
      "Collecting tenacity<10,>=8.1.0 (from streamlit)\n",
      "  Using cached tenacity-9.1.2-py3-none-any.whl.metadata (1.2 kB)\n",
      "Collecting toml<2,>=0.10.1 (from streamlit)\n",
      "  Using cached toml-0.10.2-py2.py3-none-any.whl.metadata (7.1 kB)\n",
      "Requirement already satisfied: typing-extensions<5,>=4.4.0 in /opt/conda/lib/python3.11/site-packages (from streamlit) (4.8.0)\n",
      "Collecting watchdog<7,>=2.1.5 (from streamlit)\n",
      "  Using cached watchdog-6.0.0-py3-none-manylinux2014_x86_64.whl.metadata (44 kB)\n",
      "Requirement already satisfied: gitpython!=3.1.19,<4,>=3.0.7 in /opt/conda/lib/python3.11/site-packages (from streamlit) (3.1.42)\n",
      "Collecting pydeck<1,>=0.8.0b4 (from streamlit)\n",
      "  Using cached pydeck-0.9.1-py2.py3-none-any.whl.metadata (4.1 kB)\n",
      "Requirement already satisfied: tornado<7,>=6.0.3 in /opt/conda/lib/python3.11/site-packages (from streamlit) (6.3.3)\n",
      "Requirement already satisfied: PyYAML>=5.1 in /opt/conda/lib/python3.11/site-packages (from pyngrok) (6.0.1)\n",
      "Requirement already satisfied: jinja2 in /opt/conda/lib/python3.11/site-packages (from altair<6,>=4.0->streamlit) (3.1.2)\n",
      "Requirement already satisfied: jsonschema>=3.0 in /opt/conda/lib/python3.11/site-packages (from altair<6,>=4.0->streamlit) (4.19.1)\n",
      "Requirement already satisfied: toolz in /opt/conda/lib/python3.11/site-packages (from altair<6,>=4.0->streamlit) (0.12.1)\n",
      "Requirement already satisfied: gitdb<5,>=4.0.1 in /opt/conda/lib/python3.11/site-packages (from gitpython!=3.1.19,<4,>=3.0.7->streamlit) (4.0.11)\n",
      "Requirement already satisfied: python-dateutil>=2.8.2 in /opt/conda/lib/python3.11/site-packages (from pandas<3,>=1.4.0->streamlit) (2.8.2)\n",
      "Requirement already satisfied: pytz>=2020.1 in /opt/conda/lib/python3.11/site-packages (from pandas<3,>=1.4.0->streamlit) (2023.3.post1)\n",
      "Requirement already satisfied: tzdata>=2022.7 in /opt/conda/lib/python3.11/site-packages (from pandas<3,>=1.4.0->streamlit) (2024.1)\n",
      "Requirement already satisfied: charset-normalizer<4,>=2 in /opt/conda/lib/python3.11/site-packages (from requests<3,>=2.27->streamlit) (3.3.0)\n",
      "Requirement already satisfied: idna<4,>=2.5 in /opt/conda/lib/python3.11/site-packages (from requests<3,>=2.27->streamlit) (3.4)\n",
      "Requirement already satisfied: urllib3<3,>=1.21.1 in /opt/conda/lib/python3.11/site-packages (from requests<3,>=2.27->streamlit) (2.0.7)\n",
      "Requirement already satisfied: certifi>=2017.4.17 in /opt/conda/lib/python3.11/site-packages (from requests<3,>=2.27->streamlit) (2023.7.22)\n",
      "Requirement already satisfied: smmap<6,>=3.0.1 in /opt/conda/lib/python3.11/site-packages (from gitdb<5,>=4.0.1->gitpython!=3.1.19,<4,>=3.0.7->streamlit) (5.0.1)\n",
      "Requirement already satisfied: MarkupSafe>=2.0 in /opt/conda/lib/python3.11/site-packages (from jinja2->altair<6,>=4.0->streamlit) (2.1.3)\n",
      "Requirement already satisfied: attrs>=22.2.0 in /opt/conda/lib/python3.11/site-packages (from jsonschema>=3.0->altair<6,>=4.0->streamlit) (23.1.0)\n",
      "Requirement already satisfied: jsonschema-specifications>=2023.03.6 in /opt/conda/lib/python3.11/site-packages (from jsonschema>=3.0->altair<6,>=4.0->streamlit) (2023.7.1)\n",
      "Requirement already satisfied: referencing>=0.28.4 in /opt/conda/lib/python3.11/site-packages (from jsonschema>=3.0->altair<6,>=4.0->streamlit) (0.30.2)\n",
      "Requirement already satisfied: rpds-py>=0.7.1 in /opt/conda/lib/python3.11/site-packages (from jsonschema>=3.0->altair<6,>=4.0->streamlit) (0.10.6)\n",
      "Requirement already satisfied: six>=1.5 in /opt/conda/lib/python3.11/site-packages (from python-dateutil>=2.8.2->pandas<3,>=1.4.0->streamlit) (1.16.0)\n",
      "Using cached lxml-5.4.0-cp311-cp311-manylinux_2_28_x86_64.whl (4.9 MB)\n",
      "Downloading streamlit-1.45.0-py3-none-any.whl (9.9 MB)\n",
      "\u001b[2K   \u001b[90m━━━━━━━━━━━━━━━━━━━━━━━━━━━━━━━━━━━━━━━━\u001b[0m \u001b[32m9.9/9.9 MB\u001b[0m \u001b[31m23.7 MB/s\u001b[0m eta \u001b[36m0:00:00\u001b[0m00:01\u001b[0m00:01\u001b[0m\n",
      "\u001b[?25hUsing cached pyngrok-7.2.5-py3-none-any.whl (23 kB)\n",
      "Using cached pydeck-0.9.1-py2.py3-none-any.whl (6.9 MB)\n",
      "Using cached tenacity-9.1.2-py3-none-any.whl (28 kB)\n",
      "Using cached toml-0.10.2-py2.py3-none-any.whl (16 kB)\n",
      "Using cached watchdog-6.0.0-py3-none-manylinux2014_x86_64.whl (79 kB)\n",
      "Installing collected packages: watchdog, toml, tenacity, pyngrok, lxml, pydeck, streamlit\n",
      "Successfully installed lxml-5.4.0 pydeck-0.9.1 pyngrok-7.2.5 streamlit-1.45.0 tenacity-9.1.2 toml-0.10.2 watchdog-6.0.0\n"
     ]
    }
   ],
   "source": [
    "!pip install lxml streamlit pyngrok"
   ]
  },
  {
   "cell_type": "markdown",
   "metadata": {
    "id": "PXWO4T6uCjZa"
   },
   "source": [
    "❓ **Question 1 :** Importez les bibliothèques nécessaires pour notre projet :\n",
    "- streamlit\n",
    "- numpy\n",
    "- pandas\n",
    "- matplotlib\n",
    "- seaborn\n",
    "\n",
    "💭 **Remarque :** Streamlit est un outil pour créer rapidement des applications web pour vos projets de données."
   ]
  },
  {
   "cell_type": "code",
   "execution_count": 2,
   "metadata": {},
   "outputs": [],
   "source": [
    "# Votre code ici\n",
    "\n",
    "import streamlit as st\n",
    "import numpy as np\n",
    "import pandas as pd\n",
    "import seaborn as sns\n",
    "import matplotlib.pyplot as plt"
   ]
  },
  {
   "cell_type": "markdown",
   "metadata": {
    "id": "rHov5tHyNFgH"
   },
   "source": [
    "<details>\n",
    "  <summary>\n",
    "    Indice 🔑\n",
    "  </summary>\n",
    "  Utilisez la commande `import` pour importer streamlit.\n",
    "</details>\n"
   ]
  },
  {
   "cell_type": "markdown",
   "metadata": {
    "id": "JnZ88nwwF7uv"
   },
   "source": [
    "### Instructions"
   ]
  },
  {
   "cell_type": "markdown",
   "metadata": {},
   "source": [
    "❓ **Instruction 2 :** Inscrivez-vous au site Internet ngrok et récupérez votre jeton d'authentification en cliquant sur [ce lien](https://dashboard.ngrok.com/get-started/your-authtoken). Le jeton se trouve sur la photo ci-dessous (masqué par un rectangle blanc).\n",
    "\n",
    "💭 **Remarque :** Ngrok est un outil qui permet de créer un tunnel sécurisé vers Internet. Cela signifie que vous pouvez exposer un serveur web, une API, ou une autre application que vous exécutez localement (ici, sur une des machines de cette plateforme d'enseignement), à Internet, de manière sécurisée. C'est très utile pour partager votre travail avec d'autres personnes, faire des démonstrations en direct, ou tester des webhooks, sans avoir à déployer votre application sur un serveur public.\n",
    "\n",
    "![Emplacement du jeton](img/image-1.png)"
   ]
  },
  {
   "cell_type": "code",
   "execution_count": 3,
   "metadata": {},
   "outputs": [],
   "source": [
    "TOKEN_NGROK = \"2wP8pm54zJVhMq0Z0vODFS8y66Z_5KaJvNP7NpyduoxFomhyc\""
   ]
  },
  {
   "cell_type": "markdown",
   "metadata": {
    "id": "82DACaCxF6ro"
   },
   "source": [
    "❓ **Instruction 3 :** Exécutez la cellule suivante pour démarrer ngrok et exposer l'application Streamlit à une URL publique."
   ]
  },
  {
   "cell_type": "code",
   "execution_count": 4,
   "metadata": {},
   "outputs": [
    {
     "name": "stdout",
     "output_type": "stream",
     "text": [
      "NgrokTunnel: \"https://3f6c-34-65-247-95.ngrok-free.app\" -> \"http://localhost:8501\"\n"
     ]
    }
   ],
   "source": [
    "from pyngrok import ngrok\n",
    "ngrok.set_auth_token(\"2wP8pm54zJVhMq0Z0vODFS8y66Z_5KaJvNP7NpyduoxFomhyc\")\n",
    "# puis par exemple\n",
    "public_url = ngrok.connect(8501)\n",
    "print(public_url)"
   ]
  },
  {
   "cell_type": "code",
   "execution_count": 33,
   "metadata": {
    "colab": {
     "base_uri": "https://localhost:8080/"
    },
    "id": "E4e8opeUz5z0",
    "outputId": "e7034fc7-734a-4e40-b7ce-e2269cc0da96"
   },
   "outputs": [
    {
     "name": "stdout",
     "output_type": "stream",
     "text": [
      "Streamlit sera accessible publiquement en cliquant sur ce lien : https://8880-34-65-247-95.ngrok-free.app\n"
     ]
    }
   ],
   "source": [
    "from pyngrok import ngrok\n",
    "import os\n",
    "\n",
    "ngrok.set_auth_token(\"2wP8pm54zJVhMq0Z0vODFS8y66Z_5KaJvNP7NpyduoxFomhyc\")\n",
    "\n",
    "# Définir le port pour Streamlit\n",
    "port = 8501\n",
    "\n",
    "# Configurer et démarrer ngrok\n",
    "public_url = ngrok.connect(port).public_url\n",
    "print(f\"Streamlit sera accessible publiquement en cliquant sur ce lien : {public_url}\")"
   ]
  },
  {
   "cell_type": "markdown",
   "metadata": {},
   "source": [
    "Pour information, à ce stade, vous avez configuré votre tunnel. C'est-à-dire que lorsque vous démarrerez votre application Streamlit, vous n'aurez plus qu'à cliquer sur le lien ci-dessus pour y accéder. A présent, lançons une application d'exemple : EDA_BASKETBALL."
   ]
  },
  {
   "cell_type": "code",
   "execution_count": null,
   "metadata": {},
   "outputs": [
    {
     "name": "stdout",
     "output_type": "stream",
     "text": [
      "Rappel : Cliquez ici pour accéder à l'application Streamlit : https://8880-34-65-247-95.ngrok-free.app\n",
      "P.S : Appuyez sur l'icône 'Stop' plus haut pour arrêter l'exécution de cette cellule qui ne s'arrêtera pas tant que vous ne lui aurez pas ordonné.\n",
      "\n",
      "Collecting usage statistics. To deactivate, set browser.gatherUsageStats to false.\n",
      "\n",
      "\n",
      "  You can now view your Streamlit app in your browser.\n",
      "\n",
      "  Local URL: http://localhost:8501\n",
      "  Network URL: http://10.56.0.57:8501\n",
      "  External URL: http://34.65.247.95:8501\n",
      "\n"
     ]
    },
    {
     "name": "stderr",
     "output_type": "stream",
     "text": [
      "2025-05-02 10:47:47.077 Serialization of dataframe to Arrow table was unsuccessful. Applying automatic fixes for column types to make the dataframe Arrow-compatible.\n",
      "Traceback (most recent call last):\n",
      "  File \"/opt/conda/lib/python3.11/site-packages/streamlit/dataframe_util.py\", line 822, in convert_pandas_df_to_arrow_bytes\n",
      "    table = pa.Table.from_pandas(df)\n",
      "            ^^^^^^^^^^^^^^^^^^^^^^^^\n",
      "  File \"pyarrow/table.pxi\", line 3874, in pyarrow.lib.Table.from_pandas\n",
      "  File \"/opt/conda/lib/python3.11/site-packages/pyarrow/pandas_compat.py\", line 611, in dataframe_to_arrays\n",
      "    arrays = [convert_column(c, f)\n",
      "             ^^^^^^^^^^^^^^^^^^^^^\n",
      "  File \"/opt/conda/lib/python3.11/site-packages/pyarrow/pandas_compat.py\", line 611, in <listcomp>\n",
      "    arrays = [convert_column(c, f)\n",
      "              ^^^^^^^^^^^^^^^^^^^^\n",
      "  File \"/opt/conda/lib/python3.11/site-packages/pyarrow/pandas_compat.py\", line 598, in convert_column\n",
      "    raise e\n",
      "  File \"/opt/conda/lib/python3.11/site-packages/pyarrow/pandas_compat.py\", line 592, in convert_column\n",
      "    result = pa.array(col, type=type_, from_pandas=True, safe=safe)\n",
      "             ^^^^^^^^^^^^^^^^^^^^^^^^^^^^^^^^^^^^^^^^^^^^^^^^^^^^^^\n",
      "  File \"pyarrow/array.pxi\", line 340, in pyarrow.lib.array\n",
      "  File \"pyarrow/array.pxi\", line 86, in pyarrow.lib._ndarray_to_array\n",
      "  File \"pyarrow/error.pxi\", line 91, in pyarrow.lib.check_status\n",
      "pyarrow.lib.ArrowTypeError: (\"Expected bytes, got a 'int' object\", 'Conversion failed for column Awards with type object')\n",
      "2025-05-02 10:47:51.312 Serialization of dataframe to Arrow table was unsuccessful. Applying automatic fixes for column types to make the dataframe Arrow-compatible.\n",
      "Traceback (most recent call last):\n",
      "  File \"/opt/conda/lib/python3.11/site-packages/streamlit/dataframe_util.py\", line 822, in convert_pandas_df_to_arrow_bytes\n",
      "    table = pa.Table.from_pandas(df)\n",
      "            ^^^^^^^^^^^^^^^^^^^^^^^^\n",
      "  File \"pyarrow/table.pxi\", line 3874, in pyarrow.lib.Table.from_pandas\n",
      "  File \"/opt/conda/lib/python3.11/site-packages/pyarrow/pandas_compat.py\", line 611, in dataframe_to_arrays\n",
      "    arrays = [convert_column(c, f)\n",
      "             ^^^^^^^^^^^^^^^^^^^^^\n",
      "  File \"/opt/conda/lib/python3.11/site-packages/pyarrow/pandas_compat.py\", line 611, in <listcomp>\n",
      "    arrays = [convert_column(c, f)\n",
      "              ^^^^^^^^^^^^^^^^^^^^\n",
      "  File \"/opt/conda/lib/python3.11/site-packages/pyarrow/pandas_compat.py\", line 598, in convert_column\n",
      "    raise e\n",
      "  File \"/opt/conda/lib/python3.11/site-packages/pyarrow/pandas_compat.py\", line 592, in convert_column\n",
      "    result = pa.array(col, type=type_, from_pandas=True, safe=safe)\n",
      "             ^^^^^^^^^^^^^^^^^^^^^^^^^^^^^^^^^^^^^^^^^^^^^^^^^^^^^^\n",
      "  File \"pyarrow/array.pxi\", line 340, in pyarrow.lib.array\n",
      "  File \"pyarrow/array.pxi\", line 86, in pyarrow.lib._ndarray_to_array\n",
      "  File \"pyarrow/error.pxi\", line 91, in pyarrow.lib.check_status\n",
      "pyarrow.lib.ArrowTypeError: (\"Expected bytes, got a 'int' object\", 'Conversion failed for column Awards with type object')\n",
      "2025-05-02 10:47:51.368 Uncaught app execution\n",
      "Traceback (most recent call last):\n",
      "  File \"/opt/conda/lib/python3.11/site-packages/streamlit/runtime/scriptrunner/exec_code.py\", line 121, in exec_func_with_error_handling\n",
      "    result = func()\n",
      "             ^^^^^^\n",
      "  File \"/opt/conda/lib/python3.11/site-packages/streamlit/runtime/scriptrunner/script_runner.py\", line 648, in code_to_exec\n",
      "    exec(code, module.__dict__)\n",
      "  File \"/home/jovyan/data/eda_basketball.py\", line 88, in <module>\n",
      "    corr = df.corr()\n",
      "           ^^^^^^^^^\n",
      "  File \"/opt/conda/lib/python3.11/site-packages/pandas/core/frame.py\", line 11036, in corr\n",
      "    mat = data.to_numpy(dtype=float, na_value=np.nan, copy=False)\n",
      "          ^^^^^^^^^^^^^^^^^^^^^^^^^^^^^^^^^^^^^^^^^^^^^^^^^^^^^^^\n",
      "  File \"/opt/conda/lib/python3.11/site-packages/pandas/core/frame.py\", line 1981, in to_numpy\n",
      "    result = self._mgr.as_array(dtype=dtype, copy=copy, na_value=na_value)\n",
      "             ^^^^^^^^^^^^^^^^^^^^^^^^^^^^^^^^^^^^^^^^^^^^^^^^^^^^^^^^^^^^^\n",
      "  File \"/opt/conda/lib/python3.11/site-packages/pandas/core/internals/managers.py\", line 1692, in as_array\n",
      "    arr = self._interleave(dtype=dtype, na_value=na_value)\n",
      "          ^^^^^^^^^^^^^^^^^^^^^^^^^^^^^^^^^^^^^^^^^^^^^^^^\n",
      "  File \"/opt/conda/lib/python3.11/site-packages/pandas/core/internals/managers.py\", line 1751, in _interleave\n",
      "    result[rl.indexer] = arr\n",
      "    ~~~~~~^^^^^^^^^^^^\n",
      "ValueError: could not convert string to float: 'MVP-2,AS,NBA1'\n"
     ]
    }
   ],
   "source": [
    "print(\"Rappel : Cliquez ici pour accéder à l'application Streamlit :\", public_url)\n",
    "print(\"P.S : Appuyez sur l'icône 'Stop' plus haut pour arrêter l'exécution de cette cellule qui ne s'arrêtera pas tant que vous ne lui aurez pas ordonné.\")\n",
    "os.system(f\"streamlit run data/eda_basketball.py --server.port {port}\")"
   ]
  },
  {
   "cell_type": "markdown",
   "metadata": {},
   "source": [
    "Cliquez sur le lien ci-dessus pour voir le contenu de l'application. Vous devriez obtenir l'écran ci-dessous : explorez un peu l'application pour voir l'étendu des possibilités offerte par la librairie Streamlit."
   ]
  },
  {
   "cell_type": "markdown",
   "metadata": {},
   "source": [
    "![Emplacement du jeton](img/app-view.png)"
   ]
  },
  {
   "cell_type": "markdown",
   "metadata": {},
   "source": [
    "**P.S : Nous n'attendons pas de vous que vous sachiez configurer une machine virtuelle ni que vous créiez des tunnels à l'aide de ngrok ! Ainsi, prenez ce qui vient plus haut comme de la culture générale. De plus, vous n'aurez pas besoin de faire tout ça sur votre ordinateur pour lancer une application Streamlit : `streamlit run app.py` sera amplement suffisant.**"
   ]
  },
  {
   "cell_type": "markdown",
   "metadata": {
    "id": "Cz9bEKcA82vR"
   },
   "source": [
    "### Instruction"
   ]
  },
  {
   "cell_type": "markdown",
   "metadata": {},
   "source": [
    "❓ **Instruction 4 :** Prenez connaissance du contenu du Dataset COVID fourni, téléchargé et chargé sur ce Notebook lors de l'étape 0. Appropriez-le vous un maximum en lisant le fichier README.md, en consultant les colonnes disponibles pour comprendre l'utilité de chacune des feuilles de calcul."
   ]
  },
  {
   "cell_type": "markdown",
   "metadata": {},
   "source": [
    "### Question"
   ]
  },
  {
   "cell_type": "markdown",
   "metadata": {
    "id": "8Dn9GoT59Hfh"
   },
   "source": [
    "❓ **Question 5 :** En appliquant les recommandations des précédents travaux pratiques, chargez et nettoyez le dataset COVID téléchargé lors de l'étape 0 en détaillant les étapes du pré-traitement (actions mises en oeuvre et objectifs)."
   ]
  },
  {
   "cell_type": "code",
   "execution_count": null,
   "metadata": {
    "id": "ULX9gPSQ9EuL"
   },
   "outputs": [],
   "source": [
    "# Votre code ici"
   ]
  },
  {
   "cell_type": "markdown",
   "metadata": {},
   "source": [
    "❓ **Question 6 :** Créez différents graphiques permettant d'extraire et de visualiser du savoir sur l'épidémie de COVID-19 à l'aide de Matplotlib ou Seaborn. Pour ce faire, vous pouvez choisir de tracer au moins 3 graphiques parmi ceux proposés ci-dessous.\n",
    "\n",
    "A l'aide la feuille de calcul `country_wise_latest.csv`:\n",
    "- Histogramme des cas confirmés par région de l'OMS.\n",
    "- Graphique en barres des taux de mortalité et de guérison par pays.\n",
    "- Courbes de progression des cas et des guérisons pour les pays suivants : France, Chine et un pays de votre choix.\n",
    "\n",
    "A l'aide la feuille de calcul `covid_19_clean_complete.csv`:\n",
    "- Cartographie de l'évolution des cas confirmés et des décès dans le temps.\n",
    "- Courbes d'évolution temporelle des cas pour des pays spécifiques.\n",
    "- Heatmap de l'accumulation des cas à l'échelle mondiale.\n",
    "\n",
    "A l'aide de la feuille de calcul `day_wise.csv`:\n",
    "- Courbe temporelle montrant l'évolution quotidienne des cas, des guérisons et des décès.\n",
    "- Diagramme de l'évolution du taux de mortalité journalier.\n",
    "\n",
    "A l'aide de la feuille de calcul `full_grouped.csv`:\n",
    "- Comparaison de l'évolution de la pandémie dans différentes régions de l'OMS.\n",
    "- Graphiques en barres empilées montrant la répartition quotidienne des nouveaux cas, des décès, et des guérisons par pays.\n",
    "\n",
    "A l'aide de la feuille de calcul `usa_county_wise.csv`:\n",
    "- Cartographie des cas et des décès par comté aux USA.\n",
    "- Analyse de l'évolution des cas dans les principaux comtés ou états.\n",
    "\n",
    "A l'aide de la feuille de calcul `worldometer_data.csv`:\n",
    "- Diagramme circulaire de la répartition des cas actifs par continent.\n",
    "- Graphiques en barres montrant la densité de tests par million d'habitants par pays."
   ]
  },
  {
   "cell_type": "code",
   "execution_count": null,
   "metadata": {},
   "outputs": [],
   "source": [
    "# Votre code ici"
   ]
  },
  {
   "cell_type": "markdown",
   "metadata": {
    "id": "M-9JblA1z5zw"
   },
   "source": [
    "### Question"
   ]
  },
  {
   "cell_type": "markdown",
   "metadata": {
    "id": "irViAs3gFdes"
   },
   "source": [
    "❓ **Question 7 :** En vous inspirant du contenu du code Python `eda_basketball.py` (contenu dans le dossier `data`), complétez le code Python ci-dessous pour visualiser des charts sur une page web en vous basant sur le Dataset COVID. Le code Python sera nommé app.py et vous y ajouterez les éléments suivants :\n",
    "\n",
    "- Les graphiques créés précédemment accompagnés de textes descriptifs et de titres.\n",
    "- Widgets Streamlit, tels que des sélecteurs de dates, des sliders, ou des boutons radio, pour permettre aux utilisateurs de filtrer les données visualisées selon différents critères (par exemple, par date, pays, ou type de statistiques)\n",
    "- Des commentaires et des textes explicatifs pour guider les utilisateurs sur la manière d'interagir avec les différentes fonctionnalités.\n",
    "- Une barre latérale (si nécessaire) dont vous définirez une utilité.\n",
    "- Une ou plusieurs images.\n",
    "- Personnalisation des couleurs de polices, de fond, etc...\n",
    "\n",
    "💭 **Remarques :**\n",
    "\n",
    "- Streamlit utilise Pandas pour manipuler les données et pour afficher des graphiques.\n",
    "- L'objectif est de partir d'une application n'affichant rien, de l'enrichir au fur et à mesure jusqu'à obtenir une page web pleine de visualisations et pratique à utiliser.\n",
    "- Vous trouverez la documentation de Streamlit en cliquant sur [ce lien](https://docs.streamlit.io/library/get-started)."
   ]
  },
  {
   "cell_type": "code",
   "execution_count": null,
   "metadata": {
    "colab": {
     "base_uri": "https://localhost:8080/"
    },
    "id": "csOPybtvFcSj",
    "outputId": "b1201538-003d-4966-b273-aaba9a1cbb31"
   },
   "outputs": [],
   "source": [
    "%%writefile app.py\n",
    "\n",
    "import streamlit as st\n",
    "import pandas as pd\n",
    "import numpy as np\n",
    "\n",
    "def main():\n",
    "    st.write(\"\"\"# Simple streamlit app\"\"\")\n",
    "    ser1 = pd.Series(list('abcedfghijklmnopqrstuvwxyz'))\n",
    "    ser2 = pd.Series(np.arange(26))\n",
    "    df = pd.DataFrame({\"alpha\":ser1, \"num\":ser2}).reset_index()\n",
    "    st.dataframe(df)\n",
    "    st.write(\"\"\"### Line Chart on Alpha Column \"\"\")\n",
    "    st.line_chart(df.alpha)\n",
    "    st.write(\"\"\"### Line Chart on Num Column \"\"\")\n",
    "    st.line_chart(df.num)\n",
    "\n",
    "    # Votre code ici\n",
    "\n",
    "if __name__ == '__main__':\n",
    "    main()"
   ]
  },
  {
   "cell_type": "markdown",
   "metadata": {},
   "source": [
    "Pour tester votre application, lancez la cellule suivante (il est possible que vous deviez redémarrer le noyau pour que cela fonctionne) :"
   ]
  },
  {
   "cell_type": "code",
   "execution_count": null,
   "metadata": {
    "colab": {
     "base_uri": "https://localhost:8080/"
    },
    "id": "PMIKMzY2ViUP",
    "outputId": "de526c44-5a7f-4515-f182-04ced90d5605"
   },
   "outputs": [],
   "source": [
    "print(\"Rappel : Cliquez ici pour accéder à l'application Streamlit :\", public_url)\n",
    "print(\"P.S : Appuyez sur l'icône 'Stop' plus haut pour arrêter l'exécution de cette cellule qui ne s'arrêtera pas tant que vous ne lui aurez pas ordonné.\")\n",
    "os.system(f\"streamlit run app.py --server.port {port}\")"
   ]
  }
 ],
 "metadata": {
  "colab": {
   "provenance": []
  },
  "kernelspec": {
   "display_name": "Python 3 (ipykernel)",
   "language": "python",
   "name": "python3"
  },
  "language_info": {
   "codemirror_mode": {
    "name": "ipython",
    "version": 3
   },
   "file_extension": ".py",
   "mimetype": "text/x-python",
   "name": "python",
   "nbconvert_exporter": "python",
   "pygments_lexer": "ipython3",
   "version": "3.11.6"
  }
 },
 "nbformat": 4,
 "nbformat_minor": 4
}
