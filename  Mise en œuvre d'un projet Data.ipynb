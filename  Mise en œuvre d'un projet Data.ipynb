{
 "cells": [
  {
   "cell_type": "markdown",
   "metadata": {},
   "source": [
    "<div style=\"border: 0px solid blue; padding: 10px;\"><img src=\"https://asset.brandfetch.io/idvDrMBg3m/idgDR62lX4.png\" alt=\"Logo Data Rockstars\" width=\"274\" height=\"80\"><h3 style=\"color: #333;\">🔒 Le contenu de ce document est confidentiel. 📝</h3><p><em>Le contenu de ce document est confidentiel et la copie ou la distribution est interdite.</em> 😶‍🌫️</p><p>📧 Pour toute question, veuillez nous contacter à <a href=\"mailto:contact@datarockstars.ai\">contact@datarockstars.ai</a></p><hr style=\"border-top: 1px solid blue;\"><h1>Le programme du notebook</h1><strong>📖 Au programme</strong><ul><li>Challenge en full autonomie, un peu comme dans la vraie vie finalement !</li></ul><hr style=\"border-top: 1px solid blue;\"><p>🔰 Démarrez en exécutant chaque segment de code un à un et en analysant les résultats affichés.</p><hr style=\"border-top: 1px solid blue;\"><p>A vous de jouer 😎✌️</p></div>\n",
    "\n",
    "\n"
   ]
  },
  {
   "cell_type": "markdown",
   "metadata": {},
   "source": [
    "<div style=\"border:2px solid red; padding: 10px; background-color: #FFF4F8;\">\n",
    "    <p style=\"color: red;\"><strong>⚠️ Soumettre votre challenge à la fin de chaque module ⚠️</strong></p>\n",
    "    <ul>\n",
    "        <li>💾 Avant de soumettre le lab, pensez à bien <strong> télécharger votre Jupyter notebook</strong> en cliquant sur <em>Fichier > Download.</em>.</li>\n",
    "        <li>✏️ Seul le notebook <code>main.ipynb</code> sera sauvegardé et envoyé pour évaluation à vos professeurs. Si vous avez d'autres notebooks, ils ne seront <strong>pas comptabilisés. </strong></li>\n",
    "        <li>🚫 Une fois que vous avez soumis votre travail, vous ne pourrez plus le modifier. Vous aurez cependant, la possibilité de faire une nouvelle tentative autant de fois que souhaité.</li>\n",
    "    </ul>\n",
    "    <p>Assurez-vous de vérifier vos fichiers avant de procéder !</p>\n",
    "</div>\n"
   ]
  },
  {
   "cell_type": "markdown",
   "metadata": {},
   "source": [
    "# Gestion de Projet Agile avec SCRUM: Projet Fil Rouge\n",
    "\n",
    "## Objectif\n",
    "\n",
    "Appliquer les principes de la gestion de projet agile, en particulier la méthode SCRUM, dans le cadre de votre projet fil rouge."
   ]
  },
  {
   "cell_type": "markdown",
   "metadata": {},
   "source": [
    "<div style=\"border:2px solid #4CAF50; padding: 10px; background-color: #ebf9eb;\">\n",
    "    <h3 style=\"color: #4CAF50;\">💡 Astuce</h3>\n",
    "    <p><strong>Ecrire en markdown</strong></p>\n",
    "    <p>Si vous avez besoin d'aide pour écrire en markdown, rendez-vous ici pour vous familiariser avec la syntaxe : <a href=\"https://www.markdownguide.org/basic-syntax/\" target=\"_blank\">https://www.markdownguide.org/basic-syntax/</a></p>\n",
    "</div>\n"
   ]
  },
  {
   "cell_type": "markdown",
   "metadata": {},
   "source": [
    "### 1. Choix du jeu de données : A faire avant la fin du module ! ⏰"
   ]
  },
  {
   "cell_type": "markdown",
   "metadata": {},
   "source": [
    "- Avant de commencer la déclinaison de votre projet, nous vous invitons à compléter le formulaire suivant : [Choix projet Fil Rouge](https://docs.google.com/forms/d/e/1FAIpQLSe3xts57ZVVKF8RWNl7Yo-5dg87J5gf-pO_yRbi_gY4MOJBzA/viewform?usp=sf_link)\n"
   ]
  },
  {
   "cell_type": "markdown",
   "metadata": {},
   "source": [
    "_🧑🏻‍💻 Votre réponse ici_ "
   ]
  },
  {
   "cell_type": "markdown",
   "metadata": {},
   "source": [
    "Jeu de données sélectionné :\n",
    "\n",
    "Le jeu de données utilisé est \"global_biodiversity_dataset.csv\" car il rassemble une grande variété d'informations sur la biodiversité à l'échelle mondiale, permettant d'explorer la répartition et l'évolution des espèces.\n"
   ]
  },
  {
   "cell_type": "markdown",
   "metadata": {},
   "source": [
    "### 2. Cadrage du projet (Sprint 0)"
   ]
  },
  {
   "cell_type": "markdown",
   "metadata": {},
   "source": [
    "- **Définition du projet:** Déterminez le sujet, les objectifs, et les livrables attendus."
   ]
  },
  {
   "cell_type": "markdown",
   "metadata": {},
   "source": [
    "_🧑🏻‍💻 Votre réponse ici_ "
   ]
  },
  {
   "cell_type": "markdown",
   "metadata": {},
   "source": [
    "### Sujet du Projet\n",
    "Analyse intégrée de l’impact du changement climatique sur la biodiversité mondiale.\n",
    "Ce projet vise à étudier comment les variations climatiques influencent la distribution et l’abondance des espèces à travers différentes régions et écosystèmes, en mettant l’accent sur l’identification des espèces menacées et la vulnérabilité des écosystèmes.\n",
    "\n",
    "Objectifs du Projet\n",
    "Analyser l’impact du climat sur la distribution des espèces :\n",
    "\n",
    "Étudier les variations temporelles et géographiques des populations d’espèces en lien avec les paramètres climatiques (température, précipitations, etc.).\n",
    "\n",
    "Identifier les espèces menacées et évaluer la vulnérabilité des écosystèmes :\n",
    "\n",
    "Déterminer quelles espèces affichent des déclins significatifs et repérer les écosystèmes particulièrement affectés par le changement climatique.\n",
    "\n",
    "Évaluer l’influence des facteurs environnementaux :\n",
    "\n",
    "Analyser les corrélations entre divers facteurs environnementaux (altitude, habitat, etc.) et l’évolution des populations afin de distinguer les effets bénéfiques ou négatifs sur la biodiversité.\n",
    "\n",
    "Formuler des recommandations en matière de conservation :\n",
    "\n",
    "Sur la base des résultats obtenus, proposer des axes de priorisation pour la protection des espèces et des écosystèmes les plus vulnérables.\n",
    "\n",
    "### Livrables Attendus\n",
    "Rapport d’analyse détaillé :\n",
    "\n",
    "Document contenant la problématique, la méthodologie employée, les analyses statistiques, les visualisations, les interprétations des résultats, et les recommandations en matière de conservation.\n",
    "\n",
    "Visualisations et Cartographies :\n",
    "\n",
    "Graphiques illustrant l’évolution des populations d’espèces dans le temps.\n",
    "\n",
    "Cartes géographiques mettant en évidence la distribution des espèces et les zones critiques en fonction des paramètres climatiques.\n",
    "\n",
    "Code et Notebook Documenté :\n",
    "\n",
    "Ensemble de scripts permettant de reproduire l’analyse, incluant le prétraitement des données, les analyses statistiques, et la génération des visualisations.\n",
    "\n",
    "Tableaux et Synthèses :\n",
    "\n",
    "Tableaux récapitulatifs indiquant les espèces les plus menacées et les écosystèmes identifiés comme vulnérables.\n",
    "\n",
    "Résumé des corrélations entre les facteurs environnementaux et la biodiversité.\n",
    "\n",
    "Ce plan de projet permet de combiner l’étude de l’impact du changement climatique, l’analyse des espèces menacées et la comparaison des différents écosystèmes, pour ainsi fournir une vue d’ensemble complète et des recommandations pratiques en matière de conservation.\n"
   ]
  },
  {
   "cell_type": "markdown",
   "metadata": {},
   "source": [
    "- **Identification des besoins:** Identifiez les besoins en données et les ressources nécessaires."
   ]
  },
  {
   "cell_type": "markdown",
   "metadata": {},
   "source": [
    "_🧑🏻‍💻 Votre réponse ici_ "
   ]
  },
  {
   "cell_type": "markdown",
   "metadata": {},
   "source": [
    "### Besoins en Données\n",
    "Données de Biodiversité :\n",
    "Utilisation du fichier \"global_biodiversity_dataset.csv\" qui contient des informations sur la répartition des espèces, leur nombre d’individus, et éventuellement des informations temporelles permettant de suivre leur évolution.\n",
    "\n",
    "Données Climatiques et Environnementales :\n",
    "Pour évaluer l’impact du climat, il est nécessaire d’intégrer des données sur des variables telles que la température, les précipitations, et d’autres indicateurs météorologiques. Ces données peuvent provenir d'instituts météorologiques, de satellites ou d'open data (par exemple, des portails gouvernementaux ou de bases comme la NASA).\n",
    "\n",
    "Données Géographiques :\n",
    "Des informations complémentaires sur les coordonnées géographiques (latitude, longitude) et l'altitude aideront à cartographier les observations et à associer des caractéristiques géographiques aux écosystèmes concernés.\n",
    "\n",
    "Données de Statut de Conservation :\n",
    "Pour identifier les espèces menacées et la vulnérabilité des écosystèmes, il peut être pertinent d'intégrer des données provenant d'organismes de conservation (comme l'UICN ou CITES) qui fournissent des informations actualisées sur le statut de protection des espèces.\n",
    "\n",
    "### Ressources Nécessaires\n",
    "Outils Logiciels et Environnement de Développement :\n",
    "\n",
    "Environnements de programmation : Un IDE ou Jupyter Notebook pour le traitement et l'analyse de données en Python.\n",
    "\n",
    "Bibliothèques Python : Utilisation de Pandas, NumPy, Matplotlib (ou Plotly pour des visualisations interactives) pour l'analyse statistique et la création de graphiques, ainsi que GeoPandas ou Folium pour la cartographie.\n",
    "\n",
    "Infrastructure Matérielle et Informatique :\n",
    "\n",
    "Un ordinateur ou serveur disposant d'une mémoire suffisante pour manipuler et analyser des datasets potentiellement volumineux.\n",
    "\n",
    "Selon la taille des données, envisager un environnement de calcul en cloud (AWS, GCP, ou Azure) pour les traitements lourds.\n",
    "\n",
    "Expertise et Ressources Humaines :\n",
    "\n",
    "Expertise Technique : Data scientists et analystes ayant une bonne maîtrise des méthodes statistiques, du machine learning et des outils de visualisation de données.\n",
    "\n",
    "Expertise Domaines : Conseils de spécialistes en climatologie, écologie et conservation pour interpréter correctement les résultats et adapter les analyses aux réalités environnementales.\n",
    "\n",
    "Documentation et Outils Collaboratifs :\n",
    "\n",
    "Accès à la documentation technique des sources de données, ainsi qu’à des guides méthodologiques pour le nettoyage, l’analyse et la visualisation des données.\n",
    "\n",
    "Outils de gestion de projet et de collaboration (par exemple, Git/GitHub, Trello ou Slack) pour assurer une coordination efficace de l’équipe.\n",
    "\n"
   ]
  },
  {
   "cell_type": "markdown",
   "metadata": {},
   "source": [
    "- **Backlog de produit:** Créez un backlog de produit initial."
   ]
  },
  {
   "cell_type": "markdown",
   "metadata": {},
   "source": [
    "_🧑🏻‍💻 Votre réponse ici_ "
   ]
  },
  {
   "cell_type": "markdown",
   "metadata": {},
   "source": [
    "Chargement et Exploration Initiale du Dataset\n",
    "User Story :\n",
    "En tant qu'analyste, je souhaite charger le jeu de données \"global_biodiversity_dataset.csv\" afin d'examiner sa structure, ses colonnes et sa qualité de base.\n",
    "\n",
    "Tâches :\n",
    "\n",
    "Importer le CSV dans l'environnement d'analyse (Python, R, etc.).\n",
    "\n",
    "Afficher les premières lignes et la liste des colonnes.\n",
    "\n",
    "Réaliser un premier bilan des types de données et des valeurs manquantes.\n",
    "\n",
    "Priorité : Élevée\n",
    "\n",
    "2. Préparation et Nettoyage des Données\n",
    "User Story :\n",
    "En tant qu'analyste, je veux nettoyer les données pour traiter les valeurs manquantes, éliminer les doublons et convertir les formats non standard afin d'assurer une analyse fiable.\n",
    "\n",
    "Tâches :\n",
    "\n",
    "Identifier et imputer ou supprimer les valeurs manquantes.\n",
    "\n",
    "Détecter et éliminer les doublons.\n",
    "\n",
    "Standardiser les formats (dates, coordonnées, etc.).\n",
    "\n",
    "Priorité : Élevée\n",
    "\n",
    "3. Intégration de Données Climatiques et Environnementales\n",
    "User Story :\n",
    "En tant qu'utilisateur, je souhaite enrichir le dataset avec des données sur les variables climatiques (température, précipitations, etc.) et environnementales pour étudier leur impact sur la biodiversité.\n",
    "\n",
    "Tâches :\n",
    "\n",
    "Identifier des sources de données climatiques fiables.\n",
    "\n",
    "Fusionner ces données avec le dataset principal via des clés communes (par exemple, dates et régions).\n",
    "\n",
    "Vérifier l'intégrité de l'intégration.\n",
    "\n",
    "Priorité : Élevée\n",
    "\n",
    "4. Analyse Temporelle de la Biodiversité\n",
    "User Story :\n",
    "En tant qu'analyste, je veux analyser l'évolution des populations d'espèces au fil du temps pour identifier des tendances saisonnières ou des déclin significatifs liés aux variations climatiques.\n",
    "\n",
    "Tâches :\n",
    "\n",
    "Créer des graphiques temporels pour différentes régions ou espèces clés.\n",
    "\n",
    "Mettre en évidence les périodes critiques de variation.\n",
    "\n",
    "Interpréter les résultats en lien avec les données climatiques.\n",
    "\n",
    "Priorité : Moyenne\n",
    "\n",
    "5. Analyse Spatiale et Cartographie\n",
    "User Story :\n",
    "En tant qu'utilisateur, je souhaite créer des cartes pour visualiser la répartition des espèces et des écosystèmes vulnérables à travers le monde.\n",
    "\n",
    "Tâches :\n",
    "\n",
    "Extraire les coordonnées géographiques présentes dans le dataset.\n",
    "\n",
    "Utiliser des outils de cartographie (GeoPandas, Folium) pour visualiser la distribution.\n",
    "\n",
    "Identifier et annoter les zones présentant des problématiques spécifiques.\n",
    "\n",
    "Priorité : Moyenne\n",
    "\n",
    "6. Calcul des Indices de Biodiversité\n",
    "User Story :\n",
    "En tant qu'analyste, je veux calculer des indices de biodiversité (ex. indice de Shannon, indice de Simpson) pour quantifier la richesse et l'équilibre des écosystèmes.\n",
    "\n",
    "Tâches :\n",
    "\n",
    "Développer ou utiliser des fonctions pour calculer ces indices.\n",
    "\n",
    "Comparer les indices entre différentes régions et périodes.\n",
    "\n",
    "Visualiser les résultats pour faciliter la comparaison.\n",
    "\n",
    "Priorité : Moyenne\n",
    "\n",
    "7. Identification des Espèces Menacées\n",
    "User Story :\n",
    "En tant qu'analyste, je souhaite identifier les espèces dont l'abondance décline significativement, afin de déterminer celles qui nécessitent une attention particulière pour la conservation.\n",
    "\n",
    "Tâches :\n",
    "\n",
    "Analyser les tendances de population par espèce.\n",
    "\n",
    "Croiser ces informations avec des données externes (ex. statut de conservation).\n",
    "\n",
    "Établir une liste des espèces menacées et leur évolution dans le temps.\n",
    "\n",
    "Priorité : Élevée\n",
    "\n",
    "8. Analyse des Facteurs Environnementaux\n",
    "User Story :\n",
    "En tant qu'analyste, je souhaite étudier la corrélation entre les variables environnementales (température, précipitations, altitude, etc.) et les évolutions des populations d'espèces pour identifier les facteurs influençant la biodiversité positivement ou négativement.\n",
    "\n",
    "Tâches :\n",
    "\n",
    "Réaliser des analyses statistiques (corrélations, régressions).\n",
    "\n",
    "Visualiser les relations entre facteurs environnementaux et changements dans la biodiversité.\n",
    "\n",
    "Identifier les facteurs critiques à considérer pour la conservation.\n",
    "\n",
    "Priorité : Moyenne\n",
    "\n",
    "9. Visualisation et Présentation des Résultats\n",
    "User Story :\n",
    "En tant qu'utilisateur, je veux générer des visualisations claires et un rapport synthétique pour communiquer les résultats de l'analyse aux parties prenantes.\n",
    "\n",
    "Tâches :\n",
    "\n",
    "Créer des visualisations interactives ou statiques (graphiques, cartes).\n",
    "\n",
    "Compiler un rapport détaillé incluant méthodologie, résultats et recommandations.\n",
    "\n",
    "Préparer une présentation pour la communication des résultats.\n",
    "\n",
    "Priorité : Moyenne\n",
    "\n",
    "10. Rédaction des Recommandations pour la Conservation\n",
    "User Story :\n",
    "En tant qu'analyste, je souhaite rédiger des recommandations basées sur l'analyse intégrée afin d’orienter les stratégies de conservation ciblées sur les espèces et écosystèmes les plus vulnérables.\n",
    "\n",
    "Tâches :\n",
    "\n",
    "Synthétiser les résultats des analyses temporelles, spatiales et statistiques.\n",
    "\n",
    "Définir des axes d'action pour la protection des espèces menacées.\n",
    "\n",
    "Rédiger un document final de recommandations.\n",
    "\n",
    "Priorité : Moyenne\n",
    "\n"
   ]
  },
  {
   "cell_type": "markdown",
   "metadata": {},
   "source": [
    "### 3. Planification des Sprints"
   ]
  },
  {
   "cell_type": "markdown",
   "metadata": {},
   "source": [
    "- **Découpage en Sprints:** Divisez le projet en plusieurs sprints (itérations de travail)."
   ]
  },
  {
   "cell_type": "markdown",
   "metadata": {},
   "source": [
    "- **Objectifs et tâches:** Pour chaque sprint, définissez des objectifs spécifiques et sélectionnez des tâches du backlog de produit."
   ]
  },
  {
   "cell_type": "markdown",
   "metadata": {},
   "source": [
    "_🧑🏻‍💻 Votre réponse ici_ "
   ]
  },
  {
   "cell_type": "markdown",
   "metadata": {},
   "source": [
    "### Sprint 1 : Exploration et Préparation des Données\n",
    "Objectifs :\n",
    "\n",
    "Charger et explorer le jeu de données \"global_biodiversity_dataset.csv\".\n",
    "\n",
    "Examiner la structure du dataset, identifier les variables, les valeurs manquantes et les formats de données.\n",
    "\n",
    "Nettoyer et préparer les données pour les analyses ultérieures.\n",
    "\n",
    "Tâches :\n",
    "\n",
    "Importer le CSV dans l’environnement d’analyse (ex. Jupyter Notebook avec Python).\n",
    "\n",
    "Afficher les premières lignes, identifier les colonnes et analyser les types de données.\n",
    "\n",
    "Bilan préliminaire sur les valeurs manquantes et détection d’anomalies (doublons, incohérences).\n",
    "\n",
    "Standardiser les formats des données (dates, coordonnées, etc.).\n",
    "\n",
    "### Sprint 2 : Analyse Temporelle, Spatiale et Identification des Espèces Menacées\n",
    "Objectifs :\n",
    "\n",
    "Étudier l’évolution des populations d’espèces au fil du temps et en fonction des variations climatiques.\n",
    "\n",
    "Visualiser la répartition géographique des espèces pour repérer les zones critiques.\n",
    "\n",
    "Détecter et lister les espèces les plus menacées en lien avec les changements environnementaux.\n",
    "\n",
    "Tâches :\n",
    "\n",
    "Créer des graphiques temporels illustrant l’évolution des populations pour différentes régions ou espèces clés.\n",
    "\n",
    "Identifier les périodes critiques de fluctuation ou de déclin significatif.\n",
    "\n",
    "Extraire et exploiter les coordonnées géographiques pour réaliser des cartographies à l’aide d’outils comme GeoPandas ou Folium.\n",
    "\n",
    "Analyser les tendances pour identifier les espèces dont l’abondance est en déclin et croiser ces résultats avec des indicateurs de statut de conservation.\n",
    "\n",
    "### Sprint 3 : Analyse des Facteurs Environnementaux et Synthèse des Résultats\n",
    "Objectifs :\n",
    "\n",
    "Étudier les corrélations entre les variables environnementales (température, précipitations, altitude, etc.) et les évolutions des populations d’espèces.\n",
    "\n",
    "Consolider et visualiser l’ensemble des résultats obtenus pour en dégager des recommandations concrètes en matière de conservation.\n",
    "\n",
    "Tâches :\n",
    "\n",
    "Réaliser des analyses statistiques (corrélations, régressions) afin d’identifier les facteurs influençant positivement ou négativement la biodiversité.\n",
    "\n",
    "Créer des visualisations claires (graphiques, cartes, diagrammes) pour synthétiser les impacts des variables environnementales sur les écosystèmes.\n",
    "\n",
    "Compiler un rapport détaillé incluant la méthodologie, les analyses, les visualisations et des recommandations pour la conservation des espèces menacées et la gestion des écosystèmes vulnérables.\n",
    "\n",
    "Préparer une présentation finale pour communiquer les résultats aux parties prenantes.\n",
    "\n"
   ]
  },
  {
   "cell_type": "markdown",
   "metadata": {},
   "source": [
    "### 4. Exécution du premier Sprint\n",
    "\n",
    "- **Travail sur les tâches:** Concentrez-vous sur les tâches sélectionnées durant le premier sprint.\n",
    "- **Suivi quotidien:** Effectuez un suivi quotidien de l'avancement via un stand-up quotidien virtuel."
   ]
  },
  {
   "cell_type": "markdown",
   "metadata": {},
   "source": [
    "_🧑🏻‍💻 Votre réponse ici_ "
   ]
  },
  {
   "cell_type": "markdown",
   "metadata": {},
   "source": [
    "Focus sur les Tâches du Premier Sprint\n",
    "Chargement et Exploration Initiale du Dataset\n",
    "\n",
    "Importer le CSV : Charger le fichier \"global_biodiversity_dataset.csv\" dans votre environnement d’analyse (par exemple, un notebook Python).\n",
    "\n",
    "Affichage et Analyse Préliminaire : Afficher les premières lignes pour examiner les colonnes et leurs types (numérique, date, texte, etc.).\n",
    "\n",
    "Évaluer la Qualité des Données : Identifier les valeurs manquantes, doublons et incohérences pour préparer les étapes de nettoyage.\n",
    "\n",
    "Préparation et Nettoyage des Données\n",
    "\n",
    "Traitement des Valeurs Manquantes : Décider d'imputer ou de supprimer les valeurs manquantes selon le contexte des données.\n",
    "\n",
    "Gestion des Doublons : Rechercher et éliminer les entrées redondantes qui pourraient fausser l’analyse.\n",
    "\n",
    "Standardisation des Formats : Assurer que les dates, coordonnées géographiques et autres formats spécifiques sont uniformisés.\n",
    "\n",
    "Suivi Quotidien : Stand-Up Virtuel\n",
    "Le stand-up virtuel est une réunion quotidienne (environ 15 minutes) qui permet à chacun de donner un aperçu rapide de l’avancement et de synchroniser l’équipe. Voici quelques conseils et un modèle pour votre stand-up :\n",
    "\n",
    "Format et Fréquence\n",
    "\n",
    "Fréquence : Organiser une réunion quotidienne, idéalement en début de journée.\n",
    "\n",
    "Durée : Limiter à environ 15 minutes pour garantir la concision et la productivité.\n",
    "\n",
    "Points à Aborder\n",
    "\n",
    "Ce qui a été accompli la veille : Chaque participant partage les tâches qui ont avancé (par exemple, \"Hier, j'ai réussi à importer le dataset et à afficher les premières lignes.\").\n",
    "\n",
    "Ce qui est prévu pour la journée : Chacun mentionne ce qu'il prévoit d’aborder (par exemple, \"Aujourd'hui, je vais me concentrer sur l'identification des valeurs manquantes et le nettoyage des doublons.\").\n",
    "\n",
    "Les obstacles ou blocages rencontrés : Identifier rapidement les problèmes (par exemple, \"J’ai des difficultés à interpréter certains formats de date, j’aurais besoin d'un éclairage sur ce point.\") pour que le reste de l’équipe puisse apporter son aide ou proposer des solutions.\n",
    "\n",
    "Outils et Coordination\n",
    "\n",
    "Outils de Communication : Vous pouvez utiliser des plateformes comme Microsoft Teams, Zoom, Slack, ou tout autre outil collaboratif pour organiser ces réunions.\n",
    "\n",
    "Mise à Jour du Backlog : Utilisez un outil de gestion de tâches (comme Trello ou Jira) pour mettre à jour en temps réel l'avancement des tâches du sprint et faciliter le suivi.\n",
    "\n"
   ]
  },
  {
   "cell_type": "markdown",
   "metadata": {},
   "source": [
    "### 5. Revue et rétrospective de Sprint\n",
    "\n",
    "- **Évaluation des résultats :** À la fin du Sprint, évaluez ce qui a été accompli et présentez les résultats.\n",
    "- **Analyse et ajustements :** Analysez les succès et les défis rencontrés, ajustez la stratégie si nécessaire."
   ]
  },
  {
   "cell_type": "markdown",
   "metadata": {},
   "source": [
    "_🧑🏻‍💻 Votre réponse ici_ "
   ]
  },
  {
   "cell_type": "markdown",
   "metadata": {},
   "source": [
    "Évaluation des Résultats du Sprint\n",
    "1. Présentation des Résultats Accomplis\n",
    "Récapitulatif des Tâches Réalisées :\n",
    "\n",
    "Chargement et Exploration des Données :\n",
    "\n",
    "Le fichier \"global_biodiversity_dataset.csv\" a été importé avec succès.\n",
    "\n",
    "Les premières lignes du dataset ont été affichées, et la structure générale a été identifiée (colonnes, types de données, présence de valeurs manquantes, etc.).\n",
    "\n",
    "Nettoyage des Données et Gestion des Valeurs Aberrantes :\n",
    "\n",
    "Les valeurs manquantes ont été identifiées, et une stratégie d'imputation ou de suppression a été mise en place pour les colonnes critiques.\n",
    "\n",
    "Les doublons ont été détectés et éliminés, garantissant ainsi que les analyses futures reposent sur un dataset fiable.\n",
    "\n",
    "Des méthodes statistiques (par exemple, l'analyse de l’écart interquartile) ont permis de repérer et gérer les valeurs aberrantes, assurant la cohérence des données.\n",
    "\n",
    "Les formats (dates, coordonnées, etc.) ont été standardisés afin de faciliter l'analyse ultérieure.\n",
    "\n",
    "Visualisation Initiale et Synthèse :\n",
    "\n",
    "Des graphiques et des tableaux de synthèse ont permis de visualiser les premiers résultats exploratoires, fournissant une base solide pour les prochains sprints.\n",
    "\n",
    "2. Analyse et Ajustements\n",
    "Succès du Sprint :\n",
    "\n",
    "Le dataset a été correctement importé et exploré, ce qui a permis de mieux comprendre sa structure.\n",
    "\n",
    "Les principaux problèmes de qualité de données (valeurs manquantes, doublons et valeurs aberrantes) ont été identifiés et traités, garantissant ainsi une base de travail fiable.\n",
    "\n",
    "La communication quotidienne par le stand-up a permis de suivre efficacement les progrès et de résoudre rapidement les blocages.\n",
    "\n",
    "Défis et Points d'Amélioration :\n",
    "\n",
    "Certains formats de données (par exemple, les dates et les coordonnées) nécessitaient davantage de temps pour uniformiser et standardiser correctement.\n",
    "\n",
    "Quelques problèmes d’intégration avec des données externes (à venir dans les prochains sprints) ont été anticipés, ce qui pourrait nécessiter des ajustements dans la méthode de fusion des datasets.\n",
    "\n",
    "Une certaine complexité dans la gestion des valeurs aberrantes a été identifiée, et des méthodes plus avancées pourraient être explorées pour améliorer cette étape.\n",
    "\n",
    "Ajustements Stratégiques Proposés :\n",
    "\n",
    "Affinement des Méthodes de Standardisation :\n",
    "Réviser les scripts de nettoyage pour inclure des méthodes robustes de conversion et de validation des formats de données.\n",
    "\n",
    "Documentation des Procédures :\n",
    "Mettre à jour la documentation du sprint en détaillant les techniques utilisées pour gérer les valeurs manquantes, les doublons et les valeurs aberrantes, afin d’assurer la traçabilité pour l’équipe.\n",
    "\n",
    "Planification des Intégrations Futures :\n",
    "Préparer une stratégie détaillée pour l’intégration des données climatiques et environnementales dans le prochain sprint, en anticipant les défis techniques identifiés.\n",
    "\n",
    "Formation et Partage de Connaissances :\n",
    "Organiser une courte séance de révision ou de brainstorming pour partager les bonnes pratiques du nettoyage des données, afin d’optimiser l’approche dans les prochaines itérations.\n",
    "\n"
   ]
  },
  {
   "cell_type": "markdown",
   "metadata": {},
   "source": [
    "### 6. Restitution\n",
    "\n",
    "- **Compte-rendu:** Rédigez un compte-rendu rendant compte des différents aspects du Framework SCRUM appliqués à votre projet fil rouge."
   ]
  },
  {
   "cell_type": "markdown",
   "metadata": {},
   "source": [
    "_🧑🏻‍💻 Votre réponse ici_ "
   ]
  },
  {
   "cell_type": "markdown",
   "metadata": {},
   "source": [
    "1. Définition du Cadre et du Projet\n",
    "Contexte du Projet :\n",
    "Le projet fil rouge porte sur « l’analyse intégrée de l’impact du changement climatique sur la biodiversité mondiale », avec pour ambition d’étudier comment les variables climatiques affectent la distribution et l’abondance des espèces, d’identifier les espèces menacées et d’évaluer la vulnérabilité des écosystèmes. Ce cadre d’analyse a été abordé de manière itérative et incrémentale en s’appuyant sur les principes SCRUM.\n",
    "\n",
    "Adoption de SCRUM :\n",
    "Le choix de SCRUM s’appuie sur sa capacité à organiser le travail en cycles courts (sprints), favorisant une réactivité aux évolutions du projet et la collaboration continue au sein de l’équipe. Cela permet d’adapter la stratégie d’analyse en fonction des apprentissages obtenus à chaque étape du projet.\n",
    "\n",
    "2. Backlog de Produit et Planification\n",
    "Création du Backlog :\n",
    "\n",
    "Le backlog a été construit sous forme de user stories et de tâches spécifiques (exploration, préparation des données, analyses temporelle et spatiale, calcul des indices de biodiversité, etc.).\n",
    "\n",
    "Chaque élément du backlog a été priorisé en fonction de son importance pour atteindre les objectifs globaux du projet.\n",
    "\n",
    "Planification des Sprints :\n",
    "\n",
    "Sprint 1 : Focalisé sur le chargement, l’exploration et le nettoyage des données. Les tâches incluaient l’importation du fichier, l’identification des colonnes, la gestion des valeurs manquantes, la détection des doublons et la standardisation des formats.\n",
    "\n",
    "Sprint 2 : Axé sur l’analyse temporelle, spatiale et l’identification des espèces menacées. Les tâches incluaient la visualisation des tendances de population, la cartographie des données et l’identification des zones critiques.\n",
    "\n",
    "Sprint 3 : Consacré à l’analyse des facteurs environnementaux et à la synthèse des résultats, avec la réalisation de statistiques avancées et la formulation de recommandations pour la conservation.\n",
    "\n",
    "3. Exécution des Sprints et Suivi Quotidien\n",
    "Daily Stand-Up Meetings :\n",
    "\n",
    "Chaque jour, l’équipe se réunit lors de stand-up meetings d’environ 15 minutes pour partager l’avancement : ce qui a été réalisé la veille, ce qui est prévu pour la journée et les éventuels obstacles rencontrés.\n",
    "\n",
    "Ce suivi quotidien permet une communication transparente et rapide, facilitant ainsi l’identification de blocages et la mise en place d’actions correctrices immédiates.\n",
    "\n",
    "Adaptation et Réajustements :\n",
    "\n",
    "L’approche itérative de SCRUM a permis de réajuster les priorités en fonction des retours et des difficultés rencontrées, notamment lors des phases de nettoyage et d’unification des formats de données.\n",
    "\n",
    "À chaque stand-up, l’équipe revoit le backlog et peut décider de réaffecter des ressources ou de modifier l’ordre des tâches pour mieux répondre aux défis émergents.\n",
    "\n",
    "4. Révisions de Sprint et Retrospective\n",
    "Évaluation des Incréments :\n",
    "\n",
    "À la fin de chaque sprint, un rapport d’analyse est produit pour présenter les résultats obtenus : importation et exploration des données pour le Sprint 1, visualisations temporelles et spatiales pour le Sprint 2, et analyses statistiques approfondies pour le Sprint 3.\n",
    "\n",
    "Ces incréments de produit permettent de mesurer l’avancement et de s’assurer que chaque fonctionnalité (ou résultat attendu) est conforme aux objectifs du projet.\n",
    "\n",
    "Réunion de Sprint Review et Rétrospective :\n",
    "\n",
    "La réunion de Sprint Review offre l’opportunité de présenter le travail accompli aux parties prenantes, recueillir leurs retours et identifier les points forts ainsi que les axes d’amélioration.\n",
    "\n",
    "La rétrospective qui suit permet à l’équipe de discuter des succès et des défis rencontrés, d’ajuster la stratégie et d’optimiser les processus pour les prochains cycles. Par exemple, des méthodes de standardisation des formats de données ont été affinées après le premier sprint pour gagner en efficacité.\n",
    "\n",
    "5. Conclusion : Avantages de SCRUM dans Notre Projet\n",
    "L’application du framework SCRUM à notre projet fil rouge a permis de :\n",
    "\n",
    "Structurer le travail en tâches claires et prioritaires grâce à un backlog bien défini.\n",
    "\n",
    "Assurer une communication fluide et continue via des stand-up meetings quotidiens, garantissant ainsi une réactivité face aux imprévus.\n",
    "\n",
    "Livrer des incréments de produit à chaque sprint, facilitant la validation itérative de l’analyse et l’ajustement permanent des stratégies d’investigation.\n",
    "\n",
    "Favoriser une culture d’amélioration continue grâce aux rétrospectives régulières, permettant d’ajuster tant les outils techniques que la coordination d’équipe.\n",
    "\n"
   ]
  },
  {
   "cell_type": "markdown",
   "metadata": {},
   "source": [
    "### 7. Livrables\n",
    "\n",
    "- **Artéfacts SCRUM:** Créez et soumettez les artéfacts SCRUM générés au cours du projet (backlogs, rapports de sprints, etc...).\n",
    "- **Utilisation de Github:** La restitution de ces livrables se fera par Github, en montant (push) vos modifications sur le dépôt qui vous a été attribué par e-mail."
   ]
  },
  {
   "cell_type": "markdown",
   "metadata": {},
   "source": [
    "_🧑🏻‍💻 Votre réponse ici_ "
   ]
  },
  {
   "cell_type": "markdown",
   "metadata": {},
   "source": [
    "Artéfacts SCRUM\n",
    "\n",
    "Product backlog mis à jour.\n",
    "\n",
    "Graphiques et analyses.\n",
    "\n",
    "Présentation finale.\n",
    "\n",
    "Utilisation de GitHub\n",
    "\n",
    "Versionnage des scripts et des rapports via un dépôt GitHub.\n",
    "\n"
   ]
  },
  {
   "cell_type": "markdown",
   "metadata": {},
   "source": [
    "## Conclusion\n",
    "\n",
    "Ce projet vise à vous offrir une expérience concrète dans la gestion de projet agile dans le contexte de la science des données, vous permettant de comprendre l'importance de l'agilité dans le succès des projets Data.\n"
   ]
  }
 ],
 "metadata": {
  "kernelspec": {
   "display_name": "Python 3 (ipykernel)",
   "language": "python",
   "name": "python3"
  },
  "language_info": {
   "codemirror_mode": {
    "name": "ipython",
    "version": 3
   },
   "file_extension": ".py",
   "mimetype": "text/x-python",
   "name": "python",
   "nbconvert_exporter": "python",
   "pygments_lexer": "ipython3",
   "version": "3.11.6"
  }
 },
 "nbformat": 4,
 "nbformat_minor": 4
}
