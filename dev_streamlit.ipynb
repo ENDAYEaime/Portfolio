{
 "cells": [
  {
   "cell_type": "markdown",
   "metadata": {
    "id": "eY6-lLOnFnbt"
   },
   "source": [
    "<div style=\"border: 0px solid blue; padding: 10px;\"><img src=\"https://asset.brandfetch.io/idvDrMBg3m/idgDR62lX4.png\" alt=\"Logo Data Rockstars\" width=\"274\" height=\"80\"><h3 style=\"color: #333;\">🔒 Le contenu de ce document est confidentiel. 📝</h3><p><em>Le contenu de ce document est confidentiel et la copie ou la distribution est interdite.</em> 😶‍🌫️</p><p>📧 Pour toute question, veuillez nous contacter à <a href=\"mailto:contact@datarockstars.ai\">contact@datarockstars.ai</a></p><hr style=\"border-top: 1px solid blue;\"><h1>Le programme du notebook</h1><strong>📖 Au programme</strong><ul><li>Cours guidé sur l'utilisation de la librairie Streamlit.</li></ul><hr style=\"border-top: 1px solid blue;\"><p>🔰 Démarrez en exécutant chaque segment de code un à un et en analysant les résultats affichés.</p><hr style=\"border-top: 1px solid blue;\"><p>A vous de jouer 😎✌️</p></div>\n"
   ]
  },
  {
   "cell_type": "markdown",
   "metadata": {
    "id": "_Aszqx-rFqQG"
   },
   "source": [
    "<div style=\"border:2px solid red; padding: 10px; background-color: #FFF4F8;\">\n",
    "    <p style=\"color: red;\"><strong>⚠️ Soumettre votre challenge à la fin de chaque module ⚠️</strong></p>\n",
    "    <ul>\n",
    "        <li>💾 Avant de soumettre le lab, pensez à bien <strong> télécharger votre Jupyter notebook</strong> en cliquant sur <em>Fichier > Download.</em>.</li>\n",
    "        <li>✏️ Seul le notebook <code>main.ipynb</code> sera sauvegardé et envoyé pour évaluation à vos professeurs. Si vous avez d'autres notebooks, ils ne seront <strong>pas comptabilisés. </strong></li>\n",
    "        <li>🚫 Une fois que vous avez soumis votre travail, vous ne pourrez plus le modifier. Vous aurez cependant, la possibilité de faire une nouvelle tentative autant de fois que souhaité.</li>\n",
    "    </ul>\n",
    "    <p>Assurez-vous de vérifier vos fichiers avant de procéder !</p>\n",
    "</div>"
   ]
  },
  {
   "cell_type": "markdown",
   "metadata": {
    "id": "Gq11nVbkRJNU"
   },
   "source": [
    "Streamlit est une bibliothèque open-source en Python conçue pour faciliter la création d'applications web pour la visualisation de données et le machine learning. Elle permet aux développeurs et aux data scientists de transformer rapidement leurs scripts Python en applications web interactives, sans nécessiter une expérience préalable en développement web. Streamlit se distingue par sa simplicité et son efficacité, permettant de construire des applications en utilisant uniquement des scripts Python, sans avoir à recourir à des technologies web complexes comme JavaScript, HTML ou CSS.\n",
    "\n",
    "Dans son utilisation classique, Streamlit ne s'exécute pas dans un environnement de Notebook tel que Jupyter. Cependant, pour des fins pédagogiques et de démonstration, nous allons l'intégrer dans un Jupyter Notebook à l'aide de la bibliothèque streamlit_jupyter."
   ]
  },
  {
   "cell_type": "markdown",
   "metadata": {
    "id": "VWKz4iwOGElm"
   },
   "source": [
    "# Introduction à Streamlit"
   ]
  },
  {
   "cell_type": "markdown",
   "metadata": {
    "id": "P2gx6M93RHFr"
   },
   "source": [
    "Streamlit est conçue pour la création rapide d'applications web pour la visualisation de données et l'analyse. L'une des caractéristiques distinctives de Streamlit est son modèle d'exécution, qui permet une interaction fluide et rapide. Chaque fois qu'un utilisateur interagit avec un widget dans l'application (comme un bouton, un slider, ou une entrée de texte), tout le script est automatiquement exécuté de nouveau depuis le début. Cela signifie que toute modification de l'interface utilisateur entraîne une mise à jour de l'ensemble de l'application, garantissant ainsi que le contenu affiché est toujours synchronisé avec l'état des widgets.\n",
    "\n",
    "Ce modèle de rechargement complet peut sembler inefficace à première vue, mais Streamlit est optimisé pour le rendre extrêmement rapide. De plus, Streamlit cache intelligemment les résultats de certaines fonctions et données lorsqu'il détecte que les entrées n'ont pas changé, ce qui réduit les calculs inutiles et accélère les temps de réponse.s"
   ]
  },
  {
   "cell_type": "markdown",
   "metadata": {
    "id": "IR9utraMRPgJ"
   },
   "source": [
    "## Installations et imports"
   ]
  },
  {
   "cell_type": "markdown",
   "metadata": {
    "id": "x0om6ENXRTkE"
   },
   "source": [
    "Commençons par installer un paquet intéressant."
   ]
  },
  {
   "cell_type": "code",
   "execution_count": null,
   "metadata": {},
   "outputs": [],
   "source": [
    "!pip install streamlit==1.22.0"
   ]
  },
  {
   "cell_type": "code",
   "execution_count": null,
   "metadata": {
    "id": "9NTqKlDeFlKp"
   },
   "outputs": [],
   "source": [
    "!pip install streamlit_jupyter"
   ]
  },
  {
   "cell_type": "markdown",
   "metadata": {
    "id": "ieApyLZrGlB8"
   },
   "source": [
    "Importons également les librairies qui nous seront utiles."
   ]
  },
  {
   "cell_type": "code",
   "execution_count": null,
   "metadata": {
    "id": "cMjpRWi1F6kY"
   },
   "outputs": [],
   "source": [
    "import streamlit as st\n",
    "import datetime\n",
    "import numpy as np\n",
    "import pandas as pd\n",
    "import matplotlib.pyplot as plt\n",
    "from PIL import Image\n",
    "from streamlit_jupyter import StreamlitPatcher, tqdm\n",
    "\n",
    "# Patch Streamlit pour fonctionner dans un environnement Jupyter\n",
    "StreamlitPatcher().jupyter()"
   ]
  },
  {
   "cell_type": "markdown",
   "metadata": {
    "id": "15I8XvOtGoQi"
   },
   "source": [
    "# Affichage de texte et de données"
   ]
  },
  {
   "cell_type": "markdown",
   "metadata": {
    "id": "qXhn5hcZJWIu"
   },
   "source": [
    "Nous commencerons par montrer comment afficher du texte simple, ce qui est souvent la base de la communication dans une application. Cela inclut les titres, sous-titres et textes ordinaires."
   ]
  },
  {
   "cell_type": "code",
   "execution_count": null,
   "metadata": {
    "colab": {
     "base_uri": "https://localhost:8080/",
     "height": 135
    },
    "id": "J0KxbvSNJWxV",
    "outputId": "498fcfea-a594-499f-b702-9f6aeac2da64"
   },
   "outputs": [],
   "source": [
    "st.title('Bienvenue dans Streamlit!')\n",
    "st.header('Ceci est un sous-titre')\n",
    "st.text('Voici un exemple de texte simple.')"
   ]
  },
  {
   "cell_type": "markdown",
   "metadata": {
    "id": "69izodXEJYGg"
   },
   "source": [
    "Voici maintenant comment afficher des variables, comme des nombres ou des dates. Cela permettra aux utilisateurs de voir comment intégrer des données dynamiques dans leur application."
   ]
  },
  {
   "cell_type": "code",
   "execution_count": null,
   "metadata": {
    "colab": {
     "base_uri": "https://localhost:8080/",
     "height": 110
    },
    "id": "KtYgNitlJfhc",
    "outputId": "606684f5-d15b-4546-b0db-a1bdd1e7e691"
   },
   "outputs": [],
   "source": [
    "# Afficher une variable\n",
    "nombre = 123\n",
    "st.write(\"Afficher une variable numérique:\", nombre)\n",
    "\n",
    "# Afficher la date et l'heure actuelle\n",
    "st.write(\"Date et heure actuelle:\", datetime.datetime.now())"
   ]
  },
  {
   "cell_type": "code",
   "execution_count": null,
   "metadata": {
    "colab": {
     "base_uri": "https://localhost:8080/",
     "height": 184
    },
    "id": "bMFmLM3KGp6K",
    "outputId": "8006007a-bc3f-481a-a073-9d7fcf66fc9f"
   },
   "outputs": [],
   "source": [
    "df = pd.DataFrame({\"A\": [1, 2, 7], \"B\": [3, 4, 8], \"C\": [5, 6, 9]})\n",
    "\n",
    "st.dataframe(df)"
   ]
  },
  {
   "cell_type": "markdown",
   "metadata": {
    "id": "GY8XP71OJxky"
   },
   "source": [
    "Charger et afficher des données depuis un fichier CSV ajoute de l'interactivité à votre application et améliore ainsi l'expérience de l'utilisateur. Voici ci-dessous comment Streamlit rend ça possible (il est possible que le bouton d'upload ne fonctionne pas sur Notebook, auquel cas il faudra le tester à l'aide d'un fichier Python classique)."
   ]
  },
  {
   "cell_type": "code",
   "execution_count": null,
   "metadata": {
    "colab": {
     "base_uri": "https://localhost:8080/",
     "height": 58
    },
    "id": "vZpwtOvMGqYf",
    "outputId": "ec85860b-576a-48cf-827c-0f1084b5ba51"
   },
   "outputs": [],
   "source": [
    "st.subheader('Lire et afficher des données CSV')\n",
    "file = st.file_uploader(\"Téléchargez un fichier CSV\", type=\"csv\")\n",
    "if file is not None:\n",
    "    df_csv = pd.read_csv(file)\n",
    "    st.dataframe(df_csv)"
   ]
  },
  {
   "cell_type": "markdown",
   "metadata": {
    "id": "yfIdlU0aJ3vk"
   },
   "source": [
    "Enfin, Streamlit gère également l'intégration d'images. Cela permet d'enrichir visuellement les applications en ajoutant des supports graphiques (il est possible que le bouton d'upload ne fonctionne pas sur Notebook, auquel cas il faudra le tester à l'aide d'un fichier Python classique)."
   ]
  },
  {
   "cell_type": "code",
   "execution_count": null,
   "metadata": {
    "colab": {
     "base_uri": "https://localhost:8080/",
     "height": 58
    },
    "id": "oWYfvB2wJ4JG",
    "outputId": "0e6df285-a1f6-4ba4-80af-5fb8f79eb836"
   },
   "outputs": [],
   "source": [
    "st.subheader('Lire et afficher des images')\n",
    "image_file = st.file_uploader(\"Choisissez une image\", type=[\"png\", \"jpg\", \"jpeg\"])\n",
    "if image_file is not None:\n",
    "    image = Image.open(image_file)\n",
    "    st.image(image, caption='Image téléchargée')"
   ]
  },
  {
   "cell_type": "markdown",
   "metadata": {
    "id": "3S_lwHlHKk6B"
   },
   "source": [
    "# Widgets"
   ]
  },
  {
   "cell_type": "markdown",
   "metadata": {
    "id": "NhBRsIGeKqys"
   },
   "source": [
    "Concentrons-nous maintenant sur les widgets : ces composants interactifs permettent aux utilisateurs de manipuler les données ou de contrôler le comportement de l'application en temps réel. C'est grâce à ces outils qu'on pourra instaurer des systèmes de filtrage ou de sélection de vues.\n",
    "\n",
    "Il est possible que la plupart des widgets ne s'affichent pas lors de l'exécution de la cellule : pour avoir un aperçu, copiez-collez directement le code dans un fichier Python classique (extension .py) et lancez Streamlit (`streamlit run app.py`)."
   ]
  },
  {
   "cell_type": "markdown",
   "metadata": {
    "id": "_ft1YdTHK5yh"
   },
   "source": [
    "Commençons par explorer le widget le plus simple : le bouton. Un bouton Streamlit peut être utilisé pour exécuter une action lorsque l'utilisateur clique dessus (classiquement)."
   ]
  },
  {
   "cell_type": "code",
   "execution_count": null,
   "metadata": {
    "colab": {
     "base_uri": "https://localhost:8080/",
     "height": 58
    },
    "id": "-zGY1RwSKPyD",
    "outputId": "aaea25b6-eb5e-432a-b216-cce12c0149cd"
   },
   "outputs": [],
   "source": [
    "st.subheader('Widgets en Streamlit: Bouton')\n",
    "\n",
    "if st.button('Cliquez ici'):\n",
    "    st.write('Merci de cliquer!')"
   ]
  },
  {
   "cell_type": "markdown",
   "metadata": {
    "id": "ZsZzDTkiL8FU"
   },
   "source": [
    "Il est également possible d'utiliser des *sliders*, qui permettent aux utilisateurs de sélectionner une valeur numérique sur une plage définie. Ce widget est très utile pour filtrer des données ou ajuster des paramètres."
   ]
  },
  {
   "cell_type": "code",
   "execution_count": null,
   "metadata": {
    "colab": {
     "base_uri": "https://localhost:8080/",
     "height": 64
    },
    "id": "6R3Td8VBMEjI",
    "outputId": "7f4de69d-f9b5-4b44-923d-15ebe52ca83c"
   },
   "outputs": [],
   "source": [
    "age = st.slider(\"Choisissez votre âge\", 0, 100, 25)  # Le dernier paramètre est la valeur par défaut\n",
    "st.write(\"Votre âge est:\", age)"
   ]
  },
  {
   "cell_type": "markdown",
   "metadata": {
    "id": "AXn-l4f2MI6i"
   },
   "source": [
    "Les checkboxes sont des outils pratiques pour permettre aux utilisateurs de sélectionner une ou plusieurs options."
   ]
  },
  {
   "cell_type": "code",
   "execution_count": null,
   "metadata": {
    "colab": {
     "base_uri": "https://localhost:8080/",
     "height": 100,
     "referenced_widgets": [
      "e608acc0591546fd9f21629e4f2304c0",
      "92d7571d2a9c47379b7f4b2a1b996d53",
      "aca826ef9777414892a86a0ed4c8fc6c"
     ]
    },
    "id": "D7-WmxqKMKvi",
    "outputId": "4d8a0e6a-5d21-429a-acec-379c582c7a62"
   },
   "outputs": [],
   "source": [
    "inclure_option = st.checkbox('Inclure une option spéciale')\n",
    "st.write(\"L'option spéciale est :\", \"incluse\" if inclure_option else \"non incluse\")"
   ]
  },
  {
   "cell_type": "markdown",
   "metadata": {
    "id": "lDWd_bkUMU9W"
   },
   "source": [
    "Utilisons maintenant un sélecteur pour choisir parmi plusieurs options dans une liste déroulante. Cela peut être utilisé pour naviguer entre différentes parties de l'application ou filtrer des données."
   ]
  },
  {
   "cell_type": "code",
   "execution_count": null,
   "metadata": {
    "colab": {
     "base_uri": "https://localhost:8080/",
     "height": 100,
     "referenced_widgets": [
      "05ef4a4840b14ad28b03560e771fd0b1",
      "722486645e7546a684c4ceb9cc8cfa4d",
      "9ad5afc1b265406685460f598e9ee541"
     ]
    },
    "id": "aG5HW4QaMUjD",
    "outputId": "81cf7595-c282-49a8-b12c-a947320a733c"
   },
   "outputs": [],
   "source": [
    "# Selectbox pour choisir une option\n",
    "option = st.selectbox(\n",
    "    \"Choisissez une option\",\n",
    "    ['option 1', 'option 2', 'option 3']\n",
    ")\n",
    "st.write('Vous avez choisi :', option)"
   ]
  },
  {
   "cell_type": "markdown",
   "metadata": {
    "id": "bmfPmY08MeD2"
   },
   "source": [
    "L'entrée de texte permet aux utilisateurs de saisir des chaînes de caractères, ce qui est essentiel pour des applications nécessitant des entrées personnalisées comme des recherches ou des configurations."
   ]
  },
  {
   "cell_type": "code",
   "execution_count": null,
   "metadata": {
    "colab": {
     "base_uri": "https://localhost:8080/",
     "height": 89,
     "referenced_widgets": [
      "3bc7b3001c0b41ed87702e0f60339580",
      "28eb1db0ca4d4c728cf78473da4857d9",
      "1ae67adf121e4a278d22249dc17179f2"
     ]
    },
    "id": "aqlt8BXDMebz",
    "outputId": "38e27dd7-baee-4de0-8dff-3360e0842ad1"
   },
   "outputs": [],
   "source": [
    "message = st.text_input('Entrez votre message')\n",
    "st.write('Le message entré est :', message)"
   ]
  },
  {
   "cell_type": "markdown",
   "metadata": {
    "id": "lc6O5BulMjsw"
   },
   "source": [
    "Pour les entrées plus longues, une area de texte est préférable car elle offre plus d'espace."
   ]
  },
  {
   "cell_type": "code",
   "execution_count": null,
   "metadata": {
    "id": "OHBxYCgGMkB2"
   },
   "outputs": [],
   "source": [
    "texte_long = st.text_area(\"Saisissez votre texte ici\")\n",
    "st.write(\"Le texte saisi est:\", texte_long)"
   ]
  },
  {
   "cell_type": "markdown",
   "metadata": {
    "id": "ReF_SlaYMnrc"
   },
   "source": [
    "Les widgets de sélection de date et de temps permettent aux utilisateurs de choisir facilement une date ou une heure."
   ]
  },
  {
   "cell_type": "code",
   "execution_count": null,
   "metadata": {
    "colab": {
     "base_uri": "https://localhost:8080/",
     "height": 158,
     "referenced_widgets": [
      "e0d0e7b5383a4eaf99b4ec127f334248",
      "ab8eeb9455314a648f093c1c456d1cbf",
      "35f57e90dc574081bd0475b1dcd86bd1"
     ]
    },
    "id": "KzmutoLIMn9q",
    "outputId": "d75b1391-22c6-4c4e-aa94-d03b08e60aac"
   },
   "outputs": [],
   "source": [
    "# Date input\n",
    "date = st.date_input(\"Choisissez une date\")\n",
    "st.write(\"La date sélectionnée est:\", date)\n",
    "\n",
    "# Time input\n",
    "heure = st.time_input(\"Choisissez une heure\")\n",
    "st.write(\"L'heure sélectionnée est:\", heure)"
   ]
  },
  {
   "cell_type": "markdown",
   "metadata": {
    "id": "Hv0tgriOM9tp"
   },
   "source": [
    "# Tracé de graphiques"
   ]
  },
  {
   "cell_type": "markdown",
   "metadata": {
    "id": "PnvgJ-XsNFNE"
   },
   "source": [
    "Les graphiques sont des outils essentiels pour la visualisation de données. Ils vous permettent de voir des tendances, des anomalies, des distributions, et bien plus encore. Streamlit facilite l'intégration de graphiques dans vos applications."
   ]
  },
  {
   "cell_type": "markdown",
   "metadata": {
    "id": "BubJichhNK_4"
   },
   "source": [
    "Nous allons commencer avec Matplotlib, une bibliothèque de graphiques très utilisée en Python. Voici comment vous pouvez créer et afficher un simple histogramme."
   ]
  },
  {
   "cell_type": "code",
   "execution_count": null,
   "metadata": {
    "colab": {
     "base_uri": "https://localhost:8080/",
     "height": 488
    },
    "id": "Fy-n1F8zNExN",
    "outputId": "9583b031-4081-4eea-ba80-84d75263712b"
   },
   "outputs": [],
   "source": [
    "st.subheader('Tracer un graphique simple avec Matplotlib')\n",
    "\n",
    "# Générer des données aléatoires\n",
    "data = np.random.randn(100)\n",
    "\n",
    "# Créer un histogramme\n",
    "fig, ax = plt.subplots()\n",
    "ax.hist(data, bins=20)\n",
    "\n",
    "st.pyplot(fig)"
   ]
  },
  {
   "cell_type": "markdown",
   "metadata": {
    "id": "lcughBlMNd-q"
   },
   "source": [
    "Plotly est une autre bibliothèque populaire qui permet de créer des graphiques interactifs. Voici un exemple de création d'un graphique linéaire avec Plotly."
   ]
  },
  {
   "cell_type": "code",
   "execution_count": null,
   "metadata": {
    "colab": {
     "base_uri": "https://localhost:8080/",
     "height": 75
    },
    "id": "CNocHpTLNbjq",
    "outputId": "75cfdaf3-bfe0-4948-93cd-fde71e6eafb0"
   },
   "outputs": [],
   "source": [
    "import plotly.express as px\n",
    "\n",
    "st.subheader('Créer un graphique interactif avec Plotly')\n",
    "\n",
    "# Données pour le graphique\n",
    "df = px.data.gapminder().query(\"country=='Canada'\")\n",
    "\n",
    "# Créer un graphique linéaire\n",
    "fig = px.line(df, x='year', y='lifeExp', title='Espérance de vie au Canada')\n",
    "st.plotly_chart(fig)"
   ]
  },
  {
   "cell_type": "markdown",
   "metadata": {
    "id": "pTApa-hCNf00"
   },
   "source": [
    "# Manipulation de DataFrames"
   ]
  },
  {
   "cell_type": "markdown",
   "metadata": {
    "id": "KD0M1niZN8Pa"
   },
   "source": [
    "Les DataFrames sont essentiels pour gérer des données tabulaires dans Streamlit et son intégration est parfaitement prise en charge. Par exemple, le simple affichage d'un DataFrame se fait à l'aide de ce code très explicite."
   ]
  },
  {
   "cell_type": "code",
   "execution_count": null,
   "metadata": {
    "colab": {
     "base_uri": "https://localhost:8080/",
     "height": 184
    },
    "id": "yM6C1swuOhSt",
    "outputId": "8c4090ca-204e-4a36-cd63-454766d8afee"
   },
   "outputs": [],
   "source": [
    "# Créer et afficher un DataFrame simple\n",
    "st.subheader('DataFrame simple')\n",
    "df_simple = pd.DataFrame({\n",
    "    'A': [1, 2, 3],\n",
    "    'B': [4, 5, 6]\n",
    "})\n",
    "st.dataframe(df_simple)"
   ]
  },
  {
   "cell_type": "markdown",
   "metadata": {
    "id": "vZLuV7e7Ow1I"
   },
   "source": [
    "Il vous sera également possible de filtrer les données à partir des sélections de l'utilisateur (des widgets présentés ci-dessus), ce qui est très utile pour des analyses dynamiques."
   ]
  },
  {
   "cell_type": "code",
   "execution_count": null,
   "metadata": {
    "colab": {
     "base_uri": "https://localhost:8080/",
     "height": 143
    },
    "id": "ueSMIR5hOxGV",
    "outputId": "4247be52-5812-4f51-cf36-d398522c1a9f"
   },
   "outputs": [],
   "source": [
    "# Sélectionner un nombre pour filtrer les données\n",
    "number_to_filter = st.slider('Sélectionnez un nombre pour filtrer la deuxième colonne', min_value=10, max_value=40, value=30)\n",
    "\n",
    "# Filtrer le DataFrame\n",
    "filtered_data = df_simple[df_simple['B'] <= number_to_filter]\n",
    "st.dataframe(filtered_data)"
   ]
  },
  {
   "cell_type": "markdown",
   "metadata": {
    "id": "e0KmudM5PF3m"
   },
   "source": [
    "Et puisque vous êtes capable de filtrer un DataFrame à l'aide des entrées de l'utilisateur, vous êtes également capable de contrôler les données que vos graphiques utilisent pour visualiser une information.\n",
    "\n",
    "Nous commencerons par charger un ensemble de données qui contient des informations sur l'espérance de vie pour différents pays à différentes années."
   ]
  },
  {
   "cell_type": "code",
   "execution_count": null,
   "metadata": {
    "id": "xvqwN6jKPUvF"
   },
   "outputs": [],
   "source": [
    "df = pd.read_csv('https://raw.githubusercontent.com/plotly/datasets/master/gapminderDataFiveYear.csv')"
   ]
  },
  {
   "cell_type": "markdown",
   "metadata": {
    "id": "GvpRy6UmPq59"
   },
   "source": [
    "Ajoutons un widget slider pour permettre à l'utilisateur de sélectionner une année. Cette sélection va déterminer quelles données seront utilisées pour construire l'histogramme."
   ]
  },
  {
   "cell_type": "code",
   "execution_count": null,
   "metadata": {
    "id": "E9KH4ltXPtjv"
   },
   "outputs": [],
   "source": [
    "year = st.slider('Sélectionnez une année', int(df['year'].min()), int(df['year'].max()), int(df['year'].max()))"
   ]
  },
  {
   "cell_type": "markdown",
   "metadata": {
    "id": "q3loXbwMPvM9"
   },
   "source": [
    "Filtrons les données pour ne conserver que celles de l'année sélectionnée."
   ]
  },
  {
   "cell_type": "code",
   "execution_count": null,
   "metadata": {
    "id": "GOCFLz2_PyYk"
   },
   "outputs": [],
   "source": [
    "filtered_data = df[df['year'] == year]"
   ]
  },
  {
   "cell_type": "markdown",
   "metadata": {
    "id": "okIC5mhRPz2k"
   },
   "source": [
    "Utilisons Matplotlib pour créer un histogramme de l'espérance de vie pour l'année sélectionnée."
   ]
  },
  {
   "cell_type": "code",
   "execution_count": null,
   "metadata": {
    "colab": {
     "base_uri": "https://localhost:8080/"
    },
    "id": "taFt2jxEP1Ye",
    "outputId": "17ac77b6-e0ff-4429-9a07-54e14f3d5be1"
   },
   "outputs": [],
   "source": [
    "fig, ax = plt.subplots()\n",
    "ax.hist(filtered_data['lifeExp'], bins=20, color='blue', edgecolor='black')\n",
    "\n",
    "# Ajouter des titres et des étiquettes\n",
    "ax.set_title(f\"Distribution de l'espérance de vie pour l'année {year}\")\n",
    "ax.set_xlabel('Espérance de vie')\n",
    "ax.set_ylabel('Nombre de pays')\n",
    "\n",
    "# Afficher le graphique dans Streamlit\n",
    "st.pyplot(fig)"
   ]
  },
  {
   "cell_type": "markdown",
   "metadata": {
    "id": "298rD7DnP8C_"
   },
   "source": [
    "En réalisant ces étapes, vous êtes en mesure de créer un graphique interactif, réagissant aux interactions de l'utilisateur."
   ]
  },
  {
   "cell_type": "markdown",
   "metadata": {
    "id": "xmcvaiYBS7YZ"
   },
   "source": [
    "# Barre de navigation"
   ]
  },
  {
   "cell_type": "markdown",
   "metadata": {
    "id": "4Af-UynIrxs8"
   },
   "source": [
    "Configurons dans un premier temps une sidebar. Streamlit offre une fonction sidebar qui peut contenir des widgets similaires à ceux du corps principal de l'application."
   ]
  },
  {
   "cell_type": "code",
   "execution_count": null,
   "metadata": {
    "colab": {
     "base_uri": "https://localhost:8080/"
    },
    "id": "kATSYtgES9k4",
    "outputId": "d6fb78c2-15e2-453f-96dd-43a1396009a0"
   },
   "outputs": [],
   "source": [
    "st.sidebar.title(\"Navigation\")"
   ]
  },
  {
   "cell_type": "markdown",
   "metadata": {
    "id": "y7AubEner8i5"
   },
   "source": [
    "Nous utiliserons un widget radio dans la sidebar pour permettre aux utilisateurs de choisir entre différentes pages."
   ]
  },
  {
   "cell_type": "code",
   "execution_count": null,
   "metadata": {
    "id": "ST40EBOVr5SB"
   },
   "outputs": [],
   "source": [
    "option = st.sidebar.radio(\n",
    "    \"Choisissez une page:\",\n",
    "    ('Accueil', 'Exploration de données', 'Visualisation', 'À propos')\n",
    ")"
   ]
  },
  {
   "cell_type": "markdown",
   "metadata": {
    "id": "Zab9TTqHsAah"
   },
   "source": [
    "En fonction de l'option choisie par l'utilisateur, nous afficherons différents contenus. Chaque section peut être personnalisée avec divers widgets et affichages de données."
   ]
  },
  {
   "cell_type": "code",
   "execution_count": null,
   "metadata": {
    "colab": {
     "base_uri": "https://localhost:8080/",
     "height": 90
    },
    "id": "rnFdCKbcsA_3",
    "outputId": "f8b289e9-f043-44aa-f541-5d9f39a15523"
   },
   "outputs": [],
   "source": [
    "if option == 'Accueil':\n",
    "    st.header('Bienvenue sur la page d\\'Accueil!')\n",
    "    st.write('Choisissez une option dans la sidebar pour commencer.')\n",
    "elif option == 'Exploration de données':\n",
    "    st.header('Explorez vos données ici')\n",
    "    st.write('Des widgets pour charger et explorer les données pourront être ajoutés ici.')\n",
    "elif option == 'Visualisation':\n",
    "    st.header('Visualisez vos données')\n",
    "    st.write('Cette section pourrait inclure des graphiques interactifs.')\n",
    "else:\n",
    "    st.header('À propos de cette application')\n",
    "    st.write(\"Écrivez des informations sur l'application et son développeur ici.\")"
   ]
  }
 ],
 "metadata": {
  "colab": {
   "collapsed_sections": [
    "VWKz4iwOGElm",
    "IR9utraMRPgJ",
    "15I8XvOtGoQi",
    "3S_lwHlHKk6B",
    "Hv0tgriOM9tp",
    "pTApa-hCNf00"
   ],
   "provenance": []
  },
  "kernelspec": {
   "display_name": "Python 3 (ipykernel)",
   "language": "python",
   "name": "python3"
  },
  "language_info": {
   "codemirror_mode": {
    "name": "ipython",
    "version": 3
   },
   "file_extension": ".py",
   "mimetype": "text/x-python",
   "name": "python",
   "nbconvert_exporter": "python",
   "pygments_lexer": "ipython3",
   "version": "3.11.6"
  },
  "widgets": {
   "application/vnd.jupyter.widget-state+json": {
    "05ef4a4840b14ad28b03560e771fd0b1": {
     "model_module": "@jupyter-widgets/controls",
     "model_module_version": "1.5.0",
     "model_name": "DropdownModel",
     "state": {
      "_dom_classes": [],
      "_model_module": "@jupyter-widgets/controls",
      "_model_module_version": "1.5.0",
      "_model_name": "DropdownModel",
      "_options_labels": [
       "option 1",
       "option 2",
       "option 3"
      ],
      "_view_count": null,
      "_view_module": "@jupyter-widgets/controls",
      "_view_module_version": "1.5.0",
      "_view_name": "DropdownView",
      "description": "Choisissez une option",
      "description_tooltip": null,
      "disabled": false,
      "index": 1,
      "layout": "IPY_MODEL_722486645e7546a684c4ceb9cc8cfa4d",
      "style": "IPY_MODEL_9ad5afc1b265406685460f598e9ee541"
     }
    },
    "1ae67adf121e4a278d22249dc17179f2": {
     "model_module": "@jupyter-widgets/controls",
     "model_module_version": "1.5.0",
     "model_name": "DescriptionStyleModel",
     "state": {
      "_model_module": "@jupyter-widgets/controls",
      "_model_module_version": "1.5.0",
      "_model_name": "DescriptionStyleModel",
      "_view_count": null,
      "_view_module": "@jupyter-widgets/base",
      "_view_module_version": "1.2.0",
      "_view_name": "StyleView",
      "description_width": ""
     }
    },
    "28eb1db0ca4d4c728cf78473da4857d9": {
     "model_module": "@jupyter-widgets/base",
     "model_module_version": "1.2.0",
     "model_name": "LayoutModel",
     "state": {
      "_model_module": "@jupyter-widgets/base",
      "_model_module_version": "1.2.0",
      "_model_name": "LayoutModel",
      "_view_count": null,
      "_view_module": "@jupyter-widgets/base",
      "_view_module_version": "1.2.0",
      "_view_name": "LayoutView",
      "align_content": null,
      "align_items": null,
      "align_self": null,
      "border": null,
      "bottom": null,
      "display": null,
      "flex": null,
      "flex_flow": null,
      "grid_area": null,
      "grid_auto_columns": null,
      "grid_auto_flow": null,
      "grid_auto_rows": null,
      "grid_column": null,
      "grid_gap": null,
      "grid_row": null,
      "grid_template_areas": null,
      "grid_template_columns": null,
      "grid_template_rows": null,
      "height": null,
      "justify_content": null,
      "justify_items": null,
      "left": null,
      "margin": null,
      "max_height": null,
      "max_width": null,
      "min_height": null,
      "min_width": null,
      "object_fit": null,
      "object_position": null,
      "order": null,
      "overflow": null,
      "overflow_x": null,
      "overflow_y": null,
      "padding": null,
      "right": null,
      "top": null,
      "visibility": null,
      "width": null
     }
    },
    "35f57e90dc574081bd0475b1dcd86bd1": {
     "model_module": "@jupyter-widgets/controls",
     "model_module_version": "1.5.0",
     "model_name": "DescriptionStyleModel",
     "state": {
      "_model_module": "@jupyter-widgets/controls",
      "_model_module_version": "1.5.0",
      "_model_name": "DescriptionStyleModel",
      "_view_count": null,
      "_view_module": "@jupyter-widgets/base",
      "_view_module_version": "1.2.0",
      "_view_name": "StyleView",
      "description_width": ""
     }
    },
    "3bc7b3001c0b41ed87702e0f60339580": {
     "model_module": "@jupyter-widgets/controls",
     "model_module_version": "1.5.0",
     "model_name": "TextareaModel",
     "state": {
      "_dom_classes": [],
      "_model_module": "@jupyter-widgets/controls",
      "_model_module_version": "1.5.0",
      "_model_name": "TextareaModel",
      "_view_count": null,
      "_view_module": "@jupyter-widgets/controls",
      "_view_module_version": "1.5.0",
      "_view_name": "TextareaView",
      "continuous_update": true,
      "description": "Entrez votre message",
      "description_tooltip": null,
      "disabled": false,
      "layout": "IPY_MODEL_28eb1db0ca4d4c728cf78473da4857d9",
      "placeholder": "Type something",
      "rows": null,
      "style": "IPY_MODEL_1ae67adf121e4a278d22249dc17179f2",
      "value": ""
     }
    },
    "722486645e7546a684c4ceb9cc8cfa4d": {
     "model_module": "@jupyter-widgets/base",
     "model_module_version": "1.2.0",
     "model_name": "LayoutModel",
     "state": {
      "_model_module": "@jupyter-widgets/base",
      "_model_module_version": "1.2.0",
      "_model_name": "LayoutModel",
      "_view_count": null,
      "_view_module": "@jupyter-widgets/base",
      "_view_module_version": "1.2.0",
      "_view_name": "LayoutView",
      "align_content": null,
      "align_items": null,
      "align_self": null,
      "border": null,
      "bottom": null,
      "display": null,
      "flex": null,
      "flex_flow": null,
      "grid_area": null,
      "grid_auto_columns": null,
      "grid_auto_flow": null,
      "grid_auto_rows": null,
      "grid_column": null,
      "grid_gap": null,
      "grid_row": null,
      "grid_template_areas": null,
      "grid_template_columns": null,
      "grid_template_rows": null,
      "height": null,
      "justify_content": null,
      "justify_items": null,
      "left": null,
      "margin": null,
      "max_height": null,
      "max_width": null,
      "min_height": null,
      "min_width": null,
      "object_fit": null,
      "object_position": null,
      "order": null,
      "overflow": null,
      "overflow_x": null,
      "overflow_y": null,
      "padding": null,
      "right": null,
      "top": null,
      "visibility": null,
      "width": null
     }
    },
    "92d7571d2a9c47379b7f4b2a1b996d53": {
     "model_module": "@jupyter-widgets/base",
     "model_module_version": "1.2.0",
     "model_name": "LayoutModel",
     "state": {
      "_model_module": "@jupyter-widgets/base",
      "_model_module_version": "1.2.0",
      "_model_name": "LayoutModel",
      "_view_count": null,
      "_view_module": "@jupyter-widgets/base",
      "_view_module_version": "1.2.0",
      "_view_name": "LayoutView",
      "align_content": null,
      "align_items": null,
      "align_self": null,
      "border": null,
      "bottom": null,
      "display": null,
      "flex": null,
      "flex_flow": null,
      "grid_area": null,
      "grid_auto_columns": null,
      "grid_auto_flow": null,
      "grid_auto_rows": null,
      "grid_column": null,
      "grid_gap": null,
      "grid_row": null,
      "grid_template_areas": null,
      "grid_template_columns": null,
      "grid_template_rows": null,
      "height": null,
      "justify_content": null,
      "justify_items": null,
      "left": null,
      "margin": null,
      "max_height": null,
      "max_width": null,
      "min_height": null,
      "min_width": null,
      "object_fit": null,
      "object_position": null,
      "order": null,
      "overflow": null,
      "overflow_x": null,
      "overflow_y": null,
      "padding": null,
      "right": null,
      "top": null,
      "visibility": null,
      "width": null
     }
    },
    "9ad5afc1b265406685460f598e9ee541": {
     "model_module": "@jupyter-widgets/controls",
     "model_module_version": "1.5.0",
     "model_name": "DescriptionStyleModel",
     "state": {
      "_model_module": "@jupyter-widgets/controls",
      "_model_module_version": "1.5.0",
      "_model_name": "DescriptionStyleModel",
      "_view_count": null,
      "_view_module": "@jupyter-widgets/base",
      "_view_module_version": "1.2.0",
      "_view_name": "StyleView",
      "description_width": ""
     }
    },
    "ab8eeb9455314a648f093c1c456d1cbf": {
     "model_module": "@jupyter-widgets/base",
     "model_module_version": "1.2.0",
     "model_name": "LayoutModel",
     "state": {
      "_model_module": "@jupyter-widgets/base",
      "_model_module_version": "1.2.0",
      "_model_name": "LayoutModel",
      "_view_count": null,
      "_view_module": "@jupyter-widgets/base",
      "_view_module_version": "1.2.0",
      "_view_name": "LayoutView",
      "align_content": null,
      "align_items": null,
      "align_self": null,
      "border": null,
      "bottom": null,
      "display": null,
      "flex": null,
      "flex_flow": null,
      "grid_area": null,
      "grid_auto_columns": null,
      "grid_auto_flow": null,
      "grid_auto_rows": null,
      "grid_column": null,
      "grid_gap": null,
      "grid_row": null,
      "grid_template_areas": null,
      "grid_template_columns": null,
      "grid_template_rows": null,
      "height": null,
      "justify_content": null,
      "justify_items": null,
      "left": null,
      "margin": null,
      "max_height": null,
      "max_width": null,
      "min_height": null,
      "min_width": null,
      "object_fit": null,
      "object_position": null,
      "order": null,
      "overflow": null,
      "overflow_x": null,
      "overflow_y": null,
      "padding": null,
      "right": null,
      "top": null,
      "visibility": null,
      "width": null
     }
    },
    "aca826ef9777414892a86a0ed4c8fc6c": {
     "model_module": "@jupyter-widgets/controls",
     "model_module_version": "1.5.0",
     "model_name": "DescriptionStyleModel",
     "state": {
      "_model_module": "@jupyter-widgets/controls",
      "_model_module_version": "1.5.0",
      "_model_name": "DescriptionStyleModel",
      "_view_count": null,
      "_view_module": "@jupyter-widgets/base",
      "_view_module_version": "1.2.0",
      "_view_name": "StyleView",
      "description_width": ""
     }
    },
    "e0d0e7b5383a4eaf99b4ec127f334248": {
     "model_module": "@jupyter-widgets/controls",
     "model_module_version": "1.5.0",
     "model_name": "DatePickerModel",
     "state": {
      "_dom_classes": [],
      "_model_module": "@jupyter-widgets/controls",
      "_model_module_version": "1.5.0",
      "_model_name": "DatePickerModel",
      "_view_count": null,
      "_view_module": "@jupyter-widgets/controls",
      "_view_module_version": "1.5.0",
      "_view_name": "DatePickerView",
      "description": "Choisissez une date",
      "description_tooltip": null,
      "disabled": false,
      "layout": "IPY_MODEL_ab8eeb9455314a648f093c1c456d1cbf",
      "style": "IPY_MODEL_35f57e90dc574081bd0475b1dcd86bd1",
      "value": {
       "date": 14,
       "month": 4,
       "year": 2024
      }
     }
    },
    "e608acc0591546fd9f21629e4f2304c0": {
     "model_module": "@jupyter-widgets/controls",
     "model_module_version": "1.5.0",
     "model_name": "CheckboxModel",
     "state": {
      "_dom_classes": [],
      "_model_module": "@jupyter-widgets/controls",
      "_model_module_version": "1.5.0",
      "_model_name": "CheckboxModel",
      "_view_count": null,
      "_view_module": "@jupyter-widgets/controls",
      "_view_module_version": "1.5.0",
      "_view_name": "CheckboxView",
      "description": "Inclure une option spéciale",
      "description_tooltip": null,
      "disabled": false,
      "indent": false,
      "layout": "IPY_MODEL_92d7571d2a9c47379b7f4b2a1b996d53",
      "style": "IPY_MODEL_aca826ef9777414892a86a0ed4c8fc6c",
      "value": true
     }
    }
   }
  }
 },
 "nbformat": 4,
 "nbformat_minor": 4
}